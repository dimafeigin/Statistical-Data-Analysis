{
 "cells": [
  {
   "cell_type": "markdown",
   "metadata": {},
   "source": [
    "<div style=\"border:solid green 2px; padding: 20px\"> <h1 style=\"color:green; margin-bottom:20px\">Reviewer's comment v1</h1>\n",
    "\n",
    "Hello Dima, my name is Dmitrii. I'm going to review your project! Nice to meet you! 🙌\n",
    "\n",
    "You can find my comments under the heading **«Review»**. I will categorize my comments in green, blue or red boxes like this:\n",
    "\n",
    "<div class=\"alert alert-success\">\n",
    "    <b>Success:</b> if everything is done successfully\n",
    "</div>\n",
    "<div class=\"alert alert-warning\">\n",
    "    <b>Remarks:</b> if I can give some recommendations or ways to improve the project\n",
    "</div>\n",
    "<div class=\"alert alert-danger\">\n",
    "    <b>Needs fixing:</b> if the block requires some corrections. Work can't be accepted with the red comments\n",
    "</div>\n",
    "\n",
    "Please don't remove my comments :) If you have any questions don't hesitate to respond to my comments in a different section. \n",
    "<div class=\"alert alert-info\"> <b>Student comments:</b> For example like this</div>    \n"
   ]
  },
  {
   "cell_type": "markdown",
   "metadata": {},
   "source": [
    "<div style=\"border:solid green 2px; padding: 20px\">\n",
    "<b>Reviewer's comment v1</b>\n",
    "    \n",
    "<b>Overall Feedback</b> \n",
    "    \n",
    "Overall well done! I can see that a lot of effort has been made! Your project already looks really good and you accomplished impressive results.\n",
    "\n",
    "Nevertheless, there are some comments/areas that will help you to make your project even better:\n",
    "\n",
    "- Fix one bug in your code.\n",
    "- Update data rounding for web-traffic.\n",
    "- Extend a little bit your overall conclusions. \n",
    "\n",
    "And of course, if you have any questions along the way, remember that you can always reach out to your tutor for any clarification.\n",
    "</div>"
   ]
  },
  {
   "cell_type": "markdown",
   "metadata": {},
   "source": [
    "<div style=\"border:solid green 2px; padding: 20px\">\n",
    "<b>user updatev1</b>\n",
    "    \n",
    "    i fixed all bugs and comments added more overall conclussion \n",
    "    thank you for good tips\n",
    "</div>"
   ]
  },
  {
   "cell_type": "markdown",
   "metadata": {},
   "source": [
    "<div style=\"border:solid green 2px; padding: 20px\">\n",
    "<b>Reviewer's comment v2:</b>\n",
    "    \n",
    "<b>Overall Feedback</b> \n",
    "    \n",
    "Hi Dima, thank you for submitting your project with all corrections! \n",
    "- Now everything is perfect. No critial issues left, so your project has been accepted! \n",
    "- Wish you cool projects in the next sprints! ☘️\n",
    "    \n",
    "PS: As a last thing, I can recommend cool lectures on stat analysis here: https://www.youtube.com/playlist?list=PL2SOU6wwxB0uwwH80KTQ6ht66KWxbzTIo and amazing article about hypothesis testing in Python - https://towardsdatascience.com/demystifying-hypothesis-testing-with-simple-python-examples-4997ad3c5294 🙌\n",
    "\n",
    "</div>"
   ]
  },
  {
   "cell_type": "markdown",
   "metadata": {},
   "source": [
    "##  Open the data file and study the general information\n"
   ]
  },
  {
   "cell_type": "markdown",
   "metadata": {},
   "source": [
    "<div class=\"alert alert-block alert-warning\">\n",
    "<b>Reviewer's comment v1</b>\n",
    " \n",
    "- It would be great to add additional information about the project goal and tasks. It gives an overview of what you are going to achieve in this project. \n",
    "- Also, this introduction potentially can be used as a Readme file in your portfolio on Github. One example of a nice introduction for a data analysis project can be found here: https://github.com/CICIFLY/Data-Analytics-Projects/blob/master/AB%20Testing%20Result%20Analyze/readme.md\n",
    "</div>"
   ]
  },
  {
   "cell_type": "code",
   "execution_count": 1,
   "metadata": {},
   "outputs": [],
   "source": [
    "import pandas as pd\n",
    "import matplotlib.pyplot as plt\n",
    "import numpy as np\n",
    "from scipy import stats as st \n",
    "from matplotlib.pyplot import figure\n",
    "import statistics\n",
    "\n",
    "%matplotlib inline \n",
    "\n",
    "pd.options.display.float_format= '{:.3f}'.format"
   ]
  },
  {
   "cell_type": "code",
   "execution_count": 2,
   "metadata": {},
   "outputs": [],
   "source": [
    "from functools import reduce"
   ]
  },
  {
   "cell_type": "code",
   "execution_count": 3,
   "metadata": {},
   "outputs": [],
   "source": [
    "df_calls = pd.read_csv('/datasets/megaline_calls.csv')\n",
    "df_internet = pd.read_csv('/datasets/megaline_internet.csv')\n",
    "df_messages = pd.read_csv('/datasets/megaline_messages.csv')\n",
    "megaline_plans = pd.read_csv('/datasets/megaline_plans.csv') \n",
    "megaline_users = pd.read_csv('/datasets/megaline_users.csv')"
   ]
  },
  {
   "cell_type": "code",
   "execution_count": 4,
   "metadata": {},
   "outputs": [
    {
     "data": {
      "text/html": [
       "<div>\n",
       "<style scoped>\n",
       "    .dataframe tbody tr th:only-of-type {\n",
       "        vertical-align: middle;\n",
       "    }\n",
       "\n",
       "    .dataframe tbody tr th {\n",
       "        vertical-align: top;\n",
       "    }\n",
       "\n",
       "    .dataframe thead th {\n",
       "        text-align: right;\n",
       "    }\n",
       "</style>\n",
       "<table border=\"1\" class=\"dataframe\">\n",
       "  <thead>\n",
       "    <tr style=\"text-align: right;\">\n",
       "      <th></th>\n",
       "      <th>id</th>\n",
       "      <th>user_id</th>\n",
       "      <th>call_date</th>\n",
       "      <th>duration</th>\n",
       "    </tr>\n",
       "  </thead>\n",
       "  <tbody>\n",
       "    <tr>\n",
       "      <th>0</th>\n",
       "      <td>1000_93</td>\n",
       "      <td>1000</td>\n",
       "      <td>2018-12-27</td>\n",
       "      <td>8.520</td>\n",
       "    </tr>\n",
       "    <tr>\n",
       "      <th>1</th>\n",
       "      <td>1000_145</td>\n",
       "      <td>1000</td>\n",
       "      <td>2018-12-27</td>\n",
       "      <td>13.660</td>\n",
       "    </tr>\n",
       "    <tr>\n",
       "      <th>2</th>\n",
       "      <td>1000_247</td>\n",
       "      <td>1000</td>\n",
       "      <td>2018-12-27</td>\n",
       "      <td>14.480</td>\n",
       "    </tr>\n",
       "    <tr>\n",
       "      <th>3</th>\n",
       "      <td>1000_309</td>\n",
       "      <td>1000</td>\n",
       "      <td>2018-12-28</td>\n",
       "      <td>5.760</td>\n",
       "    </tr>\n",
       "    <tr>\n",
       "      <th>4</th>\n",
       "      <td>1000_380</td>\n",
       "      <td>1000</td>\n",
       "      <td>2018-12-30</td>\n",
       "      <td>4.220</td>\n",
       "    </tr>\n",
       "  </tbody>\n",
       "</table>\n",
       "</div>"
      ],
      "text/plain": [
       "         id  user_id   call_date  duration\n",
       "0   1000_93     1000  2018-12-27     8.520\n",
       "1  1000_145     1000  2018-12-27    13.660\n",
       "2  1000_247     1000  2018-12-27    14.480\n",
       "3  1000_309     1000  2018-12-28     5.760\n",
       "4  1000_380     1000  2018-12-30     4.220"
      ]
     },
     "execution_count": 4,
     "metadata": {},
     "output_type": "execute_result"
    }
   ],
   "source": [
    "df_calls.head()\n"
   ]
  },
  {
   "cell_type": "code",
   "execution_count": 5,
   "metadata": {},
   "outputs": [
    {
     "name": "stdout",
     "output_type": "stream",
     "text": [
      "<class 'pandas.core.frame.DataFrame'>\n",
      "RangeIndex: 137735 entries, 0 to 137734\n",
      "Data columns (total 4 columns):\n",
      " #   Column     Non-Null Count   Dtype  \n",
      "---  ------     --------------   -----  \n",
      " 0   id         137735 non-null  object \n",
      " 1   user_id    137735 non-null  int64  \n",
      " 2   call_date  137735 non-null  object \n",
      " 3   duration   137735 non-null  float64\n",
      "dtypes: float64(1), int64(1), object(2)\n",
      "memory usage: 4.2+ MB\n"
     ]
    }
   ],
   "source": [
    "df_calls.info()"
   ]
  },
  {
   "cell_type": "code",
   "execution_count": 6,
   "metadata": {},
   "outputs": [
    {
     "data": {
      "text/html": [
       "<div>\n",
       "<style scoped>\n",
       "    .dataframe tbody tr th:only-of-type {\n",
       "        vertical-align: middle;\n",
       "    }\n",
       "\n",
       "    .dataframe tbody tr th {\n",
       "        vertical-align: top;\n",
       "    }\n",
       "\n",
       "    .dataframe thead th {\n",
       "        text-align: right;\n",
       "    }\n",
       "</style>\n",
       "<table border=\"1\" class=\"dataframe\">\n",
       "  <thead>\n",
       "    <tr style=\"text-align: right;\">\n",
       "      <th></th>\n",
       "      <th>user_id</th>\n",
       "      <th>duration</th>\n",
       "    </tr>\n",
       "  </thead>\n",
       "  <tbody>\n",
       "    <tr>\n",
       "      <th>count</th>\n",
       "      <td>137735.000</td>\n",
       "      <td>137735.000</td>\n",
       "    </tr>\n",
       "    <tr>\n",
       "      <th>mean</th>\n",
       "      <td>1247.658</td>\n",
       "      <td>6.746</td>\n",
       "    </tr>\n",
       "    <tr>\n",
       "      <th>std</th>\n",
       "      <td>139.416</td>\n",
       "      <td>5.839</td>\n",
       "    </tr>\n",
       "    <tr>\n",
       "      <th>min</th>\n",
       "      <td>1000.000</td>\n",
       "      <td>0.000</td>\n",
       "    </tr>\n",
       "    <tr>\n",
       "      <th>25%</th>\n",
       "      <td>1128.000</td>\n",
       "      <td>1.290</td>\n",
       "    </tr>\n",
       "    <tr>\n",
       "      <th>50%</th>\n",
       "      <td>1247.000</td>\n",
       "      <td>5.980</td>\n",
       "    </tr>\n",
       "    <tr>\n",
       "      <th>75%</th>\n",
       "      <td>1365.000</td>\n",
       "      <td>10.690</td>\n",
       "    </tr>\n",
       "    <tr>\n",
       "      <th>max</th>\n",
       "      <td>1499.000</td>\n",
       "      <td>37.600</td>\n",
       "    </tr>\n",
       "  </tbody>\n",
       "</table>\n",
       "</div>"
      ],
      "text/plain": [
       "         user_id   duration\n",
       "count 137735.000 137735.000\n",
       "mean    1247.658      6.746\n",
       "std      139.416      5.839\n",
       "min     1000.000      0.000\n",
       "25%     1128.000      1.290\n",
       "50%     1247.000      5.980\n",
       "75%     1365.000     10.690\n",
       "max     1499.000     37.600"
      ]
     },
     "execution_count": 6,
     "metadata": {},
     "output_type": "execute_result"
    }
   ],
   "source": [
    "df_calls.describe()"
   ]
  },
  {
   "cell_type": "code",
   "execution_count": 7,
   "metadata": {},
   "outputs": [
    {
     "data": {
      "text/html": [
       "<div>\n",
       "<style scoped>\n",
       "    .dataframe tbody tr th:only-of-type {\n",
       "        vertical-align: middle;\n",
       "    }\n",
       "\n",
       "    .dataframe tbody tr th {\n",
       "        vertical-align: top;\n",
       "    }\n",
       "\n",
       "    .dataframe thead th {\n",
       "        text-align: right;\n",
       "    }\n",
       "</style>\n",
       "<table border=\"1\" class=\"dataframe\">\n",
       "  <thead>\n",
       "    <tr style=\"text-align: right;\">\n",
       "      <th></th>\n",
       "      <th>id</th>\n",
       "      <th>user_id</th>\n",
       "      <th>session_date</th>\n",
       "      <th>mb_used</th>\n",
       "    </tr>\n",
       "  </thead>\n",
       "  <tbody>\n",
       "    <tr>\n",
       "      <th>0</th>\n",
       "      <td>1000_13</td>\n",
       "      <td>1000</td>\n",
       "      <td>2018-12-29</td>\n",
       "      <td>89.860</td>\n",
       "    </tr>\n",
       "    <tr>\n",
       "      <th>1</th>\n",
       "      <td>1000_204</td>\n",
       "      <td>1000</td>\n",
       "      <td>2018-12-31</td>\n",
       "      <td>0.000</td>\n",
       "    </tr>\n",
       "    <tr>\n",
       "      <th>2</th>\n",
       "      <td>1000_379</td>\n",
       "      <td>1000</td>\n",
       "      <td>2018-12-28</td>\n",
       "      <td>660.400</td>\n",
       "    </tr>\n",
       "    <tr>\n",
       "      <th>3</th>\n",
       "      <td>1000_413</td>\n",
       "      <td>1000</td>\n",
       "      <td>2018-12-26</td>\n",
       "      <td>270.990</td>\n",
       "    </tr>\n",
       "    <tr>\n",
       "      <th>4</th>\n",
       "      <td>1000_442</td>\n",
       "      <td>1000</td>\n",
       "      <td>2018-12-27</td>\n",
       "      <td>880.220</td>\n",
       "    </tr>\n",
       "  </tbody>\n",
       "</table>\n",
       "</div>"
      ],
      "text/plain": [
       "         id  user_id session_date  mb_used\n",
       "0   1000_13     1000   2018-12-29   89.860\n",
       "1  1000_204     1000   2018-12-31    0.000\n",
       "2  1000_379     1000   2018-12-28  660.400\n",
       "3  1000_413     1000   2018-12-26  270.990\n",
       "4  1000_442     1000   2018-12-27  880.220"
      ]
     },
     "execution_count": 7,
     "metadata": {},
     "output_type": "execute_result"
    }
   ],
   "source": [
    "df_internet.head()"
   ]
  },
  {
   "cell_type": "code",
   "execution_count": 8,
   "metadata": {},
   "outputs": [],
   "source": [
    "#df_internet[(df_internet['user_id']==1000)].sum()"
   ]
  },
  {
   "cell_type": "code",
   "execution_count": 9,
   "metadata": {},
   "outputs": [
    {
     "name": "stdout",
     "output_type": "stream",
     "text": [
      "<class 'pandas.core.frame.DataFrame'>\n",
      "RangeIndex: 104825 entries, 0 to 104824\n",
      "Data columns (total 4 columns):\n",
      " #   Column        Non-Null Count   Dtype  \n",
      "---  ------        --------------   -----  \n",
      " 0   id            104825 non-null  object \n",
      " 1   user_id       104825 non-null  int64  \n",
      " 2   session_date  104825 non-null  object \n",
      " 3   mb_used       104825 non-null  float64\n",
      "dtypes: float64(1), int64(1), object(2)\n",
      "memory usage: 3.2+ MB\n"
     ]
    }
   ],
   "source": [
    "df_internet.info()"
   ]
  },
  {
   "cell_type": "code",
   "execution_count": 10,
   "metadata": {},
   "outputs": [
    {
     "data": {
      "text/html": [
       "<div>\n",
       "<style scoped>\n",
       "    .dataframe tbody tr th:only-of-type {\n",
       "        vertical-align: middle;\n",
       "    }\n",
       "\n",
       "    .dataframe tbody tr th {\n",
       "        vertical-align: top;\n",
       "    }\n",
       "\n",
       "    .dataframe thead th {\n",
       "        text-align: right;\n",
       "    }\n",
       "</style>\n",
       "<table border=\"1\" class=\"dataframe\">\n",
       "  <thead>\n",
       "    <tr style=\"text-align: right;\">\n",
       "      <th></th>\n",
       "      <th>id</th>\n",
       "      <th>user_id</th>\n",
       "      <th>message_date</th>\n",
       "    </tr>\n",
       "  </thead>\n",
       "  <tbody>\n",
       "    <tr>\n",
       "      <th>0</th>\n",
       "      <td>1000_125</td>\n",
       "      <td>1000</td>\n",
       "      <td>2018-12-27</td>\n",
       "    </tr>\n",
       "    <tr>\n",
       "      <th>1</th>\n",
       "      <td>1000_160</td>\n",
       "      <td>1000</td>\n",
       "      <td>2018-12-31</td>\n",
       "    </tr>\n",
       "    <tr>\n",
       "      <th>2</th>\n",
       "      <td>1000_223</td>\n",
       "      <td>1000</td>\n",
       "      <td>2018-12-31</td>\n",
       "    </tr>\n",
       "    <tr>\n",
       "      <th>3</th>\n",
       "      <td>1000_251</td>\n",
       "      <td>1000</td>\n",
       "      <td>2018-12-27</td>\n",
       "    </tr>\n",
       "    <tr>\n",
       "      <th>4</th>\n",
       "      <td>1000_255</td>\n",
       "      <td>1000</td>\n",
       "      <td>2018-12-26</td>\n",
       "    </tr>\n",
       "  </tbody>\n",
       "</table>\n",
       "</div>"
      ],
      "text/plain": [
       "         id  user_id message_date\n",
       "0  1000_125     1000   2018-12-27\n",
       "1  1000_160     1000   2018-12-31\n",
       "2  1000_223     1000   2018-12-31\n",
       "3  1000_251     1000   2018-12-27\n",
       "4  1000_255     1000   2018-12-26"
      ]
     },
     "execution_count": 10,
     "metadata": {},
     "output_type": "execute_result"
    }
   ],
   "source": [
    "df_messages.head()"
   ]
  },
  {
   "cell_type": "code",
   "execution_count": 11,
   "metadata": {},
   "outputs": [
    {
     "name": "stdout",
     "output_type": "stream",
     "text": [
      "<class 'pandas.core.frame.DataFrame'>\n",
      "RangeIndex: 76051 entries, 0 to 76050\n",
      "Data columns (total 3 columns):\n",
      " #   Column        Non-Null Count  Dtype \n",
      "---  ------        --------------  ----- \n",
      " 0   id            76051 non-null  object\n",
      " 1   user_id       76051 non-null  int64 \n",
      " 2   message_date  76051 non-null  object\n",
      "dtypes: int64(1), object(2)\n",
      "memory usage: 1.7+ MB\n"
     ]
    }
   ],
   "source": [
    "df_messages.info()"
   ]
  },
  {
   "cell_type": "code",
   "execution_count": 12,
   "metadata": {},
   "outputs": [
    {
     "data": {
      "text/html": [
       "<div>\n",
       "<style scoped>\n",
       "    .dataframe tbody tr th:only-of-type {\n",
       "        vertical-align: middle;\n",
       "    }\n",
       "\n",
       "    .dataframe tbody tr th {\n",
       "        vertical-align: top;\n",
       "    }\n",
       "\n",
       "    .dataframe thead th {\n",
       "        text-align: right;\n",
       "    }\n",
       "</style>\n",
       "<table border=\"1\" class=\"dataframe\">\n",
       "  <thead>\n",
       "    <tr style=\"text-align: right;\">\n",
       "      <th></th>\n",
       "      <th>messages_included</th>\n",
       "      <th>mb_per_month_included</th>\n",
       "      <th>minutes_included</th>\n",
       "      <th>usd_monthly_pay</th>\n",
       "      <th>usd_per_gb</th>\n",
       "      <th>usd_per_message</th>\n",
       "      <th>usd_per_minute</th>\n",
       "      <th>plan_name</th>\n",
       "    </tr>\n",
       "  </thead>\n",
       "  <tbody>\n",
       "    <tr>\n",
       "      <th>0</th>\n",
       "      <td>50</td>\n",
       "      <td>15360</td>\n",
       "      <td>500</td>\n",
       "      <td>20</td>\n",
       "      <td>10</td>\n",
       "      <td>0.030</td>\n",
       "      <td>0.030</td>\n",
       "      <td>surf</td>\n",
       "    </tr>\n",
       "    <tr>\n",
       "      <th>1</th>\n",
       "      <td>1000</td>\n",
       "      <td>30720</td>\n",
       "      <td>3000</td>\n",
       "      <td>70</td>\n",
       "      <td>7</td>\n",
       "      <td>0.010</td>\n",
       "      <td>0.010</td>\n",
       "      <td>ultimate</td>\n",
       "    </tr>\n",
       "  </tbody>\n",
       "</table>\n",
       "</div>"
      ],
      "text/plain": [
       "   messages_included  mb_per_month_included  minutes_included  \\\n",
       "0                 50                  15360               500   \n",
       "1               1000                  30720              3000   \n",
       "\n",
       "   usd_monthly_pay  usd_per_gb  usd_per_message  usd_per_minute plan_name  \n",
       "0               20          10            0.030           0.030      surf  \n",
       "1               70           7            0.010           0.010  ultimate  "
      ]
     },
     "execution_count": 12,
     "metadata": {},
     "output_type": "execute_result"
    }
   ],
   "source": [
    "megaline_plans.head()"
   ]
  },
  {
   "cell_type": "code",
   "execution_count": 13,
   "metadata": {},
   "outputs": [
    {
     "data": {
      "text/html": [
       "<div>\n",
       "<style scoped>\n",
       "    .dataframe tbody tr th:only-of-type {\n",
       "        vertical-align: middle;\n",
       "    }\n",
       "\n",
       "    .dataframe tbody tr th {\n",
       "        vertical-align: top;\n",
       "    }\n",
       "\n",
       "    .dataframe thead th {\n",
       "        text-align: right;\n",
       "    }\n",
       "</style>\n",
       "<table border=\"1\" class=\"dataframe\">\n",
       "  <thead>\n",
       "    <tr style=\"text-align: right;\">\n",
       "      <th></th>\n",
       "      <th>user_id</th>\n",
       "      <th>first_name</th>\n",
       "      <th>last_name</th>\n",
       "      <th>age</th>\n",
       "      <th>city</th>\n",
       "      <th>reg_date</th>\n",
       "      <th>plan</th>\n",
       "      <th>churn_date</th>\n",
       "    </tr>\n",
       "  </thead>\n",
       "  <tbody>\n",
       "    <tr>\n",
       "      <th>0</th>\n",
       "      <td>1000</td>\n",
       "      <td>Anamaria</td>\n",
       "      <td>Bauer</td>\n",
       "      <td>45</td>\n",
       "      <td>Atlanta-Sandy Springs-Roswell, GA MSA</td>\n",
       "      <td>2018-12-24</td>\n",
       "      <td>ultimate</td>\n",
       "      <td>NaN</td>\n",
       "    </tr>\n",
       "    <tr>\n",
       "      <th>1</th>\n",
       "      <td>1001</td>\n",
       "      <td>Mickey</td>\n",
       "      <td>Wilkerson</td>\n",
       "      <td>28</td>\n",
       "      <td>Seattle-Tacoma-Bellevue, WA MSA</td>\n",
       "      <td>2018-08-13</td>\n",
       "      <td>surf</td>\n",
       "      <td>NaN</td>\n",
       "    </tr>\n",
       "    <tr>\n",
       "      <th>2</th>\n",
       "      <td>1002</td>\n",
       "      <td>Carlee</td>\n",
       "      <td>Hoffman</td>\n",
       "      <td>36</td>\n",
       "      <td>Las Vegas-Henderson-Paradise, NV MSA</td>\n",
       "      <td>2018-10-21</td>\n",
       "      <td>surf</td>\n",
       "      <td>NaN</td>\n",
       "    </tr>\n",
       "    <tr>\n",
       "      <th>3</th>\n",
       "      <td>1003</td>\n",
       "      <td>Reynaldo</td>\n",
       "      <td>Jenkins</td>\n",
       "      <td>52</td>\n",
       "      <td>Tulsa, OK MSA</td>\n",
       "      <td>2018-01-28</td>\n",
       "      <td>surf</td>\n",
       "      <td>NaN</td>\n",
       "    </tr>\n",
       "    <tr>\n",
       "      <th>4</th>\n",
       "      <td>1004</td>\n",
       "      <td>Leonila</td>\n",
       "      <td>Thompson</td>\n",
       "      <td>40</td>\n",
       "      <td>Seattle-Tacoma-Bellevue, WA MSA</td>\n",
       "      <td>2018-05-23</td>\n",
       "      <td>surf</td>\n",
       "      <td>NaN</td>\n",
       "    </tr>\n",
       "  </tbody>\n",
       "</table>\n",
       "</div>"
      ],
      "text/plain": [
       "   user_id first_name  last_name  age                                   city  \\\n",
       "0     1000   Anamaria      Bauer   45  Atlanta-Sandy Springs-Roswell, GA MSA   \n",
       "1     1001     Mickey  Wilkerson   28        Seattle-Tacoma-Bellevue, WA MSA   \n",
       "2     1002     Carlee    Hoffman   36   Las Vegas-Henderson-Paradise, NV MSA   \n",
       "3     1003   Reynaldo    Jenkins   52                          Tulsa, OK MSA   \n",
       "4     1004    Leonila   Thompson   40        Seattle-Tacoma-Bellevue, WA MSA   \n",
       "\n",
       "     reg_date      plan churn_date  \n",
       "0  2018-12-24  ultimate        NaN  \n",
       "1  2018-08-13      surf        NaN  \n",
       "2  2018-10-21      surf        NaN  \n",
       "3  2018-01-28      surf        NaN  \n",
       "4  2018-05-23      surf        NaN  "
      ]
     },
     "execution_count": 13,
     "metadata": {},
     "output_type": "execute_result"
    }
   ],
   "source": [
    "megaline_users.head(5)"
   ]
  },
  {
   "cell_type": "code",
   "execution_count": 14,
   "metadata": {},
   "outputs": [],
   "source": [
    "#megaline_users[(megaline_users['user_id']==1001)]"
   ]
  },
  {
   "cell_type": "code",
   "execution_count": 15,
   "metadata": {},
   "outputs": [
    {
     "name": "stdout",
     "output_type": "stream",
     "text": [
      "<class 'pandas.core.frame.DataFrame'>\n",
      "RangeIndex: 500 entries, 0 to 499\n",
      "Data columns (total 8 columns):\n",
      " #   Column      Non-Null Count  Dtype \n",
      "---  ------      --------------  ----- \n",
      " 0   user_id     500 non-null    int64 \n",
      " 1   first_name  500 non-null    object\n",
      " 2   last_name   500 non-null    object\n",
      " 3   age         500 non-null    int64 \n",
      " 4   city        500 non-null    object\n",
      " 5   reg_date    500 non-null    object\n",
      " 6   plan        500 non-null    object\n",
      " 7   churn_date  34 non-null     object\n",
      "dtypes: int64(2), object(6)\n",
      "memory usage: 31.4+ KB\n"
     ]
    }
   ],
   "source": [
    "megaline_users.info()"
   ]
  },
  {
   "cell_type": "markdown",
   "metadata": {},
   "source": [
    "After studying all 4 data frames I found that there was not any missing values or incorrect data jus some wrong data types that I will fix in the next step."
   ]
  },
  {
   "cell_type": "markdown",
   "metadata": {},
   "source": [
    "<div class=\"alert alert-success\">\n",
    "<b>Reviewer's comment v1:</b>\n",
    "    \n",
    "Good start and first view on data! "
   ]
  },
  {
   "cell_type": "markdown",
   "metadata": {},
   "source": [
    "##  Prepare the data\n"
   ]
  },
  {
   "cell_type": "markdown",
   "metadata": {},
   "source": [
    "###  Convert the data to the necessary types"
   ]
  },
  {
   "cell_type": "code",
   "execution_count": 16,
   "metadata": {},
   "outputs": [],
   "source": [
    "df_calls['duration'] = np.ceil(df_calls.duration)\n",
    "df_calls['call_date'] = pd.to_datetime(df_calls['call_date'])\n",
    "df_calls['month'] = df_calls['call_date'].dt.month"
   ]
  },
  {
   "cell_type": "markdown",
   "metadata": {},
   "source": [
    "<div class=\"alert alert-success\">\n",
    "<b>Reviewer's comment v1:</b>\n",
    "    \n",
    "Ok, great job! Good that you did not forget about data rounding. Also, great choice of np.ceil () function :)"
   ]
  },
  {
   "cell_type": "markdown",
   "metadata": {},
   "source": [
    "<div class=\"alert alert-warning\">\n",
    "<b>Reviewer's comment v1:</b>\n",
    "    \n",
    "- I can recomend to use `.head()` `.tail()` `.sample()` methods to show data from big tables, as in other tools it can cause a very long list of rows without formating."
   ]
  },
  {
   "cell_type": "code",
   "execution_count": 17,
   "metadata": {},
   "outputs": [
    {
     "data": {
      "text/html": [
       "<div>\n",
       "<style scoped>\n",
       "    .dataframe tbody tr th:only-of-type {\n",
       "        vertical-align: middle;\n",
       "    }\n",
       "\n",
       "    .dataframe tbody tr th {\n",
       "        vertical-align: top;\n",
       "    }\n",
       "\n",
       "    .dataframe thead th {\n",
       "        text-align: right;\n",
       "    }\n",
       "</style>\n",
       "<table border=\"1\" class=\"dataframe\">\n",
       "  <thead>\n",
       "    <tr style=\"text-align: right;\">\n",
       "      <th></th>\n",
       "      <th>id</th>\n",
       "      <th>user_id</th>\n",
       "      <th>call_date</th>\n",
       "      <th>duration</th>\n",
       "      <th>month</th>\n",
       "    </tr>\n",
       "  </thead>\n",
       "  <tbody>\n",
       "    <tr>\n",
       "      <th>0</th>\n",
       "      <td>1000_93</td>\n",
       "      <td>1000</td>\n",
       "      <td>2018-12-27</td>\n",
       "      <td>9.000</td>\n",
       "      <td>12</td>\n",
       "    </tr>\n",
       "    <tr>\n",
       "      <th>1</th>\n",
       "      <td>1000_145</td>\n",
       "      <td>1000</td>\n",
       "      <td>2018-12-27</td>\n",
       "      <td>14.000</td>\n",
       "      <td>12</td>\n",
       "    </tr>\n",
       "    <tr>\n",
       "      <th>2</th>\n",
       "      <td>1000_247</td>\n",
       "      <td>1000</td>\n",
       "      <td>2018-12-27</td>\n",
       "      <td>15.000</td>\n",
       "      <td>12</td>\n",
       "    </tr>\n",
       "    <tr>\n",
       "      <th>3</th>\n",
       "      <td>1000_309</td>\n",
       "      <td>1000</td>\n",
       "      <td>2018-12-28</td>\n",
       "      <td>6.000</td>\n",
       "      <td>12</td>\n",
       "    </tr>\n",
       "    <tr>\n",
       "      <th>4</th>\n",
       "      <td>1000_380</td>\n",
       "      <td>1000</td>\n",
       "      <td>2018-12-30</td>\n",
       "      <td>5.000</td>\n",
       "      <td>12</td>\n",
       "    </tr>\n",
       "  </tbody>\n",
       "</table>\n",
       "</div>"
      ],
      "text/plain": [
       "         id  user_id  call_date  duration  month\n",
       "0   1000_93     1000 2018-12-27     9.000     12\n",
       "1  1000_145     1000 2018-12-27    14.000     12\n",
       "2  1000_247     1000 2018-12-27    15.000     12\n",
       "3  1000_309     1000 2018-12-28     6.000     12\n",
       "4  1000_380     1000 2018-12-30     5.000     12"
      ]
     },
     "execution_count": 17,
     "metadata": {},
     "output_type": "execute_result"
    }
   ],
   "source": [
    "df_calls.head()"
   ]
  },
  {
   "cell_type": "markdown",
   "metadata": {},
   "source": [
    "<div class=\"alert alert-warning\">\n",
    "<b>Reviewer's comment v1:</b>\n",
    "    \n",
    "Please note that the telecom operator rounds up all traffic values already after data aggregation.\n",
    "\n",
    "`Note: Megaline rounds seconds up to minutes, and megabytes to gigabytes. For web traffic, individual web sessions are not rounded up. Instead, the total for the month is rounded up. If someone uses 1025 megabytes this month, they will be charged for 2 gigabytes.`\n",
    "\n",
    "Can you please update that?    \n",
    "    \n",
    "   \n",
    "One additional minor remark is that you need to divide by 1024 to get GB."
   ]
  },
  {
   "cell_type": "markdown",
   "metadata": {},
   "source": [
    "<div class=\"alert alert-block alert-success\">\n",
    "<b>Reviewer's comment v2</b>\n",
    "\n",
    "Well done, rounding is now correct."
   ]
  },
  {
   "cell_type": "code",
   "execution_count": 18,
   "metadata": {},
   "outputs": [],
   "source": [
    "df_internet['session_date'] = pd.to_datetime(df_internet['session_date'])\n",
    "df_internet['month'] = df_internet['session_date'].dt.month"
   ]
  },
  {
   "cell_type": "code",
   "execution_count": 19,
   "metadata": {},
   "outputs": [
    {
     "data": {
      "text/html": [
       "<div>\n",
       "<style scoped>\n",
       "    .dataframe tbody tr th:only-of-type {\n",
       "        vertical-align: middle;\n",
       "    }\n",
       "\n",
       "    .dataframe tbody tr th {\n",
       "        vertical-align: top;\n",
       "    }\n",
       "\n",
       "    .dataframe thead th {\n",
       "        text-align: right;\n",
       "    }\n",
       "</style>\n",
       "<table border=\"1\" class=\"dataframe\">\n",
       "  <thead>\n",
       "    <tr style=\"text-align: right;\">\n",
       "      <th></th>\n",
       "      <th>user_id</th>\n",
       "      <th>month</th>\n",
       "      <th>mb_used</th>\n",
       "    </tr>\n",
       "  </thead>\n",
       "  <tbody>\n",
       "    <tr>\n",
       "      <th>0</th>\n",
       "      <td>1000</td>\n",
       "      <td>12</td>\n",
       "      <td>1901.470</td>\n",
       "    </tr>\n",
       "    <tr>\n",
       "      <th>1</th>\n",
       "      <td>1001</td>\n",
       "      <td>8</td>\n",
       "      <td>6919.150</td>\n",
       "    </tr>\n",
       "    <tr>\n",
       "      <th>2</th>\n",
       "      <td>1001</td>\n",
       "      <td>9</td>\n",
       "      <td>13314.820</td>\n",
       "    </tr>\n",
       "    <tr>\n",
       "      <th>3</th>\n",
       "      <td>1001</td>\n",
       "      <td>10</td>\n",
       "      <td>22330.490</td>\n",
       "    </tr>\n",
       "    <tr>\n",
       "      <th>4</th>\n",
       "      <td>1001</td>\n",
       "      <td>11</td>\n",
       "      <td>18504.300</td>\n",
       "    </tr>\n",
       "    <tr>\n",
       "      <th>...</th>\n",
       "      <td>...</td>\n",
       "      <td>...</td>\n",
       "      <td>...</td>\n",
       "    </tr>\n",
       "    <tr>\n",
       "      <th>2272</th>\n",
       "      <td>1498</td>\n",
       "      <td>12</td>\n",
       "      <td>23137.690</td>\n",
       "    </tr>\n",
       "    <tr>\n",
       "      <th>2273</th>\n",
       "      <td>1499</td>\n",
       "      <td>9</td>\n",
       "      <td>12984.760</td>\n",
       "    </tr>\n",
       "    <tr>\n",
       "      <th>2274</th>\n",
       "      <td>1499</td>\n",
       "      <td>10</td>\n",
       "      <td>19492.430</td>\n",
       "    </tr>\n",
       "    <tr>\n",
       "      <th>2275</th>\n",
       "      <td>1499</td>\n",
       "      <td>11</td>\n",
       "      <td>16813.830</td>\n",
       "    </tr>\n",
       "    <tr>\n",
       "      <th>2276</th>\n",
       "      <td>1499</td>\n",
       "      <td>12</td>\n",
       "      <td>22059.210</td>\n",
       "    </tr>\n",
       "  </tbody>\n",
       "</table>\n",
       "<p>2277 rows × 3 columns</p>\n",
       "</div>"
      ],
      "text/plain": [
       "      user_id  month   mb_used\n",
       "0        1000     12  1901.470\n",
       "1        1001      8  6919.150\n",
       "2        1001      9 13314.820\n",
       "3        1001     10 22330.490\n",
       "4        1001     11 18504.300\n",
       "...       ...    ...       ...\n",
       "2272     1498     12 23137.690\n",
       "2273     1499      9 12984.760\n",
       "2274     1499     10 19492.430\n",
       "2275     1499     11 16813.830\n",
       "2276     1499     12 22059.210\n",
       "\n",
       "[2277 rows x 3 columns]"
      ]
     },
     "execution_count": 19,
     "metadata": {},
     "output_type": "execute_result"
    }
   ],
   "source": [
    "df_internet_per_user = df_internet.groupby(['user_id', 'month'])['mb_used'].sum()\n",
    "df_internet_per_user = df_internet_per_user.to_frame()\n",
    "df_internet_per_user.reset_index()"
   ]
  },
  {
   "cell_type": "code",
   "execution_count": 20,
   "metadata": {},
   "outputs": [],
   "source": [
    "df_internet_per_user['mb_used'] = df_internet_per_user['mb_used']/1024\n",
    "df_internet_per_user['mb_used'] = np.ceil(df_internet_per_user.mb_used)"
   ]
  },
  {
   "cell_type": "code",
   "execution_count": 21,
   "metadata": {},
   "outputs": [
    {
     "data": {
      "text/html": [
       "<div>\n",
       "<style scoped>\n",
       "    .dataframe tbody tr th:only-of-type {\n",
       "        vertical-align: middle;\n",
       "    }\n",
       "\n",
       "    .dataframe tbody tr th {\n",
       "        vertical-align: top;\n",
       "    }\n",
       "\n",
       "    .dataframe thead th {\n",
       "        text-align: right;\n",
       "    }\n",
       "</style>\n",
       "<table border=\"1\" class=\"dataframe\">\n",
       "  <thead>\n",
       "    <tr style=\"text-align: right;\">\n",
       "      <th></th>\n",
       "      <th></th>\n",
       "      <th>mb_used</th>\n",
       "    </tr>\n",
       "    <tr>\n",
       "      <th>user_id</th>\n",
       "      <th>month</th>\n",
       "      <th></th>\n",
       "    </tr>\n",
       "  </thead>\n",
       "  <tbody>\n",
       "    <tr>\n",
       "      <th>1000</th>\n",
       "      <th>12</th>\n",
       "      <td>2.000</td>\n",
       "    </tr>\n",
       "    <tr>\n",
       "      <th rowspan=\"4\" valign=\"top\">1001</th>\n",
       "      <th>8</th>\n",
       "      <td>7.000</td>\n",
       "    </tr>\n",
       "    <tr>\n",
       "      <th>9</th>\n",
       "      <td>14.000</td>\n",
       "    </tr>\n",
       "    <tr>\n",
       "      <th>10</th>\n",
       "      <td>22.000</td>\n",
       "    </tr>\n",
       "    <tr>\n",
       "      <th>11</th>\n",
       "      <td>19.000</td>\n",
       "    </tr>\n",
       "    <tr>\n",
       "      <th>...</th>\n",
       "      <th>...</th>\n",
       "      <td>...</td>\n",
       "    </tr>\n",
       "    <tr>\n",
       "      <th>1498</th>\n",
       "      <th>12</th>\n",
       "      <td>23.000</td>\n",
       "    </tr>\n",
       "    <tr>\n",
       "      <th rowspan=\"4\" valign=\"top\">1499</th>\n",
       "      <th>9</th>\n",
       "      <td>13.000</td>\n",
       "    </tr>\n",
       "    <tr>\n",
       "      <th>10</th>\n",
       "      <td>20.000</td>\n",
       "    </tr>\n",
       "    <tr>\n",
       "      <th>11</th>\n",
       "      <td>17.000</td>\n",
       "    </tr>\n",
       "    <tr>\n",
       "      <th>12</th>\n",
       "      <td>22.000</td>\n",
       "    </tr>\n",
       "  </tbody>\n",
       "</table>\n",
       "<p>2277 rows × 1 columns</p>\n",
       "</div>"
      ],
      "text/plain": [
       "               mb_used\n",
       "user_id month         \n",
       "1000    12       2.000\n",
       "1001    8        7.000\n",
       "        9       14.000\n",
       "        10      22.000\n",
       "        11      19.000\n",
       "...                ...\n",
       "1498    12      23.000\n",
       "1499    9       13.000\n",
       "        10      20.000\n",
       "        11      17.000\n",
       "        12      22.000\n",
       "\n",
       "[2277 rows x 1 columns]"
      ]
     },
     "execution_count": 21,
     "metadata": {},
     "output_type": "execute_result"
    }
   ],
   "source": [
    "df_internet_per_user"
   ]
  },
  {
   "cell_type": "code",
   "execution_count": 22,
   "metadata": {},
   "outputs": [],
   "source": [
    "df_messages['message_date'] = pd.to_datetime(df_messages['message_date'])\n",
    "df_messages['month'] = df_messages['message_date'].dt.month"
   ]
  },
  {
   "cell_type": "code",
   "execution_count": 23,
   "metadata": {},
   "outputs": [
    {
     "data": {
      "text/html": [
       "<div>\n",
       "<style scoped>\n",
       "    .dataframe tbody tr th:only-of-type {\n",
       "        vertical-align: middle;\n",
       "    }\n",
       "\n",
       "    .dataframe tbody tr th {\n",
       "        vertical-align: top;\n",
       "    }\n",
       "\n",
       "    .dataframe thead th {\n",
       "        text-align: right;\n",
       "    }\n",
       "</style>\n",
       "<table border=\"1\" class=\"dataframe\">\n",
       "  <thead>\n",
       "    <tr style=\"text-align: right;\">\n",
       "      <th></th>\n",
       "      <th>id</th>\n",
       "      <th>user_id</th>\n",
       "      <th>message_date</th>\n",
       "      <th>month</th>\n",
       "    </tr>\n",
       "  </thead>\n",
       "  <tbody>\n",
       "    <tr>\n",
       "      <th>0</th>\n",
       "      <td>1000_125</td>\n",
       "      <td>1000</td>\n",
       "      <td>2018-12-27</td>\n",
       "      <td>12</td>\n",
       "    </tr>\n",
       "    <tr>\n",
       "      <th>1</th>\n",
       "      <td>1000_160</td>\n",
       "      <td>1000</td>\n",
       "      <td>2018-12-31</td>\n",
       "      <td>12</td>\n",
       "    </tr>\n",
       "    <tr>\n",
       "      <th>2</th>\n",
       "      <td>1000_223</td>\n",
       "      <td>1000</td>\n",
       "      <td>2018-12-31</td>\n",
       "      <td>12</td>\n",
       "    </tr>\n",
       "    <tr>\n",
       "      <th>3</th>\n",
       "      <td>1000_251</td>\n",
       "      <td>1000</td>\n",
       "      <td>2018-12-27</td>\n",
       "      <td>12</td>\n",
       "    </tr>\n",
       "    <tr>\n",
       "      <th>4</th>\n",
       "      <td>1000_255</td>\n",
       "      <td>1000</td>\n",
       "      <td>2018-12-26</td>\n",
       "      <td>12</td>\n",
       "    </tr>\n",
       "  </tbody>\n",
       "</table>\n",
       "</div>"
      ],
      "text/plain": [
       "         id  user_id message_date  month\n",
       "0  1000_125     1000   2018-12-27     12\n",
       "1  1000_160     1000   2018-12-31     12\n",
       "2  1000_223     1000   2018-12-31     12\n",
       "3  1000_251     1000   2018-12-27     12\n",
       "4  1000_255     1000   2018-12-26     12"
      ]
     },
     "execution_count": 23,
     "metadata": {},
     "output_type": "execute_result"
    }
   ],
   "source": [
    "df_messages.head()"
   ]
  },
  {
   "cell_type": "code",
   "execution_count": 24,
   "metadata": {},
   "outputs": [],
   "source": [
    "megaline_users['reg_date'] = pd.to_datetime(megaline_users['reg_date'])\n",
    "megaline_users['month'] = megaline_users['reg_date'].dt.month"
   ]
  },
  {
   "cell_type": "markdown",
   "metadata": {},
   "source": [
    "* In the df_calls data frame I rounded up the duration, changed call date to date type and created new column month. In the df_internet data frame we converted MB used to GB used a rounded it up. Then I changed session date to date type and created new column month  same thing on df_messages data frame."
   ]
  },
  {
   "cell_type": "markdown",
   "metadata": {},
   "source": [
    "### Find and eliminate errors in the data"
   ]
  },
  {
   "cell_type": "code",
   "execution_count": 25,
   "metadata": {},
   "outputs": [
    {
     "data": {
      "text/html": [
       "<div>\n",
       "<style scoped>\n",
       "    .dataframe tbody tr th:only-of-type {\n",
       "        vertical-align: middle;\n",
       "    }\n",
       "\n",
       "    .dataframe tbody tr th {\n",
       "        vertical-align: top;\n",
       "    }\n",
       "\n",
       "    .dataframe thead th {\n",
       "        text-align: right;\n",
       "    }\n",
       "</style>\n",
       "<table border=\"1\" class=\"dataframe\">\n",
       "  <thead>\n",
       "    <tr style=\"text-align: right;\">\n",
       "      <th></th>\n",
       "      <th>user_id</th>\n",
       "      <th>duration</th>\n",
       "      <th>month</th>\n",
       "    </tr>\n",
       "  </thead>\n",
       "  <tbody>\n",
       "    <tr>\n",
       "      <th>count</th>\n",
       "      <td>137735.000</td>\n",
       "      <td>137735.000</td>\n",
       "      <td>137735.000</td>\n",
       "    </tr>\n",
       "    <tr>\n",
       "      <th>mean</th>\n",
       "      <td>1247.658</td>\n",
       "      <td>7.147</td>\n",
       "      <td>9.321</td>\n",
       "    </tr>\n",
       "    <tr>\n",
       "      <th>std</th>\n",
       "      <td>139.416</td>\n",
       "      <td>5.954</td>\n",
       "      <td>2.413</td>\n",
       "    </tr>\n",
       "    <tr>\n",
       "      <th>min</th>\n",
       "      <td>1000.000</td>\n",
       "      <td>0.000</td>\n",
       "      <td>1.000</td>\n",
       "    </tr>\n",
       "    <tr>\n",
       "      <th>25%</th>\n",
       "      <td>1128.000</td>\n",
       "      <td>2.000</td>\n",
       "      <td>8.000</td>\n",
       "    </tr>\n",
       "    <tr>\n",
       "      <th>50%</th>\n",
       "      <td>1247.000</td>\n",
       "      <td>6.000</td>\n",
       "      <td>10.000</td>\n",
       "    </tr>\n",
       "    <tr>\n",
       "      <th>75%</th>\n",
       "      <td>1365.000</td>\n",
       "      <td>11.000</td>\n",
       "      <td>11.000</td>\n",
       "    </tr>\n",
       "    <tr>\n",
       "      <th>max</th>\n",
       "      <td>1499.000</td>\n",
       "      <td>38.000</td>\n",
       "      <td>12.000</td>\n",
       "    </tr>\n",
       "  </tbody>\n",
       "</table>\n",
       "</div>"
      ],
      "text/plain": [
       "         user_id   duration      month\n",
       "count 137735.000 137735.000 137735.000\n",
       "mean    1247.658      7.147      9.321\n",
       "std      139.416      5.954      2.413\n",
       "min     1000.000      0.000      1.000\n",
       "25%     1128.000      2.000      8.000\n",
       "50%     1247.000      6.000     10.000\n",
       "75%     1365.000     11.000     11.000\n",
       "max     1499.000     38.000     12.000"
      ]
     },
     "execution_count": 25,
     "metadata": {},
     "output_type": "execute_result"
    }
   ],
   "source": [
    "df_calls.describe()"
   ]
  },
  {
   "cell_type": "code",
   "execution_count": 26,
   "metadata": {},
   "outputs": [
    {
     "data": {
      "text/html": [
       "<div>\n",
       "<style scoped>\n",
       "    .dataframe tbody tr th:only-of-type {\n",
       "        vertical-align: middle;\n",
       "    }\n",
       "\n",
       "    .dataframe tbody tr th {\n",
       "        vertical-align: top;\n",
       "    }\n",
       "\n",
       "    .dataframe thead th {\n",
       "        text-align: right;\n",
       "    }\n",
       "</style>\n",
       "<table border=\"1\" class=\"dataframe\">\n",
       "  <thead>\n",
       "    <tr style=\"text-align: right;\">\n",
       "      <th></th>\n",
       "      <th>id</th>\n",
       "      <th>user_id</th>\n",
       "      <th>call_date</th>\n",
       "      <th>duration</th>\n",
       "      <th>month</th>\n",
       "    </tr>\n",
       "  </thead>\n",
       "  <tbody>\n",
       "    <tr>\n",
       "      <th>19</th>\n",
       "      <td>1001_4</td>\n",
       "      <td>1001</td>\n",
       "      <td>2018-12-05</td>\n",
       "      <td>0.000</td>\n",
       "      <td>12</td>\n",
       "    </tr>\n",
       "    <tr>\n",
       "      <th>25</th>\n",
       "      <td>1001_13</td>\n",
       "      <td>1001</td>\n",
       "      <td>2018-12-24</td>\n",
       "      <td>0.000</td>\n",
       "      <td>12</td>\n",
       "    </tr>\n",
       "    <tr>\n",
       "      <th>31</th>\n",
       "      <td>1001_30</td>\n",
       "      <td>1001</td>\n",
       "      <td>2018-10-17</td>\n",
       "      <td>0.000</td>\n",
       "      <td>10</td>\n",
       "    </tr>\n",
       "    <tr>\n",
       "      <th>32</th>\n",
       "      <td>1001_31</td>\n",
       "      <td>1001</td>\n",
       "      <td>2018-11-03</td>\n",
       "      <td>0.000</td>\n",
       "      <td>11</td>\n",
       "    </tr>\n",
       "    <tr>\n",
       "      <th>34</th>\n",
       "      <td>1001_35</td>\n",
       "      <td>1001</td>\n",
       "      <td>2018-12-21</td>\n",
       "      <td>0.000</td>\n",
       "      <td>12</td>\n",
       "    </tr>\n",
       "    <tr>\n",
       "      <th>...</th>\n",
       "      <td>...</td>\n",
       "      <td>...</td>\n",
       "      <td>...</td>\n",
       "      <td>...</td>\n",
       "      <td>...</td>\n",
       "    </tr>\n",
       "    <tr>\n",
       "      <th>137714</th>\n",
       "      <td>1499_183</td>\n",
       "      <td>1499</td>\n",
       "      <td>2018-11-10</td>\n",
       "      <td>0.000</td>\n",
       "      <td>11</td>\n",
       "    </tr>\n",
       "    <tr>\n",
       "      <th>137715</th>\n",
       "      <td>1499_184</td>\n",
       "      <td>1499</td>\n",
       "      <td>2018-09-15</td>\n",
       "      <td>0.000</td>\n",
       "      <td>9</td>\n",
       "    </tr>\n",
       "    <tr>\n",
       "      <th>137720</th>\n",
       "      <td>1499_189</td>\n",
       "      <td>1499</td>\n",
       "      <td>2018-12-27</td>\n",
       "      <td>0.000</td>\n",
       "      <td>12</td>\n",
       "    </tr>\n",
       "    <tr>\n",
       "      <th>137722</th>\n",
       "      <td>1499_191</td>\n",
       "      <td>1499</td>\n",
       "      <td>2018-12-24</td>\n",
       "      <td>0.000</td>\n",
       "      <td>12</td>\n",
       "    </tr>\n",
       "    <tr>\n",
       "      <th>137725</th>\n",
       "      <td>1499_194</td>\n",
       "      <td>1499</td>\n",
       "      <td>2018-10-31</td>\n",
       "      <td>0.000</td>\n",
       "      <td>10</td>\n",
       "    </tr>\n",
       "  </tbody>\n",
       "</table>\n",
       "<p>26834 rows × 5 columns</p>\n",
       "</div>"
      ],
      "text/plain": [
       "              id  user_id  call_date  duration  month\n",
       "19        1001_4     1001 2018-12-05     0.000     12\n",
       "25       1001_13     1001 2018-12-24     0.000     12\n",
       "31       1001_30     1001 2018-10-17     0.000     10\n",
       "32       1001_31     1001 2018-11-03     0.000     11\n",
       "34       1001_35     1001 2018-12-21     0.000     12\n",
       "...          ...      ...        ...       ...    ...\n",
       "137714  1499_183     1499 2018-11-10     0.000     11\n",
       "137715  1499_184     1499 2018-09-15     0.000      9\n",
       "137720  1499_189     1499 2018-12-27     0.000     12\n",
       "137722  1499_191     1499 2018-12-24     0.000     12\n",
       "137725  1499_194     1499 2018-10-31     0.000     10\n",
       "\n",
       "[26834 rows x 5 columns]"
      ]
     },
     "execution_count": 26,
     "metadata": {},
     "output_type": "execute_result"
    }
   ],
   "source": [
    "df_calls[df_calls['duration']==0]"
   ]
  },
  {
   "cell_type": "code",
   "execution_count": 27,
   "metadata": {},
   "outputs": [
    {
     "data": {
      "text/plain": [
       "0.1948233927469416"
      ]
     },
     "execution_count": 27,
     "metadata": {},
     "output_type": "execute_result"
    }
   ],
   "source": [
    "len(df_calls[df_calls['duration']==0])/len(df_calls)"
   ]
  },
  {
   "cell_type": "code",
   "execution_count": 28,
   "metadata": {},
   "outputs": [
    {
     "data": {
      "text/html": [
       "<div>\n",
       "<style scoped>\n",
       "    .dataframe tbody tr th:only-of-type {\n",
       "        vertical-align: middle;\n",
       "    }\n",
       "\n",
       "    .dataframe tbody tr th {\n",
       "        vertical-align: top;\n",
       "    }\n",
       "\n",
       "    .dataframe thead th {\n",
       "        text-align: right;\n",
       "    }\n",
       "</style>\n",
       "<table border=\"1\" class=\"dataframe\">\n",
       "  <thead>\n",
       "    <tr style=\"text-align: right;\">\n",
       "      <th></th>\n",
       "      <th>user_id</th>\n",
       "      <th>mb_used</th>\n",
       "      <th>month</th>\n",
       "    </tr>\n",
       "  </thead>\n",
       "  <tbody>\n",
       "    <tr>\n",
       "      <th>count</th>\n",
       "      <td>104825.000</td>\n",
       "      <td>104825.000</td>\n",
       "      <td>104825.000</td>\n",
       "    </tr>\n",
       "    <tr>\n",
       "      <th>mean</th>\n",
       "      <td>1242.496</td>\n",
       "      <td>366.714</td>\n",
       "      <td>9.343</td>\n",
       "    </tr>\n",
       "    <tr>\n",
       "      <th>std</th>\n",
       "      <td>142.054</td>\n",
       "      <td>277.171</td>\n",
       "      <td>2.400</td>\n",
       "    </tr>\n",
       "    <tr>\n",
       "      <th>min</th>\n",
       "      <td>1000.000</td>\n",
       "      <td>0.000</td>\n",
       "      <td>1.000</td>\n",
       "    </tr>\n",
       "    <tr>\n",
       "      <th>25%</th>\n",
       "      <td>1122.000</td>\n",
       "      <td>136.080</td>\n",
       "      <td>8.000</td>\n",
       "    </tr>\n",
       "    <tr>\n",
       "      <th>50%</th>\n",
       "      <td>1236.000</td>\n",
       "      <td>343.980</td>\n",
       "      <td>10.000</td>\n",
       "    </tr>\n",
       "    <tr>\n",
       "      <th>75%</th>\n",
       "      <td>1367.000</td>\n",
       "      <td>554.610</td>\n",
       "      <td>11.000</td>\n",
       "    </tr>\n",
       "    <tr>\n",
       "      <th>max</th>\n",
       "      <td>1499.000</td>\n",
       "      <td>1693.470</td>\n",
       "      <td>12.000</td>\n",
       "    </tr>\n",
       "  </tbody>\n",
       "</table>\n",
       "</div>"
      ],
      "text/plain": [
       "         user_id    mb_used      month\n",
       "count 104825.000 104825.000 104825.000\n",
       "mean    1242.496    366.714      9.343\n",
       "std      142.054    277.171      2.400\n",
       "min     1000.000      0.000      1.000\n",
       "25%     1122.000    136.080      8.000\n",
       "50%     1236.000    343.980     10.000\n",
       "75%     1367.000    554.610     11.000\n",
       "max     1499.000   1693.470     12.000"
      ]
     },
     "execution_count": 28,
     "metadata": {},
     "output_type": "execute_result"
    }
   ],
   "source": [
    "df_internet.describe()"
   ]
  },
  {
   "cell_type": "code",
   "execution_count": 29,
   "metadata": {},
   "outputs": [],
   "source": [
    "#df_internet[df_internet['mb_used']==0]"
   ]
  },
  {
   "cell_type": "code",
   "execution_count": 30,
   "metadata": {},
   "outputs": [
    {
     "data": {
      "text/plain": [
       "0.1311423801574052"
      ]
     },
     "execution_count": 30,
     "metadata": {},
     "output_type": "execute_result"
    }
   ],
   "source": [
    "len(df_internet[df_internet['mb_used']==0])/len(df_internet)"
   ]
  },
  {
   "cell_type": "markdown",
   "metadata": {},
   "source": [
    "I found 2errors 1 is that some users have 0 value on call duration and 2 is some users have 0 value on internet usage and I decided to leave them as is because first error is almost 20%of a data and 2 error is 13% it is too much data to loose and still they will be charged for a plan.  "
   ]
  },
  {
   "cell_type": "markdown",
   "metadata": {},
   "source": [
    "<div class=\"alert alert-success\">\n",
    "<b>Reviewer's comment v1:</b>\n",
    "    \n",
    "Great that you've added a solution for zero-based sessions.\n",
    "\n",
    "On a real project, of course, you can always find out the reason for such zeros. But in this case, it is enough to consider the alternatives and the impact of each decision.\n",
    "    \n",
    "But overall it is very useful to always check the numerical data. Sometimes it is difficult due to a large amount of data, but after that, we have an idea of the data quality and existent issues with the data. You can easily check this data, for example, by creating histograms."
   ]
  },
  {
   "cell_type": "markdown",
   "metadata": {},
   "source": []
  },
  {
   "cell_type": "markdown",
   "metadata": {},
   "source": [
    "### For each user, find"
   ]
  },
  {
   "cell_type": "code",
   "execution_count": 31,
   "metadata": {},
   "outputs": [],
   "source": [
    "df_calls_per_user = df_calls.groupby(['user_id', 'month'])['duration'].sum()\n",
    "df_calls_per_user = df_calls_per_user.to_frame()\n",
    "\n",
    "df_messages_per_user = df_messages.groupby(['user_id','month'])['id'].count()\n",
    "df_messages_per_user = df_messages_per_user.to_frame()\n",
    "\n",
    "\n",
    "megaline_users_per_plan = megaline_users.groupby(['user_id', 'month'])['plan'].sum()\n",
    "megaline_users_per_plan = megaline_users_per_plan.to_frame()\n",
    "\n",
    "\n"
   ]
  },
  {
   "cell_type": "markdown",
   "metadata": {},
   "source": [
    "* The number of calls made and minutes used per month"
   ]
  },
  {
   "cell_type": "code",
   "execution_count": 32,
   "metadata": {},
   "outputs": [
    {
     "data": {
      "text/html": [
       "<div>\n",
       "<style scoped>\n",
       "    .dataframe tbody tr th:only-of-type {\n",
       "        vertical-align: middle;\n",
       "    }\n",
       "\n",
       "    .dataframe tbody tr th {\n",
       "        vertical-align: top;\n",
       "    }\n",
       "\n",
       "    .dataframe thead th {\n",
       "        text-align: right;\n",
       "    }\n",
       "</style>\n",
       "<table border=\"1\" class=\"dataframe\">\n",
       "  <thead>\n",
       "    <tr style=\"text-align: right;\">\n",
       "      <th></th>\n",
       "      <th></th>\n",
       "      <th>duration</th>\n",
       "    </tr>\n",
       "    <tr>\n",
       "      <th>user_id</th>\n",
       "      <th>month</th>\n",
       "      <th></th>\n",
       "    </tr>\n",
       "  </thead>\n",
       "  <tbody>\n",
       "    <tr>\n",
       "      <th>1000</th>\n",
       "      <th>12</th>\n",
       "      <td>124.000</td>\n",
       "    </tr>\n",
       "    <tr>\n",
       "      <th rowspan=\"4\" valign=\"top\">1001</th>\n",
       "      <th>8</th>\n",
       "      <td>182.000</td>\n",
       "    </tr>\n",
       "    <tr>\n",
       "      <th>9</th>\n",
       "      <td>315.000</td>\n",
       "    </tr>\n",
       "    <tr>\n",
       "      <th>10</th>\n",
       "      <td>393.000</td>\n",
       "    </tr>\n",
       "    <tr>\n",
       "      <th>11</th>\n",
       "      <td>426.000</td>\n",
       "    </tr>\n",
       "    <tr>\n",
       "      <th>...</th>\n",
       "      <th>...</th>\n",
       "      <td>...</td>\n",
       "    </tr>\n",
       "    <tr>\n",
       "      <th>1498</th>\n",
       "      <th>12</th>\n",
       "      <td>339.000</td>\n",
       "    </tr>\n",
       "    <tr>\n",
       "      <th rowspan=\"4\" valign=\"top\">1499</th>\n",
       "      <th>9</th>\n",
       "      <td>346.000</td>\n",
       "    </tr>\n",
       "    <tr>\n",
       "      <th>10</th>\n",
       "      <td>385.000</td>\n",
       "    </tr>\n",
       "    <tr>\n",
       "      <th>11</th>\n",
       "      <td>308.000</td>\n",
       "    </tr>\n",
       "    <tr>\n",
       "      <th>12</th>\n",
       "      <td>496.000</td>\n",
       "    </tr>\n",
       "  </tbody>\n",
       "</table>\n",
       "<p>2258 rows × 1 columns</p>\n",
       "</div>"
      ],
      "text/plain": [
       "               duration\n",
       "user_id month          \n",
       "1000    12      124.000\n",
       "1001    8       182.000\n",
       "        9       315.000\n",
       "        10      393.000\n",
       "        11      426.000\n",
       "...                 ...\n",
       "1498    12      339.000\n",
       "1499    9       346.000\n",
       "        10      385.000\n",
       "        11      308.000\n",
       "        12      496.000\n",
       "\n",
       "[2258 rows x 1 columns]"
      ]
     },
     "execution_count": 32,
     "metadata": {},
     "output_type": "execute_result"
    }
   ],
   "source": [
    "df_calls_per_user"
   ]
  },
  {
   "cell_type": "markdown",
   "metadata": {},
   "source": [
    "* The number of text messages sent per month\n"
   ]
  },
  {
   "cell_type": "code",
   "execution_count": 33,
   "metadata": {},
   "outputs": [
    {
     "data": {
      "text/html": [
       "<div>\n",
       "<style scoped>\n",
       "    .dataframe tbody tr th:only-of-type {\n",
       "        vertical-align: middle;\n",
       "    }\n",
       "\n",
       "    .dataframe tbody tr th {\n",
       "        vertical-align: top;\n",
       "    }\n",
       "\n",
       "    .dataframe thead th {\n",
       "        text-align: right;\n",
       "    }\n",
       "</style>\n",
       "<table border=\"1\" class=\"dataframe\">\n",
       "  <thead>\n",
       "    <tr style=\"text-align: right;\">\n",
       "      <th></th>\n",
       "      <th></th>\n",
       "      <th>id</th>\n",
       "    </tr>\n",
       "    <tr>\n",
       "      <th>user_id</th>\n",
       "      <th>month</th>\n",
       "      <th></th>\n",
       "    </tr>\n",
       "  </thead>\n",
       "  <tbody>\n",
       "    <tr>\n",
       "      <th>1000</th>\n",
       "      <th>12</th>\n",
       "      <td>11</td>\n",
       "    </tr>\n",
       "    <tr>\n",
       "      <th rowspan=\"4\" valign=\"top\">1001</th>\n",
       "      <th>8</th>\n",
       "      <td>30</td>\n",
       "    </tr>\n",
       "    <tr>\n",
       "      <th>9</th>\n",
       "      <td>44</td>\n",
       "    </tr>\n",
       "    <tr>\n",
       "      <th>10</th>\n",
       "      <td>53</td>\n",
       "    </tr>\n",
       "    <tr>\n",
       "      <th>11</th>\n",
       "      <td>36</td>\n",
       "    </tr>\n",
       "    <tr>\n",
       "      <th>...</th>\n",
       "      <th>...</th>\n",
       "      <td>...</td>\n",
       "    </tr>\n",
       "    <tr>\n",
       "      <th rowspan=\"4\" valign=\"top\">1496</th>\n",
       "      <th>9</th>\n",
       "      <td>21</td>\n",
       "    </tr>\n",
       "    <tr>\n",
       "      <th>10</th>\n",
       "      <td>18</td>\n",
       "    </tr>\n",
       "    <tr>\n",
       "      <th>11</th>\n",
       "      <td>13</td>\n",
       "    </tr>\n",
       "    <tr>\n",
       "      <th>12</th>\n",
       "      <td>11</td>\n",
       "    </tr>\n",
       "    <tr>\n",
       "      <th>1497</th>\n",
       "      <th>12</th>\n",
       "      <td>50</td>\n",
       "    </tr>\n",
       "  </tbody>\n",
       "</table>\n",
       "<p>1806 rows × 1 columns</p>\n",
       "</div>"
      ],
      "text/plain": [
       "               id\n",
       "user_id month    \n",
       "1000    12     11\n",
       "1001    8      30\n",
       "        9      44\n",
       "        10     53\n",
       "        11     36\n",
       "...            ..\n",
       "1496    9      21\n",
       "        10     18\n",
       "        11     13\n",
       "        12     11\n",
       "1497    12     50\n",
       "\n",
       "[1806 rows x 1 columns]"
      ]
     },
     "execution_count": 33,
     "metadata": {},
     "output_type": "execute_result"
    }
   ],
   "source": [
    "df_messages_per_user"
   ]
  },
  {
   "cell_type": "markdown",
   "metadata": {},
   "source": [
    " * The volume of data per month"
   ]
  },
  {
   "cell_type": "code",
   "execution_count": 34,
   "metadata": {
    "scrolled": true
   },
   "outputs": [
    {
     "data": {
      "text/html": [
       "<div>\n",
       "<style scoped>\n",
       "    .dataframe tbody tr th:only-of-type {\n",
       "        vertical-align: middle;\n",
       "    }\n",
       "\n",
       "    .dataframe tbody tr th {\n",
       "        vertical-align: top;\n",
       "    }\n",
       "\n",
       "    .dataframe thead th {\n",
       "        text-align: right;\n",
       "    }\n",
       "</style>\n",
       "<table border=\"1\" class=\"dataframe\">\n",
       "  <thead>\n",
       "    <tr style=\"text-align: right;\">\n",
       "      <th></th>\n",
       "      <th></th>\n",
       "      <th>mb_used</th>\n",
       "    </tr>\n",
       "    <tr>\n",
       "      <th>user_id</th>\n",
       "      <th>month</th>\n",
       "      <th></th>\n",
       "    </tr>\n",
       "  </thead>\n",
       "  <tbody>\n",
       "    <tr>\n",
       "      <th>1000</th>\n",
       "      <th>12</th>\n",
       "      <td>2.000</td>\n",
       "    </tr>\n",
       "    <tr>\n",
       "      <th rowspan=\"4\" valign=\"top\">1001</th>\n",
       "      <th>8</th>\n",
       "      <td>7.000</td>\n",
       "    </tr>\n",
       "    <tr>\n",
       "      <th>9</th>\n",
       "      <td>14.000</td>\n",
       "    </tr>\n",
       "    <tr>\n",
       "      <th>10</th>\n",
       "      <td>22.000</td>\n",
       "    </tr>\n",
       "    <tr>\n",
       "      <th>11</th>\n",
       "      <td>19.000</td>\n",
       "    </tr>\n",
       "    <tr>\n",
       "      <th>...</th>\n",
       "      <th>...</th>\n",
       "      <td>...</td>\n",
       "    </tr>\n",
       "    <tr>\n",
       "      <th>1498</th>\n",
       "      <th>12</th>\n",
       "      <td>23.000</td>\n",
       "    </tr>\n",
       "    <tr>\n",
       "      <th rowspan=\"4\" valign=\"top\">1499</th>\n",
       "      <th>9</th>\n",
       "      <td>13.000</td>\n",
       "    </tr>\n",
       "    <tr>\n",
       "      <th>10</th>\n",
       "      <td>20.000</td>\n",
       "    </tr>\n",
       "    <tr>\n",
       "      <th>11</th>\n",
       "      <td>17.000</td>\n",
       "    </tr>\n",
       "    <tr>\n",
       "      <th>12</th>\n",
       "      <td>22.000</td>\n",
       "    </tr>\n",
       "  </tbody>\n",
       "</table>\n",
       "<p>2277 rows × 1 columns</p>\n",
       "</div>"
      ],
      "text/plain": [
       "               mb_used\n",
       "user_id month         \n",
       "1000    12       2.000\n",
       "1001    8        7.000\n",
       "        9       14.000\n",
       "        10      22.000\n",
       "        11      19.000\n",
       "...                ...\n",
       "1498    12      23.000\n",
       "1499    9       13.000\n",
       "        10      20.000\n",
       "        11      17.000\n",
       "        12      22.000\n",
       "\n",
       "[2277 rows x 1 columns]"
      ]
     },
     "execution_count": 34,
     "metadata": {},
     "output_type": "execute_result"
    }
   ],
   "source": [
    "df_internet_per_user"
   ]
  },
  {
   "cell_type": "code",
   "execution_count": 35,
   "metadata": {},
   "outputs": [
    {
     "data": {
      "text/html": [
       "<div>\n",
       "<style scoped>\n",
       "    .dataframe tbody tr th:only-of-type {\n",
       "        vertical-align: middle;\n",
       "    }\n",
       "\n",
       "    .dataframe tbody tr th {\n",
       "        vertical-align: top;\n",
       "    }\n",
       "\n",
       "    .dataframe thead th {\n",
       "        text-align: right;\n",
       "    }\n",
       "</style>\n",
       "<table border=\"1\" class=\"dataframe\">\n",
       "  <thead>\n",
       "    <tr style=\"text-align: right;\">\n",
       "      <th></th>\n",
       "      <th></th>\n",
       "      <th>plan</th>\n",
       "    </tr>\n",
       "    <tr>\n",
       "      <th>user_id</th>\n",
       "      <th>month</th>\n",
       "      <th></th>\n",
       "    </tr>\n",
       "  </thead>\n",
       "  <tbody>\n",
       "    <tr>\n",
       "      <th>1000</th>\n",
       "      <th>12</th>\n",
       "      <td>ultimate</td>\n",
       "    </tr>\n",
       "    <tr>\n",
       "      <th>1001</th>\n",
       "      <th>8</th>\n",
       "      <td>surf</td>\n",
       "    </tr>\n",
       "    <tr>\n",
       "      <th>1002</th>\n",
       "      <th>10</th>\n",
       "      <td>surf</td>\n",
       "    </tr>\n",
       "    <tr>\n",
       "      <th>1003</th>\n",
       "      <th>1</th>\n",
       "      <td>surf</td>\n",
       "    </tr>\n",
       "    <tr>\n",
       "      <th>1004</th>\n",
       "      <th>5</th>\n",
       "      <td>surf</td>\n",
       "    </tr>\n",
       "    <tr>\n",
       "      <th>...</th>\n",
       "      <th>...</th>\n",
       "      <td>...</td>\n",
       "    </tr>\n",
       "    <tr>\n",
       "      <th>1495</th>\n",
       "      <th>9</th>\n",
       "      <td>surf</td>\n",
       "    </tr>\n",
       "    <tr>\n",
       "      <th>1496</th>\n",
       "      <th>2</th>\n",
       "      <td>surf</td>\n",
       "    </tr>\n",
       "    <tr>\n",
       "      <th>1497</th>\n",
       "      <th>12</th>\n",
       "      <td>ultimate</td>\n",
       "    </tr>\n",
       "    <tr>\n",
       "      <th>1498</th>\n",
       "      <th>2</th>\n",
       "      <td>surf</td>\n",
       "    </tr>\n",
       "    <tr>\n",
       "      <th>1499</th>\n",
       "      <th>5</th>\n",
       "      <td>surf</td>\n",
       "    </tr>\n",
       "  </tbody>\n",
       "</table>\n",
       "<p>500 rows × 1 columns</p>\n",
       "</div>"
      ],
      "text/plain": [
       "                   plan\n",
       "user_id month          \n",
       "1000    12     ultimate\n",
       "1001    8          surf\n",
       "1002    10         surf\n",
       "1003    1          surf\n",
       "1004    5          surf\n",
       "...                 ...\n",
       "1495    9          surf\n",
       "1496    2          surf\n",
       "1497    12     ultimate\n",
       "1498    2          surf\n",
       "1499    5          surf\n",
       "\n",
       "[500 rows x 1 columns]"
      ]
     },
     "execution_count": 35,
     "metadata": {},
     "output_type": "execute_result"
    }
   ],
   "source": [
    "megaline_users_per_plan"
   ]
  },
  {
   "cell_type": "markdown",
   "metadata": {},
   "source": [
    "#### merging"
   ]
  },
  {
   "cell_type": "code",
   "execution_count": 36,
   "metadata": {},
   "outputs": [],
   "source": [
    "call_group = df_calls_per_user\n",
    "mess_group = df_messages_per_user\n",
    "data_group = df_internet_per_user\n",
    "megaline_group = megaline_users_per_plan "
   ]
  },
  {
   "cell_type": "code",
   "execution_count": 37,
   "metadata": {},
   "outputs": [
    {
     "name": "stdout",
     "output_type": "stream",
     "text": [
      "2258\n"
     ]
    },
    {
     "data": {
      "text/html": [
       "<div>\n",
       "<style scoped>\n",
       "    .dataframe tbody tr th:only-of-type {\n",
       "        vertical-align: middle;\n",
       "    }\n",
       "\n",
       "    .dataframe tbody tr th {\n",
       "        vertical-align: top;\n",
       "    }\n",
       "\n",
       "    .dataframe thead th {\n",
       "        text-align: right;\n",
       "    }\n",
       "</style>\n",
       "<table border=\"1\" class=\"dataframe\">\n",
       "  <thead>\n",
       "    <tr style=\"text-align: right;\">\n",
       "      <th></th>\n",
       "      <th></th>\n",
       "      <th>duration</th>\n",
       "    </tr>\n",
       "    <tr>\n",
       "      <th>user_id</th>\n",
       "      <th>month</th>\n",
       "      <th></th>\n",
       "    </tr>\n",
       "  </thead>\n",
       "  <tbody>\n",
       "    <tr>\n",
       "      <th>1000</th>\n",
       "      <th>12</th>\n",
       "      <td>124.000</td>\n",
       "    </tr>\n",
       "    <tr>\n",
       "      <th>1001</th>\n",
       "      <th>8</th>\n",
       "      <td>182.000</td>\n",
       "    </tr>\n",
       "  </tbody>\n",
       "</table>\n",
       "</div>"
      ],
      "text/plain": [
       "               duration\n",
       "user_id month          \n",
       "1000    12      124.000\n",
       "1001    8       182.000"
      ]
     },
     "execution_count": 37,
     "metadata": {},
     "output_type": "execute_result"
    }
   ],
   "source": [
    "print(len(call_group))\n",
    "call_group.head(2)"
   ]
  },
  {
   "cell_type": "code",
   "execution_count": 38,
   "metadata": {},
   "outputs": [
    {
     "name": "stdout",
     "output_type": "stream",
     "text": [
      "1806\n"
     ]
    },
    {
     "data": {
      "text/html": [
       "<div>\n",
       "<style scoped>\n",
       "    .dataframe tbody tr th:only-of-type {\n",
       "        vertical-align: middle;\n",
       "    }\n",
       "\n",
       "    .dataframe tbody tr th {\n",
       "        vertical-align: top;\n",
       "    }\n",
       "\n",
       "    .dataframe thead th {\n",
       "        text-align: right;\n",
       "    }\n",
       "</style>\n",
       "<table border=\"1\" class=\"dataframe\">\n",
       "  <thead>\n",
       "    <tr style=\"text-align: right;\">\n",
       "      <th></th>\n",
       "      <th></th>\n",
       "      <th>id</th>\n",
       "    </tr>\n",
       "    <tr>\n",
       "      <th>user_id</th>\n",
       "      <th>month</th>\n",
       "      <th></th>\n",
       "    </tr>\n",
       "  </thead>\n",
       "  <tbody>\n",
       "    <tr>\n",
       "      <th>1000</th>\n",
       "      <th>12</th>\n",
       "      <td>11</td>\n",
       "    </tr>\n",
       "    <tr>\n",
       "      <th>1001</th>\n",
       "      <th>8</th>\n",
       "      <td>30</td>\n",
       "    </tr>\n",
       "  </tbody>\n",
       "</table>\n",
       "</div>"
      ],
      "text/plain": [
       "               id\n",
       "user_id month    \n",
       "1000    12     11\n",
       "1001    8      30"
      ]
     },
     "execution_count": 38,
     "metadata": {},
     "output_type": "execute_result"
    }
   ],
   "source": [
    "print(len(mess_group))\n",
    "mess_group.head(2)"
   ]
  },
  {
   "cell_type": "code",
   "execution_count": 39,
   "metadata": {},
   "outputs": [
    {
     "name": "stdout",
     "output_type": "stream",
     "text": [
      "2277\n"
     ]
    },
    {
     "data": {
      "text/html": [
       "<div>\n",
       "<style scoped>\n",
       "    .dataframe tbody tr th:only-of-type {\n",
       "        vertical-align: middle;\n",
       "    }\n",
       "\n",
       "    .dataframe tbody tr th {\n",
       "        vertical-align: top;\n",
       "    }\n",
       "\n",
       "    .dataframe thead th {\n",
       "        text-align: right;\n",
       "    }\n",
       "</style>\n",
       "<table border=\"1\" class=\"dataframe\">\n",
       "  <thead>\n",
       "    <tr style=\"text-align: right;\">\n",
       "      <th></th>\n",
       "      <th></th>\n",
       "      <th>mb_used</th>\n",
       "    </tr>\n",
       "    <tr>\n",
       "      <th>user_id</th>\n",
       "      <th>month</th>\n",
       "      <th></th>\n",
       "    </tr>\n",
       "  </thead>\n",
       "  <tbody>\n",
       "    <tr>\n",
       "      <th>1000</th>\n",
       "      <th>12</th>\n",
       "      <td>2.000</td>\n",
       "    </tr>\n",
       "    <tr>\n",
       "      <th>1001</th>\n",
       "      <th>8</th>\n",
       "      <td>7.000</td>\n",
       "    </tr>\n",
       "  </tbody>\n",
       "</table>\n",
       "</div>"
      ],
      "text/plain": [
       "               mb_used\n",
       "user_id month         \n",
       "1000    12       2.000\n",
       "1001    8        7.000"
      ]
     },
     "execution_count": 39,
     "metadata": {},
     "output_type": "execute_result"
    }
   ],
   "source": [
    "print(len(data_group))\n",
    "data_group.head(2)"
   ]
  },
  {
   "cell_type": "code",
   "execution_count": 40,
   "metadata": {},
   "outputs": [
    {
     "name": "stdout",
     "output_type": "stream",
     "text": [
      "500\n"
     ]
    },
    {
     "data": {
      "text/html": [
       "<div>\n",
       "<style scoped>\n",
       "    .dataframe tbody tr th:only-of-type {\n",
       "        vertical-align: middle;\n",
       "    }\n",
       "\n",
       "    .dataframe tbody tr th {\n",
       "        vertical-align: top;\n",
       "    }\n",
       "\n",
       "    .dataframe thead th {\n",
       "        text-align: right;\n",
       "    }\n",
       "</style>\n",
       "<table border=\"1\" class=\"dataframe\">\n",
       "  <thead>\n",
       "    <tr style=\"text-align: right;\">\n",
       "      <th></th>\n",
       "      <th></th>\n",
       "      <th>plan</th>\n",
       "    </tr>\n",
       "    <tr>\n",
       "      <th>user_id</th>\n",
       "      <th>month</th>\n",
       "      <th></th>\n",
       "    </tr>\n",
       "  </thead>\n",
       "  <tbody>\n",
       "    <tr>\n",
       "      <th>1000</th>\n",
       "      <th>12</th>\n",
       "      <td>ultimate</td>\n",
       "    </tr>\n",
       "    <tr>\n",
       "      <th>1001</th>\n",
       "      <th>8</th>\n",
       "      <td>surf</td>\n",
       "    </tr>\n",
       "  </tbody>\n",
       "</table>\n",
       "</div>"
      ],
      "text/plain": [
       "                   plan\n",
       "user_id month          \n",
       "1000    12     ultimate\n",
       "1001    8          surf"
      ]
     },
     "execution_count": 40,
     "metadata": {},
     "output_type": "execute_result"
    }
   ],
   "source": [
    "print(len(megaline_group))\n",
    "megaline_group.head(2)"
   ]
  },
  {
   "cell_type": "code",
   "execution_count": 41,
   "metadata": {},
   "outputs": [],
   "source": [
    "total1= pd.merge(left = data_group , \n",
    "                right = call_group, how='outer',on=['user_id', 'month']).fillna(0)\n",
    "total2=pd.merge(left = total1 , \n",
    "                right = mess_group, how='outer',on=['user_id', 'month']).fillna(0)\n"
   ]
  },
  {
   "cell_type": "markdown",
   "metadata": {},
   "source": [
    "<div class=\"alert alert-success\">\n",
    "<b>Reviewer's comment v1:</b>\n",
    "    \n",
    "Awesome! `how = 'outer' can be used here to prevent data loss.\n",
    "\n",
    "By the way, it is also possible to group 3 tables at once using reduce. You can read about it here: https://www.codegrepper.com/code-examples/python/merge+more+than+2+dataframes+in+pandas"
   ]
  },
  {
   "cell_type": "code",
   "execution_count": 42,
   "metadata": {},
   "outputs": [],
   "source": [
    "total2 = total2.reset_index()"
   ]
  },
  {
   "cell_type": "code",
   "execution_count": 43,
   "metadata": {},
   "outputs": [],
   "source": [
    "total3=pd.merge(left = total2 , \n",
    "                right = megaline_group, how='inner',on=['user_id']).fillna(0)"
   ]
  },
  {
   "cell_type": "code",
   "execution_count": 44,
   "metadata": {},
   "outputs": [
    {
     "name": "stdout",
     "output_type": "stream",
     "text": [
      "2293\n"
     ]
    },
    {
     "data": {
      "text/html": [
       "<div>\n",
       "<style scoped>\n",
       "    .dataframe tbody tr th:only-of-type {\n",
       "        vertical-align: middle;\n",
       "    }\n",
       "\n",
       "    .dataframe tbody tr th {\n",
       "        vertical-align: top;\n",
       "    }\n",
       "\n",
       "    .dataframe thead th {\n",
       "        text-align: right;\n",
       "    }\n",
       "</style>\n",
       "<table border=\"1\" class=\"dataframe\">\n",
       "  <thead>\n",
       "    <tr style=\"text-align: right;\">\n",
       "      <th></th>\n",
       "      <th>user_id</th>\n",
       "      <th>month</th>\n",
       "      <th>mb_used</th>\n",
       "      <th>duration</th>\n",
       "      <th>id</th>\n",
       "      <th>plan</th>\n",
       "    </tr>\n",
       "  </thead>\n",
       "  <tbody>\n",
       "    <tr>\n",
       "      <th>0</th>\n",
       "      <td>1000</td>\n",
       "      <td>12</td>\n",
       "      <td>2.000</td>\n",
       "      <td>124.000</td>\n",
       "      <td>11.000</td>\n",
       "      <td>ultimate</td>\n",
       "    </tr>\n",
       "    <tr>\n",
       "      <th>1</th>\n",
       "      <td>1001</td>\n",
       "      <td>8</td>\n",
       "      <td>7.000</td>\n",
       "      <td>182.000</td>\n",
       "      <td>30.000</td>\n",
       "      <td>surf</td>\n",
       "    </tr>\n",
       "    <tr>\n",
       "      <th>2</th>\n",
       "      <td>1001</td>\n",
       "      <td>9</td>\n",
       "      <td>14.000</td>\n",
       "      <td>315.000</td>\n",
       "      <td>44.000</td>\n",
       "      <td>surf</td>\n",
       "    </tr>\n",
       "    <tr>\n",
       "      <th>3</th>\n",
       "      <td>1001</td>\n",
       "      <td>10</td>\n",
       "      <td>22.000</td>\n",
       "      <td>393.000</td>\n",
       "      <td>53.000</td>\n",
       "      <td>surf</td>\n",
       "    </tr>\n",
       "    <tr>\n",
       "      <th>4</th>\n",
       "      <td>1001</td>\n",
       "      <td>11</td>\n",
       "      <td>19.000</td>\n",
       "      <td>426.000</td>\n",
       "      <td>36.000</td>\n",
       "      <td>surf</td>\n",
       "    </tr>\n",
       "    <tr>\n",
       "      <th>...</th>\n",
       "      <td>...</td>\n",
       "      <td>...</td>\n",
       "      <td>...</td>\n",
       "      <td>...</td>\n",
       "      <td>...</td>\n",
       "      <td>...</td>\n",
       "    </tr>\n",
       "    <tr>\n",
       "      <th>2288</th>\n",
       "      <td>1470</td>\n",
       "      <td>8</td>\n",
       "      <td>0.000</td>\n",
       "      <td>580.000</td>\n",
       "      <td>141.000</td>\n",
       "      <td>surf</td>\n",
       "    </tr>\n",
       "    <tr>\n",
       "      <th>2289</th>\n",
       "      <td>1470</td>\n",
       "      <td>9</td>\n",
       "      <td>0.000</td>\n",
       "      <td>471.000</td>\n",
       "      <td>130.000</td>\n",
       "      <td>surf</td>\n",
       "    </tr>\n",
       "    <tr>\n",
       "      <th>2290</th>\n",
       "      <td>1470</td>\n",
       "      <td>10</td>\n",
       "      <td>0.000</td>\n",
       "      <td>459.000</td>\n",
       "      <td>145.000</td>\n",
       "      <td>surf</td>\n",
       "    </tr>\n",
       "    <tr>\n",
       "      <th>2291</th>\n",
       "      <td>1470</td>\n",
       "      <td>11</td>\n",
       "      <td>0.000</td>\n",
       "      <td>632.000</td>\n",
       "      <td>156.000</td>\n",
       "      <td>surf</td>\n",
       "    </tr>\n",
       "    <tr>\n",
       "      <th>2292</th>\n",
       "      <td>1470</td>\n",
       "      <td>12</td>\n",
       "      <td>0.000</td>\n",
       "      <td>592.000</td>\n",
       "      <td>153.000</td>\n",
       "      <td>surf</td>\n",
       "    </tr>\n",
       "  </tbody>\n",
       "</table>\n",
       "<p>2293 rows × 6 columns</p>\n",
       "</div>"
      ],
      "text/plain": [
       "      user_id  month  mb_used  duration      id      plan\n",
       "0        1000     12    2.000   124.000  11.000  ultimate\n",
       "1        1001      8    7.000   182.000  30.000      surf\n",
       "2        1001      9   14.000   315.000  44.000      surf\n",
       "3        1001     10   22.000   393.000  53.000      surf\n",
       "4        1001     11   19.000   426.000  36.000      surf\n",
       "...       ...    ...      ...       ...     ...       ...\n",
       "2288     1470      8    0.000   580.000 141.000      surf\n",
       "2289     1470      9    0.000   471.000 130.000      surf\n",
       "2290     1470     10    0.000   459.000 145.000      surf\n",
       "2291     1470     11    0.000   632.000 156.000      surf\n",
       "2292     1470     12    0.000   592.000 153.000      surf\n",
       "\n",
       "[2293 rows x 6 columns]"
      ]
     },
     "execution_count": 44,
     "metadata": {},
     "output_type": "execute_result"
    }
   ],
   "source": [
    "print(len(total3))\n",
    "total3"
   ]
  },
  {
   "cell_type": "code",
   "execution_count": 45,
   "metadata": {},
   "outputs": [],
   "source": [
    "total3.rename(columns={\"id\": \"messages\", \"mb_used\":\"gb_used\" }, inplace = True)"
   ]
  },
  {
   "cell_type": "code",
   "execution_count": 46,
   "metadata": {},
   "outputs": [
    {
     "data": {
      "text/html": [
       "<div>\n",
       "<style scoped>\n",
       "    .dataframe tbody tr th:only-of-type {\n",
       "        vertical-align: middle;\n",
       "    }\n",
       "\n",
       "    .dataframe tbody tr th {\n",
       "        vertical-align: top;\n",
       "    }\n",
       "\n",
       "    .dataframe thead th {\n",
       "        text-align: right;\n",
       "    }\n",
       "</style>\n",
       "<table border=\"1\" class=\"dataframe\">\n",
       "  <thead>\n",
       "    <tr style=\"text-align: right;\">\n",
       "      <th></th>\n",
       "      <th>user_id</th>\n",
       "      <th>month</th>\n",
       "      <th>gb_used</th>\n",
       "      <th>duration</th>\n",
       "      <th>messages</th>\n",
       "      <th>plan</th>\n",
       "    </tr>\n",
       "  </thead>\n",
       "  <tbody>\n",
       "    <tr>\n",
       "      <th>0</th>\n",
       "      <td>1000</td>\n",
       "      <td>12</td>\n",
       "      <td>2.000</td>\n",
       "      <td>124.000</td>\n",
       "      <td>11.000</td>\n",
       "      <td>ultimate</td>\n",
       "    </tr>\n",
       "    <tr>\n",
       "      <th>1</th>\n",
       "      <td>1001</td>\n",
       "      <td>8</td>\n",
       "      <td>7.000</td>\n",
       "      <td>182.000</td>\n",
       "      <td>30.000</td>\n",
       "      <td>surf</td>\n",
       "    </tr>\n",
       "    <tr>\n",
       "      <th>2</th>\n",
       "      <td>1001</td>\n",
       "      <td>9</td>\n",
       "      <td>14.000</td>\n",
       "      <td>315.000</td>\n",
       "      <td>44.000</td>\n",
       "      <td>surf</td>\n",
       "    </tr>\n",
       "    <tr>\n",
       "      <th>3</th>\n",
       "      <td>1001</td>\n",
       "      <td>10</td>\n",
       "      <td>22.000</td>\n",
       "      <td>393.000</td>\n",
       "      <td>53.000</td>\n",
       "      <td>surf</td>\n",
       "    </tr>\n",
       "    <tr>\n",
       "      <th>4</th>\n",
       "      <td>1001</td>\n",
       "      <td>11</td>\n",
       "      <td>19.000</td>\n",
       "      <td>426.000</td>\n",
       "      <td>36.000</td>\n",
       "      <td>surf</td>\n",
       "    </tr>\n",
       "  </tbody>\n",
       "</table>\n",
       "</div>"
      ],
      "text/plain": [
       "   user_id  month  gb_used  duration  messages      plan\n",
       "0     1000     12    2.000   124.000    11.000  ultimate\n",
       "1     1001      8    7.000   182.000    30.000      surf\n",
       "2     1001      9   14.000   315.000    44.000      surf\n",
       "3     1001     10   22.000   393.000    53.000      surf\n",
       "4     1001     11   19.000   426.000    36.000      surf"
      ]
     },
     "execution_count": 46,
     "metadata": {},
     "output_type": "execute_result"
    }
   ],
   "source": [
    "total3.head()"
   ]
  },
  {
   "cell_type": "markdown",
   "metadata": {},
   "source": [
    "#### The monthly revenue"
   ]
  },
  {
   "cell_type": "code",
   "execution_count": 47,
   "metadata": {},
   "outputs": [],
   "source": [
    "def cost(row):\n",
    "    plan= row['plan']\n",
    "    gb_used= row['gb_used']\n",
    "    duration = row['duration']\n",
    "    messages = row['messages']\n",
    "    duration_charge = 0\n",
    "    gb_used_charge = 0\n",
    "    messages_charge = 0\n",
    "    plan_charge = 0\n",
    "    if plan == 'surf':\n",
    "        plan_charge = 20\n",
    "        \n",
    "        if duration > 500:\n",
    "            duration_charge = (duration - 500) * 0.03\n",
    "        else:\n",
    "            duration_charge = 0\n",
    "        \n",
    "        if gb_used > 15:\n",
    "            gb_used_charge = (gb_used - 15) * 10\n",
    "        else:\n",
    "            gb_used_charge = 0\n",
    "                \n",
    "        if messages > 50:\n",
    "            messages_charge = (messages - 50) + 0.03\n",
    "        else:\n",
    "            messages_charge = 0\n",
    "                \n",
    "    if plan == 'ultimate':\n",
    "        plan_charge = 70\n",
    "        \n",
    "        if duration > 3000:\n",
    "            duration_charge = (duration - 3000) * 0.01\n",
    "        else:\n",
    "            duration_charge = 0\n",
    "        \n",
    "        if gb_used > 30:\n",
    "            gb_used_charge = (gb_used - 30) * 7\n",
    "        else:\n",
    "            gb_used_charge = 0\n",
    "                \n",
    "        if messages > 1000:\n",
    "            messages_charge = (messages - 1000) * 0.01\n",
    "        else:\n",
    "            messages_charge = 0\n",
    "                            \n",
    "    total_cost =plan_charge + duration_charge + gb_used_charge + messages_charge\n",
    "    return total_cost\n",
    "    "
   ]
  },
  {
   "cell_type": "code",
   "execution_count": 48,
   "metadata": {},
   "outputs": [],
   "source": [
    "total3['total_cost'] = total3.apply(cost,axis=1)\n"
   ]
  },
  {
   "cell_type": "markdown",
   "metadata": {},
   "source": [
    "* The monthly revenue from each user"
   ]
  },
  {
   "cell_type": "markdown",
   "metadata": {},
   "source": [
    "<div class=\"alert alert-success\">\n",
    "<b>Reviewer's comment v1:</b>\n",
    "    \n",
    "Great! Revenue has been calculated correctly and good that you created function for it but results will be a little bit different after making changes in the web-traffic rounding.\n",
    "    \n",
    "Btw it is also possible to make the calculation of revenue a little bit differently using np.where - [https://numpy.org/doc/stable/reference/generated/numpy.where.html](https://numpy.org/doc/stable/reference/generated/numpy.where.html)\n",
    "\n",
    "```\n",
    "  np.where ('condition: if exceeding the package limit', 'multiply the difference by the price of additional services', '0')\n",
    "```\n",
    "    \n",
    "Also, it is better to avoid hard-coding in your functions of all values from the data plans. These values could be frequently updated and it will be annoyingly inconvenient to update them once again in the function. I would recommend to use an actual table with values or create a separate data dictionary - https://towardsdatascience.com/12-examples-to-master-python-dictionaries-5a8bcd688c6d"
   ]
  },
  {
   "cell_type": "markdown",
   "metadata": {},
   "source": [
    "##  Analyze the data"
   ]
  },
  {
   "cell_type": "code",
   "execution_count": 49,
   "metadata": {},
   "outputs": [
    {
     "data": {
      "text/html": [
       "<div>\n",
       "<style scoped>\n",
       "    .dataframe tbody tr th:only-of-type {\n",
       "        vertical-align: middle;\n",
       "    }\n",
       "\n",
       "    .dataframe tbody tr th {\n",
       "        vertical-align: top;\n",
       "    }\n",
       "\n",
       "    .dataframe thead th {\n",
       "        text-align: right;\n",
       "    }\n",
       "</style>\n",
       "<table border=\"1\" class=\"dataframe\">\n",
       "  <thead>\n",
       "    <tr style=\"text-align: right;\">\n",
       "      <th></th>\n",
       "      <th>user_id</th>\n",
       "      <th>month</th>\n",
       "      <th>gb_used</th>\n",
       "      <th>duration</th>\n",
       "      <th>messages</th>\n",
       "      <th>plan</th>\n",
       "      <th>total_cost</th>\n",
       "    </tr>\n",
       "  </thead>\n",
       "  <tbody>\n",
       "    <tr>\n",
       "      <th>1</th>\n",
       "      <td>1001</td>\n",
       "      <td>8</td>\n",
       "      <td>7.000</td>\n",
       "      <td>182.000</td>\n",
       "      <td>30.000</td>\n",
       "      <td>surf</td>\n",
       "      <td>20.000</td>\n",
       "    </tr>\n",
       "    <tr>\n",
       "      <th>2</th>\n",
       "      <td>1001</td>\n",
       "      <td>9</td>\n",
       "      <td>14.000</td>\n",
       "      <td>315.000</td>\n",
       "      <td>44.000</td>\n",
       "      <td>surf</td>\n",
       "      <td>20.000</td>\n",
       "    </tr>\n",
       "    <tr>\n",
       "      <th>3</th>\n",
       "      <td>1001</td>\n",
       "      <td>10</td>\n",
       "      <td>22.000</td>\n",
       "      <td>393.000</td>\n",
       "      <td>53.000</td>\n",
       "      <td>surf</td>\n",
       "      <td>93.030</td>\n",
       "    </tr>\n",
       "    <tr>\n",
       "      <th>4</th>\n",
       "      <td>1001</td>\n",
       "      <td>11</td>\n",
       "      <td>19.000</td>\n",
       "      <td>426.000</td>\n",
       "      <td>36.000</td>\n",
       "      <td>surf</td>\n",
       "      <td>60.000</td>\n",
       "    </tr>\n",
       "    <tr>\n",
       "      <th>5</th>\n",
       "      <td>1001</td>\n",
       "      <td>12</td>\n",
       "      <td>19.000</td>\n",
       "      <td>412.000</td>\n",
       "      <td>44.000</td>\n",
       "      <td>surf</td>\n",
       "      <td>60.000</td>\n",
       "    </tr>\n",
       "    <tr>\n",
       "      <th>...</th>\n",
       "      <td>...</td>\n",
       "      <td>...</td>\n",
       "      <td>...</td>\n",
       "      <td>...</td>\n",
       "      <td>...</td>\n",
       "      <td>...</td>\n",
       "      <td>...</td>\n",
       "    </tr>\n",
       "    <tr>\n",
       "      <th>2288</th>\n",
       "      <td>1470</td>\n",
       "      <td>8</td>\n",
       "      <td>0.000</td>\n",
       "      <td>580.000</td>\n",
       "      <td>141.000</td>\n",
       "      <td>surf</td>\n",
       "      <td>113.430</td>\n",
       "    </tr>\n",
       "    <tr>\n",
       "      <th>2289</th>\n",
       "      <td>1470</td>\n",
       "      <td>9</td>\n",
       "      <td>0.000</td>\n",
       "      <td>471.000</td>\n",
       "      <td>130.000</td>\n",
       "      <td>surf</td>\n",
       "      <td>100.030</td>\n",
       "    </tr>\n",
       "    <tr>\n",
       "      <th>2290</th>\n",
       "      <td>1470</td>\n",
       "      <td>10</td>\n",
       "      <td>0.000</td>\n",
       "      <td>459.000</td>\n",
       "      <td>145.000</td>\n",
       "      <td>surf</td>\n",
       "      <td>115.030</td>\n",
       "    </tr>\n",
       "    <tr>\n",
       "      <th>2291</th>\n",
       "      <td>1470</td>\n",
       "      <td>11</td>\n",
       "      <td>0.000</td>\n",
       "      <td>632.000</td>\n",
       "      <td>156.000</td>\n",
       "      <td>surf</td>\n",
       "      <td>129.990</td>\n",
       "    </tr>\n",
       "    <tr>\n",
       "      <th>2292</th>\n",
       "      <td>1470</td>\n",
       "      <td>12</td>\n",
       "      <td>0.000</td>\n",
       "      <td>592.000</td>\n",
       "      <td>153.000</td>\n",
       "      <td>surf</td>\n",
       "      <td>125.790</td>\n",
       "    </tr>\n",
       "  </tbody>\n",
       "</table>\n",
       "<p>1573 rows × 7 columns</p>\n",
       "</div>"
      ],
      "text/plain": [
       "      user_id  month  gb_used  duration  messages  plan  total_cost\n",
       "1        1001      8    7.000   182.000    30.000  surf      20.000\n",
       "2        1001      9   14.000   315.000    44.000  surf      20.000\n",
       "3        1001     10   22.000   393.000    53.000  surf      93.030\n",
       "4        1001     11   19.000   426.000    36.000  surf      60.000\n",
       "5        1001     12   19.000   412.000    44.000  surf      60.000\n",
       "...       ...    ...      ...       ...       ...   ...         ...\n",
       "2288     1470      8    0.000   580.000   141.000  surf     113.430\n",
       "2289     1470      9    0.000   471.000   130.000  surf     100.030\n",
       "2290     1470     10    0.000   459.000   145.000  surf     115.030\n",
       "2291     1470     11    0.000   632.000   156.000  surf     129.990\n",
       "2292     1470     12    0.000   592.000   153.000  surf     125.790\n",
       "\n",
       "[1573 rows x 7 columns]"
      ]
     },
     "execution_count": 49,
     "metadata": {},
     "output_type": "execute_result"
    }
   ],
   "source": [
    "surf_plan = total3.query('plan==\"surf\"')\n",
    "surf_plan"
   ]
  },
  {
   "cell_type": "code",
   "execution_count": 50,
   "metadata": {},
   "outputs": [
    {
     "data": {
      "text/html": [
       "<div>\n",
       "<style scoped>\n",
       "    .dataframe tbody tr th:only-of-type {\n",
       "        vertical-align: middle;\n",
       "    }\n",
       "\n",
       "    .dataframe tbody tr th {\n",
       "        vertical-align: top;\n",
       "    }\n",
       "\n",
       "    .dataframe thead th {\n",
       "        text-align: right;\n",
       "    }\n",
       "</style>\n",
       "<table border=\"1\" class=\"dataframe\">\n",
       "  <thead>\n",
       "    <tr style=\"text-align: right;\">\n",
       "      <th></th>\n",
       "      <th>user_id</th>\n",
       "      <th>month</th>\n",
       "      <th>gb_used</th>\n",
       "      <th>duration</th>\n",
       "      <th>messages</th>\n",
       "      <th>total_cost</th>\n",
       "    </tr>\n",
       "  </thead>\n",
       "  <tbody>\n",
       "    <tr>\n",
       "      <th>count</th>\n",
       "      <td>1573.000</td>\n",
       "      <td>1573.000</td>\n",
       "      <td>1573.000</td>\n",
       "      <td>1573.000</td>\n",
       "      <td>1573.000</td>\n",
       "      <td>1573.000</td>\n",
       "    </tr>\n",
       "    <tr>\n",
       "      <th>mean</th>\n",
       "      <td>1242.755</td>\n",
       "      <td>9.182</td>\n",
       "      <td>16.671</td>\n",
       "      <td>428.750</td>\n",
       "      <td>31.160</td>\n",
       "      <td>67.515</td>\n",
       "    </tr>\n",
       "    <tr>\n",
       "      <th>std</th>\n",
       "      <td>139.228</td>\n",
       "      <td>2.468</td>\n",
       "      <td>7.848</td>\n",
       "      <td>234.453</td>\n",
       "      <td>33.567</td>\n",
       "      <td>61.638</td>\n",
       "    </tr>\n",
       "    <tr>\n",
       "      <th>min</th>\n",
       "      <td>1001.000</td>\n",
       "      <td>1.000</td>\n",
       "      <td>0.000</td>\n",
       "      <td>0.000</td>\n",
       "      <td>0.000</td>\n",
       "      <td>20.000</td>\n",
       "    </tr>\n",
       "    <tr>\n",
       "      <th>25%</th>\n",
       "      <td>1120.000</td>\n",
       "      <td>8.000</td>\n",
       "      <td>12.000</td>\n",
       "      <td>272.000</td>\n",
       "      <td>3.000</td>\n",
       "      <td>20.000</td>\n",
       "    </tr>\n",
       "    <tr>\n",
       "      <th>50%</th>\n",
       "      <td>1245.000</td>\n",
       "      <td>10.000</td>\n",
       "      <td>17.000</td>\n",
       "      <td>425.000</td>\n",
       "      <td>24.000</td>\n",
       "      <td>50.000</td>\n",
       "    </tr>\n",
       "    <tr>\n",
       "      <th>75%</th>\n",
       "      <td>1358.000</td>\n",
       "      <td>11.000</td>\n",
       "      <td>21.000</td>\n",
       "      <td>576.000</td>\n",
       "      <td>47.000</td>\n",
       "      <td>90.000</td>\n",
       "    </tr>\n",
       "    <tr>\n",
       "      <th>max</th>\n",
       "      <td>1499.000</td>\n",
       "      <td>12.000</td>\n",
       "      <td>70.000</td>\n",
       "      <td>1510.000</td>\n",
       "      <td>266.000</td>\n",
       "      <td>664.120</td>\n",
       "    </tr>\n",
       "  </tbody>\n",
       "</table>\n",
       "</div>"
      ],
      "text/plain": [
       "       user_id    month  gb_used  duration  messages  total_cost\n",
       "count 1573.000 1573.000 1573.000  1573.000  1573.000    1573.000\n",
       "mean  1242.755    9.182   16.671   428.750    31.160      67.515\n",
       "std    139.228    2.468    7.848   234.453    33.567      61.638\n",
       "min   1001.000    1.000    0.000     0.000     0.000      20.000\n",
       "25%   1120.000    8.000   12.000   272.000     3.000      20.000\n",
       "50%   1245.000   10.000   17.000   425.000    24.000      50.000\n",
       "75%   1358.000   11.000   21.000   576.000    47.000      90.000\n",
       "max   1499.000   12.000   70.000  1510.000   266.000     664.120"
      ]
     },
     "execution_count": 50,
     "metadata": {},
     "output_type": "execute_result"
    }
   ],
   "source": [
    "surf_plan.describe()"
   ]
  },
  {
   "cell_type": "code",
   "execution_count": 51,
   "metadata": {},
   "outputs": [
    {
     "data": {
      "text/html": [
       "<div>\n",
       "<style scoped>\n",
       "    .dataframe tbody tr th:only-of-type {\n",
       "        vertical-align: middle;\n",
       "    }\n",
       "\n",
       "    .dataframe tbody tr th {\n",
       "        vertical-align: top;\n",
       "    }\n",
       "\n",
       "    .dataframe thead th {\n",
       "        text-align: right;\n",
       "    }\n",
       "</style>\n",
       "<table border=\"1\" class=\"dataframe\">\n",
       "  <thead>\n",
       "    <tr style=\"text-align: right;\">\n",
       "      <th></th>\n",
       "      <th>user_id</th>\n",
       "      <th>month</th>\n",
       "      <th>gb_used</th>\n",
       "      <th>duration</th>\n",
       "      <th>messages</th>\n",
       "      <th>plan</th>\n",
       "      <th>total_cost</th>\n",
       "    </tr>\n",
       "  </thead>\n",
       "  <tbody>\n",
       "    <tr>\n",
       "      <th>0</th>\n",
       "      <td>1000</td>\n",
       "      <td>12</td>\n",
       "      <td>2.000</td>\n",
       "      <td>124.000</td>\n",
       "      <td>11.000</td>\n",
       "      <td>ultimate</td>\n",
       "      <td>70.000</td>\n",
       "    </tr>\n",
       "    <tr>\n",
       "      <th>19</th>\n",
       "      <td>1006</td>\n",
       "      <td>11</td>\n",
       "      <td>3.000</td>\n",
       "      <td>10.000</td>\n",
       "      <td>15.000</td>\n",
       "      <td>ultimate</td>\n",
       "      <td>70.000</td>\n",
       "    </tr>\n",
       "    <tr>\n",
       "      <th>20</th>\n",
       "      <td>1006</td>\n",
       "      <td>12</td>\n",
       "      <td>32.000</td>\n",
       "      <td>59.000</td>\n",
       "      <td>139.000</td>\n",
       "      <td>ultimate</td>\n",
       "      <td>84.000</td>\n",
       "    </tr>\n",
       "    <tr>\n",
       "      <th>26</th>\n",
       "      <td>1008</td>\n",
       "      <td>10</td>\n",
       "      <td>17.000</td>\n",
       "      <td>476.000</td>\n",
       "      <td>21.000</td>\n",
       "      <td>ultimate</td>\n",
       "      <td>70.000</td>\n",
       "    </tr>\n",
       "    <tr>\n",
       "      <th>27</th>\n",
       "      <td>1008</td>\n",
       "      <td>11</td>\n",
       "      <td>24.000</td>\n",
       "      <td>446.000</td>\n",
       "      <td>37.000</td>\n",
       "      <td>ultimate</td>\n",
       "      <td>70.000</td>\n",
       "    </tr>\n",
       "    <tr>\n",
       "      <th>...</th>\n",
       "      <td>...</td>\n",
       "      <td>...</td>\n",
       "      <td>...</td>\n",
       "      <td>...</td>\n",
       "      <td>...</td>\n",
       "      <td>...</td>\n",
       "      <td>...</td>\n",
       "    </tr>\n",
       "    <tr>\n",
       "      <th>2250</th>\n",
       "      <td>1493</td>\n",
       "      <td>9</td>\n",
       "      <td>15.000</td>\n",
       "      <td>529.000</td>\n",
       "      <td>0.000</td>\n",
       "      <td>ultimate</td>\n",
       "      <td>70.000</td>\n",
       "    </tr>\n",
       "    <tr>\n",
       "      <th>2251</th>\n",
       "      <td>1493</td>\n",
       "      <td>10</td>\n",
       "      <td>16.000</td>\n",
       "      <td>450.000</td>\n",
       "      <td>0.000</td>\n",
       "      <td>ultimate</td>\n",
       "      <td>70.000</td>\n",
       "    </tr>\n",
       "    <tr>\n",
       "      <th>2252</th>\n",
       "      <td>1493</td>\n",
       "      <td>11</td>\n",
       "      <td>16.000</td>\n",
       "      <td>500.000</td>\n",
       "      <td>0.000</td>\n",
       "      <td>ultimate</td>\n",
       "      <td>70.000</td>\n",
       "    </tr>\n",
       "    <tr>\n",
       "      <th>2253</th>\n",
       "      <td>1493</td>\n",
       "      <td>12</td>\n",
       "      <td>15.000</td>\n",
       "      <td>473.000</td>\n",
       "      <td>0.000</td>\n",
       "      <td>ultimate</td>\n",
       "      <td>70.000</td>\n",
       "    </tr>\n",
       "    <tr>\n",
       "      <th>2269</th>\n",
       "      <td>1497</td>\n",
       "      <td>12</td>\n",
       "      <td>11.000</td>\n",
       "      <td>300.000</td>\n",
       "      <td>50.000</td>\n",
       "      <td>ultimate</td>\n",
       "      <td>70.000</td>\n",
       "    </tr>\n",
       "  </tbody>\n",
       "</table>\n",
       "<p>720 rows × 7 columns</p>\n",
       "</div>"
      ],
      "text/plain": [
       "      user_id  month  gb_used  duration  messages      plan  total_cost\n",
       "0        1000     12    2.000   124.000    11.000  ultimate      70.000\n",
       "19       1006     11    3.000    10.000    15.000  ultimate      70.000\n",
       "20       1006     12   32.000    59.000   139.000  ultimate      84.000\n",
       "26       1008     10   17.000   476.000    21.000  ultimate      70.000\n",
       "27       1008     11   24.000   446.000    37.000  ultimate      70.000\n",
       "...       ...    ...      ...       ...       ...       ...         ...\n",
       "2250     1493      9   15.000   529.000     0.000  ultimate      70.000\n",
       "2251     1493     10   16.000   450.000     0.000  ultimate      70.000\n",
       "2252     1493     11   16.000   500.000     0.000  ultimate      70.000\n",
       "2253     1493     12   15.000   473.000     0.000  ultimate      70.000\n",
       "2269     1497     12   11.000   300.000    50.000  ultimate      70.000\n",
       "\n",
       "[720 rows x 7 columns]"
      ]
     },
     "execution_count": 51,
     "metadata": {},
     "output_type": "execute_result"
    }
   ],
   "source": [
    "ultimate_plan = total3.query('plan==\"ultimate\"')\n",
    "ultimate_plan"
   ]
  },
  {
   "cell_type": "code",
   "execution_count": 52,
   "metadata": {},
   "outputs": [
    {
     "data": {
      "text/html": [
       "<div>\n",
       "<style scoped>\n",
       "    .dataframe tbody tr th:only-of-type {\n",
       "        vertical-align: middle;\n",
       "    }\n",
       "\n",
       "    .dataframe tbody tr th {\n",
       "        vertical-align: top;\n",
       "    }\n",
       "\n",
       "    .dataframe thead th {\n",
       "        text-align: right;\n",
       "    }\n",
       "</style>\n",
       "<table border=\"1\" class=\"dataframe\">\n",
       "  <thead>\n",
       "    <tr style=\"text-align: right;\">\n",
       "      <th></th>\n",
       "      <th>user_id</th>\n",
       "      <th>month</th>\n",
       "      <th>gb_used</th>\n",
       "      <th>duration</th>\n",
       "      <th>messages</th>\n",
       "      <th>total_cost</th>\n",
       "    </tr>\n",
       "  </thead>\n",
       "  <tbody>\n",
       "    <tr>\n",
       "      <th>count</th>\n",
       "      <td>720.000</td>\n",
       "      <td>720.000</td>\n",
       "      <td>720.000</td>\n",
       "      <td>720.000</td>\n",
       "      <td>720.000</td>\n",
       "      <td>720.000</td>\n",
       "    </tr>\n",
       "    <tr>\n",
       "      <th>mean</th>\n",
       "      <td>1253.331</td>\n",
       "      <td>9.151</td>\n",
       "      <td>17.307</td>\n",
       "      <td>430.450</td>\n",
       "      <td>37.551</td>\n",
       "      <td>72.314</td>\n",
       "    </tr>\n",
       "    <tr>\n",
       "      <th>std</th>\n",
       "      <td>150.916</td>\n",
       "      <td>2.558</td>\n",
       "      <td>7.670</td>\n",
       "      <td>240.509</td>\n",
       "      <td>34.767</td>\n",
       "      <td>11.395</td>\n",
       "    </tr>\n",
       "    <tr>\n",
       "      <th>min</th>\n",
       "      <td>1000.000</td>\n",
       "      <td>1.000</td>\n",
       "      <td>0.000</td>\n",
       "      <td>0.000</td>\n",
       "      <td>0.000</td>\n",
       "      <td>70.000</td>\n",
       "    </tr>\n",
       "    <tr>\n",
       "      <th>25%</th>\n",
       "      <td>1126.000</td>\n",
       "      <td>8.000</td>\n",
       "      <td>13.000</td>\n",
       "      <td>260.000</td>\n",
       "      <td>7.000</td>\n",
       "      <td>70.000</td>\n",
       "    </tr>\n",
       "    <tr>\n",
       "      <th>50%</th>\n",
       "      <td>1241.500</td>\n",
       "      <td>10.000</td>\n",
       "      <td>17.000</td>\n",
       "      <td>424.000</td>\n",
       "      <td>30.000</td>\n",
       "      <td>70.000</td>\n",
       "    </tr>\n",
       "    <tr>\n",
       "      <th>75%</th>\n",
       "      <td>1401.000</td>\n",
       "      <td>11.000</td>\n",
       "      <td>21.000</td>\n",
       "      <td>565.250</td>\n",
       "      <td>61.000</td>\n",
       "      <td>70.000</td>\n",
       "    </tr>\n",
       "    <tr>\n",
       "      <th>max</th>\n",
       "      <td>1497.000</td>\n",
       "      <td>12.000</td>\n",
       "      <td>46.000</td>\n",
       "      <td>1369.000</td>\n",
       "      <td>166.000</td>\n",
       "      <td>182.000</td>\n",
       "    </tr>\n",
       "  </tbody>\n",
       "</table>\n",
       "</div>"
      ],
      "text/plain": [
       "       user_id   month  gb_used  duration  messages  total_cost\n",
       "count  720.000 720.000  720.000   720.000   720.000     720.000\n",
       "mean  1253.331   9.151   17.307   430.450    37.551      72.314\n",
       "std    150.916   2.558    7.670   240.509    34.767      11.395\n",
       "min   1000.000   1.000    0.000     0.000     0.000      70.000\n",
       "25%   1126.000   8.000   13.000   260.000     7.000      70.000\n",
       "50%   1241.500  10.000   17.000   424.000    30.000      70.000\n",
       "75%   1401.000  11.000   21.000   565.250    61.000      70.000\n",
       "max   1497.000  12.000   46.000  1369.000   166.000     182.000"
      ]
     },
     "execution_count": 52,
     "metadata": {},
     "output_type": "execute_result"
    }
   ],
   "source": [
    "ultimate_plan.describe()"
   ]
  },
  {
   "cell_type": "code",
   "execution_count": 53,
   "metadata": {},
   "outputs": [],
   "source": [
    "parameters = ['duration','messages','gb_used']\n",
    "tariffs = ['surf','ultimate']"
   ]
  },
  {
   "cell_type": "code",
   "execution_count": 54,
   "metadata": {},
   "outputs": [
    {
     "name": "stderr",
     "output_type": "stream",
     "text": [
      "/opt/conda/lib/python3.7/site-packages/numpy/core/_asarray.py:83: VisibleDeprecationWarning: Creating an ndarray from ragged nested sequences (which is a list-or-tuple of lists-or-tuples-or ndarrays with different lengths or shapes) is deprecated. If you meant to do this, you must specify 'dtype=object' when creating the ndarray\n",
      "  return array(a, dtype, copy=False, order=order)\n"
     ]
    },
    {
     "data": {
      "image/png": "[encoded data removed]",
      "text/plain": [
       "<Figure size 432x288 with 1 Axes>"
      ]
     },
     "metadata": {
      "needs_background": "light"
     },
     "output_type": "display_data"
    },
    {
     "name": "stdout",
     "output_type": "stream",
     "text": [
      "**duration for surf / ultimate**\n",
      "Variance - 54933.33 / 57764.13\n",
      "St. deviation - 234.38 / 240.34\n",
      "Mean - 428.75 / 430.45\n",
      "Median - 425.0 / 424.0\n"
     ]
    },
    {
     "name": "stderr",
     "output_type": "stream",
     "text": [
      "/opt/conda/lib/python3.7/site-packages/numpy/core/_asarray.py:83: VisibleDeprecationWarning: Creating an ndarray from ragged nested sequences (which is a list-or-tuple of lists-or-tuples-or ndarrays with different lengths or shapes) is deprecated. If you meant to do this, you must specify 'dtype=object' when creating the ndarray\n",
      "  return array(a, dtype, copy=False, order=order)\n"
     ]
    },
    {
     "data": {
      "image/png": "[encoded data removed]",
      "text/plain": [
       "<Figure size 432x288 with 1 Axes>"
      ]
     },
     "metadata": {
      "needs_background": "light"
     },
     "output_type": "display_data"
    },
    {
     "name": "stdout",
     "output_type": "stream",
     "text": [
      "**messages for surf / ultimate**\n",
      "Variance - 1126.01 / 1207.08\n",
      "St. deviation - 33.56 / 34.74\n",
      "Mean - 31.16 / 37.55\n",
      "Median - 24.0 / 30.0\n"
     ]
    },
    {
     "name": "stderr",
     "output_type": "stream",
     "text": [
      "/opt/conda/lib/python3.7/site-packages/numpy/core/_asarray.py:83: VisibleDeprecationWarning: Creating an ndarray from ragged nested sequences (which is a list-or-tuple of lists-or-tuples-or ndarrays with different lengths or shapes) is deprecated. If you meant to do this, you must specify 'dtype=object' when creating the ndarray\n",
      "  return array(a, dtype, copy=False, order=order)\n"
     ]
    },
    {
     "data": {
      "image/png": "[encoded data removed]",
      "text/plain": [
       "<Figure size 432x288 with 1 Axes>"
      ]
     },
     "metadata": {
      "needs_background": "light"
     },
     "output_type": "display_data"
    },
    {
     "name": "stdout",
     "output_type": "stream",
     "text": [
      "**gb_used for surf / ultimate**\n",
      "Variance - 61.54 / 58.75\n",
      "St. deviation - 7.85 / 7.66\n",
      "Mean - 16.67 / 17.31\n",
      "Median - 17.0 / 17.0\n"
     ]
    }
   ],
   "source": [
    "for parameter in parameters:\n",
    "            \n",
    "    subset1 = surf_plan\n",
    "    subset2 = ultimate_plan\n",
    "    plt.hist([subset1[parameter],subset2[parameter]], bins=15, density=True, label = tariffs)\n",
    "    plt.title(parameter)\n",
    "    plt.legend(prop={'size': 12}, title = 'Plan')\n",
    "    plt.ylabel('Density')\n",
    "    plt.show()\n",
    "    print('**{} for {} / {}**'.format(parameter,tariffs[0],tariffs[1]))\n",
    "    print('Variance - {} / {}'.format(round(np.var(subset1[parameter]),2),round(np.var(subset2[parameter]),2)))\n",
    "    print('St. deviation - {} / {}'.format(round(np.std(subset1[parameter]),2),round(np.std(subset2[parameter]),2)))\n",
    "    print('Mean - {} / {}'.format(round(subset1[parameter].mean(),2),round(subset2[parameter].mean(),2)))\n",
    "    print('Median - {} / {}'.format(round(subset1[parameter].median(),2),round(subset2[parameter].median(),2)))"
   ]
  },
  {
   "cell_type": "markdown",
   "metadata": {},
   "source": [
    "<div class=\"alert alert-danger\">\n",
    "<b>Reviewer's comment v1:</b>\n",
    " \n",
    "Unfortunately, there is a issue with your code. Can you please have a look?\n",
    "    \n",
    "I can recommend you to always run your project once again on the customer's servers before submitting your work to avoid possible errors. You can do that using: Kernel -> Restart & run all.    "
   ]
  },
  {
   "cell_type": "markdown",
   "metadata": {},
   "source": [
    "<div class=\"alert alert-block alert-success\">\n",
    "<b>Reviewer's comment v2</b>\n",
    " \n",
    "Awesome! Thanks for fixing that."
   ]
  },
  {
   "cell_type": "markdown",
   "metadata": {},
   "source": [
    "* customers' behavior\n",
    "\n",
    "As we can see on telephone most of the people use it the same in tow plans and as the usage go up less people use it.\n",
    "We can see that people barley using the telephone on the two of plans.\n",
    "We can see that average internet usage is almost the same on both plans and as usage go up less people using the internet .\n",
    "\n"
   ]
  },
  {
   "cell_type": "markdown",
   "metadata": {},
   "source": [
    "## Test the hypotheses"
   ]
  },
  {
   "cell_type": "markdown",
   "metadata": {},
   "source": [
    "### The average revenue from users of Ultimate and Surf calling plans differs."
   ]
  },
  {
   "cell_type": "code",
   "execution_count": 55,
   "metadata": {},
   "outputs": [
    {
     "name": "stdout",
     "output_type": "stream",
     "text": [
      "[20.0, 56.03, 20.0, 90.0, 170.0, 70.0, 20.0, 37.879999999999995, 20.0, 109.03, 119.31, 51.83, 75.03, 80.0, 37.03, 20.0, 98.03, 309.42999999999995, 21.35, 26.75, 20.0, 20.0, 91.83, 50.81, 52.03, 75.16, 292.03, 20.0, 20.0, 80.0, 74.11, 20.0, 20.0, 20.0, 30.0, 20.0, 80.0, 20.0, 26.630000000000003, 29.03, 20.0, 119.42, 174.03, 100.0, 40.0, 74.5, 123.35, 30.0, 20.0, 261.03, 62.22, 330.0, 90.0, 46.39, 70.0, 20.0, 75.4, 64.2, 50.0, 46.03, 70.92, 90.09, 20.93, 20.0, 60.0, 20.0, 164.07999999999998, 120.66, 30.03, 20.0, 60.06, 129.03, 80.0, 58.91, 30.0, 32.03, 53.78, 43.8, 74.17, 70.0, 70.0, 80.0, 90.84, 92.03, 105.46000000000001, 54.95, 38.03, 80.0, 37.230000000000004, 20.0, 20.0, 24.29, 23.509999999999998, 50.0, 30.0, 20.36, 90.06, 20.0, 20.0, 40.03]\n",
      "[70.0, 70.0, 70.0, 70.0, 70.0, 70.0, 70.0, 70.0, 70.0, 70.0, 70.0, 70.0, 70.0, 70.0, 112.0, 70.0, 70.0, 70.0, 70.0, 70.0, 70.0, 70.0, 70.0, 70.0, 70.0, 70.0, 70.0, 70.0, 70.0, 70.0, 70.0, 70.0, 70.0, 70.0, 70.0, 77.0, 70.0, 70.0, 70.0, 70.0, 70.0, 70.0, 70.0, 70.0, 70.0, 70.0, 70.0, 70.0, 70.0, 70.0, 70.0, 70.0, 70.0, 70.0, 70.0, 70.0, 70.0, 70.0, 70.0, 70.0, 70.0, 70.0, 70.0, 70.0, 70.0, 70.0, 70.0, 70.0, 70.0, 70.0, 70.0, 70.0, 70.0, 70.0, 70.0, 70.0, 70.0, 70.0, 70.0, 70.0, 70.0, 112.0, 70.0, 70.0, 70.0, 91.0, 70.0, 70.0, 70.0, 70.0, 70.0, 70.0, 70.0, 70.0, 70.0, 70.0, 70.0, 77.0, 70.0, 91.0]\n",
      "Variance of sample_plan1 -  3577.57397676\n",
      "Variance of sample_plan2 -  43.12\n"
     ]
    }
   ],
   "source": [
    "sample_plan1 = surf_plan.sample(100).total_cost.to_list()\n",
    "sample_plan2 = ultimate_plan.sample(100).total_cost.to_list()\n",
    "\n",
    "print(sample_plan1)\n",
    "print(sample_plan2)\n",
    "print('Variance of sample_plan1 - ',np.var(sample_plan1))\n",
    "print('Variance of sample_plan2 - ',np.var(sample_plan2))"
   ]
  },
  {
   "cell_type": "code",
   "execution_count": 56,
   "metadata": {},
   "outputs": [
    {
     "name": "stdout",
     "output_type": "stream",
     "text": [
      "p-value: 0.36109367583196406\n",
      "We can't reject the null hypothesis\n"
     ]
    }
   ],
   "source": [
    "alpha = 0.05\n",
    "results = st.ttest_ind(sample_plan1, sample_plan2, equal_var = False)\n",
    "print('p-value:', results.pvalue)\n",
    "if results.pvalue < alpha:\n",
    "    print(\"We reject the null hypothesis\")\n",
    "else:\n",
    "    print(\"We can't reject the null hypothesis\")"
   ]
  },
  {
   "cell_type": "markdown",
   "metadata": {},
   "source": [
    "### The average revenue from users in NY-NJ area is different from that of the users from other regions."
   ]
  },
  {
   "cell_type": "code",
   "execution_count": 57,
   "metadata": {},
   "outputs": [],
   "source": [
    "df_merged2 = pd.merge(left = total3 , \n",
    "             right = megaline_users, how='inner',on=['user_id']).fillna(0)"
   ]
  },
  {
   "cell_type": "code",
   "execution_count": 58,
   "metadata": {},
   "outputs": [
    {
     "data": {
      "text/html": [
       "<div>\n",
       "<style scoped>\n",
       "    .dataframe tbody tr th:only-of-type {\n",
       "        vertical-align: middle;\n",
       "    }\n",
       "\n",
       "    .dataframe tbody tr th {\n",
       "        vertical-align: top;\n",
       "    }\n",
       "\n",
       "    .dataframe thead th {\n",
       "        text-align: right;\n",
       "    }\n",
       "</style>\n",
       "<table border=\"1\" class=\"dataframe\">\n",
       "  <thead>\n",
       "    <tr style=\"text-align: right;\">\n",
       "      <th></th>\n",
       "      <th>user_id</th>\n",
       "      <th>month_x</th>\n",
       "      <th>gb_used</th>\n",
       "      <th>duration</th>\n",
       "      <th>messages</th>\n",
       "      <th>plan_x</th>\n",
       "      <th>total_cost</th>\n",
       "      <th>first_name</th>\n",
       "      <th>last_name</th>\n",
       "      <th>age</th>\n",
       "      <th>city</th>\n",
       "      <th>reg_date</th>\n",
       "      <th>plan_y</th>\n",
       "      <th>churn_date</th>\n",
       "      <th>month_y</th>\n",
       "    </tr>\n",
       "  </thead>\n",
       "  <tbody>\n",
       "    <tr>\n",
       "      <th>0</th>\n",
       "      <td>1000</td>\n",
       "      <td>12</td>\n",
       "      <td>2.000</td>\n",
       "      <td>124.000</td>\n",
       "      <td>11.000</td>\n",
       "      <td>ultimate</td>\n",
       "      <td>70.000</td>\n",
       "      <td>Anamaria</td>\n",
       "      <td>Bauer</td>\n",
       "      <td>45</td>\n",
       "      <td>Atlanta-Sandy Springs-Roswell, GA MSA</td>\n",
       "      <td>2018-12-24</td>\n",
       "      <td>ultimate</td>\n",
       "      <td>0</td>\n",
       "      <td>12</td>\n",
       "    </tr>\n",
       "    <tr>\n",
       "      <th>1</th>\n",
       "      <td>1001</td>\n",
       "      <td>8</td>\n",
       "      <td>7.000</td>\n",
       "      <td>182.000</td>\n",
       "      <td>30.000</td>\n",
       "      <td>surf</td>\n",
       "      <td>20.000</td>\n",
       "      <td>Mickey</td>\n",
       "      <td>Wilkerson</td>\n",
       "      <td>28</td>\n",
       "      <td>Seattle-Tacoma-Bellevue, WA MSA</td>\n",
       "      <td>2018-08-13</td>\n",
       "      <td>surf</td>\n",
       "      <td>0</td>\n",
       "      <td>8</td>\n",
       "    </tr>\n",
       "    <tr>\n",
       "      <th>2</th>\n",
       "      <td>1001</td>\n",
       "      <td>9</td>\n",
       "      <td>14.000</td>\n",
       "      <td>315.000</td>\n",
       "      <td>44.000</td>\n",
       "      <td>surf</td>\n",
       "      <td>20.000</td>\n",
       "      <td>Mickey</td>\n",
       "      <td>Wilkerson</td>\n",
       "      <td>28</td>\n",
       "      <td>Seattle-Tacoma-Bellevue, WA MSA</td>\n",
       "      <td>2018-08-13</td>\n",
       "      <td>surf</td>\n",
       "      <td>0</td>\n",
       "      <td>8</td>\n",
       "    </tr>\n",
       "    <tr>\n",
       "      <th>3</th>\n",
       "      <td>1001</td>\n",
       "      <td>10</td>\n",
       "      <td>22.000</td>\n",
       "      <td>393.000</td>\n",
       "      <td>53.000</td>\n",
       "      <td>surf</td>\n",
       "      <td>93.030</td>\n",
       "      <td>Mickey</td>\n",
       "      <td>Wilkerson</td>\n",
       "      <td>28</td>\n",
       "      <td>Seattle-Tacoma-Bellevue, WA MSA</td>\n",
       "      <td>2018-08-13</td>\n",
       "      <td>surf</td>\n",
       "      <td>0</td>\n",
       "      <td>8</td>\n",
       "    </tr>\n",
       "    <tr>\n",
       "      <th>4</th>\n",
       "      <td>1001</td>\n",
       "      <td>11</td>\n",
       "      <td>19.000</td>\n",
       "      <td>426.000</td>\n",
       "      <td>36.000</td>\n",
       "      <td>surf</td>\n",
       "      <td>60.000</td>\n",
       "      <td>Mickey</td>\n",
       "      <td>Wilkerson</td>\n",
       "      <td>28</td>\n",
       "      <td>Seattle-Tacoma-Bellevue, WA MSA</td>\n",
       "      <td>2018-08-13</td>\n",
       "      <td>surf</td>\n",
       "      <td>0</td>\n",
       "      <td>8</td>\n",
       "    </tr>\n",
       "  </tbody>\n",
       "</table>\n",
       "</div>"
      ],
      "text/plain": [
       "   user_id  month_x  gb_used  duration  messages    plan_x  total_cost  \\\n",
       "0     1000       12    2.000   124.000    11.000  ultimate      70.000   \n",
       "1     1001        8    7.000   182.000    30.000      surf      20.000   \n",
       "2     1001        9   14.000   315.000    44.000      surf      20.000   \n",
       "3     1001       10   22.000   393.000    53.000      surf      93.030   \n",
       "4     1001       11   19.000   426.000    36.000      surf      60.000   \n",
       "\n",
       "  first_name  last_name  age                                   city  \\\n",
       "0   Anamaria      Bauer   45  Atlanta-Sandy Springs-Roswell, GA MSA   \n",
       "1     Mickey  Wilkerson   28        Seattle-Tacoma-Bellevue, WA MSA   \n",
       "2     Mickey  Wilkerson   28        Seattle-Tacoma-Bellevue, WA MSA   \n",
       "3     Mickey  Wilkerson   28        Seattle-Tacoma-Bellevue, WA MSA   \n",
       "4     Mickey  Wilkerson   28        Seattle-Tacoma-Bellevue, WA MSA   \n",
       "\n",
       "    reg_date    plan_y churn_date  month_y  \n",
       "0 2018-12-24  ultimate          0       12  \n",
       "1 2018-08-13      surf          0        8  \n",
       "2 2018-08-13      surf          0        8  \n",
       "3 2018-08-13      surf          0        8  \n",
       "4 2018-08-13      surf          0        8  "
      ]
     },
     "execution_count": 58,
     "metadata": {},
     "output_type": "execute_result"
    }
   ],
   "source": [
    "df_merged2.head()"
   ]
  },
  {
   "cell_type": "code",
   "execution_count": 59,
   "metadata": {},
   "outputs": [
    {
     "data": {
      "text/html": [
       "<div>\n",
       "<style scoped>\n",
       "    .dataframe tbody tr th:only-of-type {\n",
       "        vertical-align: middle;\n",
       "    }\n",
       "\n",
       "    .dataframe tbody tr th {\n",
       "        vertical-align: top;\n",
       "    }\n",
       "\n",
       "    .dataframe thead th {\n",
       "        text-align: right;\n",
       "    }\n",
       "</style>\n",
       "<table border=\"1\" class=\"dataframe\">\n",
       "  <thead>\n",
       "    <tr style=\"text-align: right;\">\n",
       "      <th></th>\n",
       "      <th>user_id</th>\n",
       "      <th>month_x</th>\n",
       "      <th>gb_used</th>\n",
       "      <th>duration</th>\n",
       "      <th>messages</th>\n",
       "      <th>plan_x</th>\n",
       "      <th>total_cost</th>\n",
       "      <th>first_name</th>\n",
       "      <th>last_name</th>\n",
       "      <th>age</th>\n",
       "      <th>city</th>\n",
       "      <th>reg_date</th>\n",
       "      <th>plan_y</th>\n",
       "      <th>churn_date</th>\n",
       "      <th>month_y</th>\n",
       "    </tr>\n",
       "  </thead>\n",
       "  <tbody>\n",
       "    <tr>\n",
       "      <th>56</th>\n",
       "      <td>1014</td>\n",
       "      <td>11</td>\n",
       "      <td>2.000</td>\n",
       "      <td>163.000</td>\n",
       "      <td>9.000</td>\n",
       "      <td>surf</td>\n",
       "      <td>20.000</td>\n",
       "      <td>Edmundo</td>\n",
       "      <td>Simon</td>\n",
       "      <td>61</td>\n",
       "      <td>New York-Newark-Jersey City, NY-NJ-PA MSA</td>\n",
       "      <td>2018-11-25</td>\n",
       "      <td>surf</td>\n",
       "      <td>0</td>\n",
       "      <td>11</td>\n",
       "    </tr>\n",
       "    <tr>\n",
       "      <th>57</th>\n",
       "      <td>1014</td>\n",
       "      <td>12</td>\n",
       "      <td>8.000</td>\n",
       "      <td>1114.000</td>\n",
       "      <td>64.000</td>\n",
       "      <td>surf</td>\n",
       "      <td>52.450</td>\n",
       "      <td>Edmundo</td>\n",
       "      <td>Simon</td>\n",
       "      <td>61</td>\n",
       "      <td>New York-Newark-Jersey City, NY-NJ-PA MSA</td>\n",
       "      <td>2018-11-25</td>\n",
       "      <td>surf</td>\n",
       "      <td>0</td>\n",
       "      <td>11</td>\n",
       "    </tr>\n",
       "    <tr>\n",
       "      <th>75</th>\n",
       "      <td>1022</td>\n",
       "      <td>5</td>\n",
       "      <td>5.000</td>\n",
       "      <td>302.000</td>\n",
       "      <td>0.000</td>\n",
       "      <td>surf</td>\n",
       "      <td>20.000</td>\n",
       "      <td>Bo</td>\n",
       "      <td>Snow</td>\n",
       "      <td>73</td>\n",
       "      <td>New York-Newark-Jersey City, NY-NJ-PA MSA</td>\n",
       "      <td>2018-04-20</td>\n",
       "      <td>surf</td>\n",
       "      <td>2018-09-07</td>\n",
       "      <td>4</td>\n",
       "    </tr>\n",
       "    <tr>\n",
       "      <th>76</th>\n",
       "      <td>1022</td>\n",
       "      <td>6</td>\n",
       "      <td>23.000</td>\n",
       "      <td>490.000</td>\n",
       "      <td>0.000</td>\n",
       "      <td>surf</td>\n",
       "      <td>100.000</td>\n",
       "      <td>Bo</td>\n",
       "      <td>Snow</td>\n",
       "      <td>73</td>\n",
       "      <td>New York-Newark-Jersey City, NY-NJ-PA MSA</td>\n",
       "      <td>2018-04-20</td>\n",
       "      <td>surf</td>\n",
       "      <td>2018-09-07</td>\n",
       "      <td>4</td>\n",
       "    </tr>\n",
       "    <tr>\n",
       "      <th>77</th>\n",
       "      <td>1022</td>\n",
       "      <td>7</td>\n",
       "      <td>10.000</td>\n",
       "      <td>475.000</td>\n",
       "      <td>0.000</td>\n",
       "      <td>surf</td>\n",
       "      <td>20.000</td>\n",
       "      <td>Bo</td>\n",
       "      <td>Snow</td>\n",
       "      <td>73</td>\n",
       "      <td>New York-Newark-Jersey City, NY-NJ-PA MSA</td>\n",
       "      <td>2018-04-20</td>\n",
       "      <td>surf</td>\n",
       "      <td>2018-09-07</td>\n",
       "      <td>4</td>\n",
       "    </tr>\n",
       "  </tbody>\n",
       "</table>\n",
       "</div>"
      ],
      "text/plain": [
       "    user_id  month_x  gb_used  duration  messages plan_x  total_cost  \\\n",
       "56     1014       11    2.000   163.000     9.000   surf      20.000   \n",
       "57     1014       12    8.000  1114.000    64.000   surf      52.450   \n",
       "75     1022        5    5.000   302.000     0.000   surf      20.000   \n",
       "76     1022        6   23.000   490.000     0.000   surf     100.000   \n",
       "77     1022        7   10.000   475.000     0.000   surf      20.000   \n",
       "\n",
       "   first_name last_name  age                                       city  \\\n",
       "56    Edmundo     Simon   61  New York-Newark-Jersey City, NY-NJ-PA MSA   \n",
       "57    Edmundo     Simon   61  New York-Newark-Jersey City, NY-NJ-PA MSA   \n",
       "75         Bo      Snow   73  New York-Newark-Jersey City, NY-NJ-PA MSA   \n",
       "76         Bo      Snow   73  New York-Newark-Jersey City, NY-NJ-PA MSA   \n",
       "77         Bo      Snow   73  New York-Newark-Jersey City, NY-NJ-PA MSA   \n",
       "\n",
       "     reg_date plan_y  churn_date  month_y  \n",
       "56 2018-11-25   surf           0       11  \n",
       "57 2018-11-25   surf           0       11  \n",
       "75 2018-04-20   surf  2018-09-07        4  \n",
       "76 2018-04-20   surf  2018-09-07        4  \n",
       "77 2018-04-20   surf  2018-09-07        4  "
      ]
     },
     "execution_count": 59,
     "metadata": {},
     "output_type": "execute_result"
    }
   ],
   "source": [
    "NY_NJ_area = df_merged2[df_merged2['city'].str.contains('NY-NJ')]\n",
    "NY_NJ_area.head()"
   ]
  },
  {
   "cell_type": "code",
   "execution_count": 60,
   "metadata": {},
   "outputs": [
    {
     "data": {
      "text/html": [
       "<div>\n",
       "<style scoped>\n",
       "    .dataframe tbody tr th:only-of-type {\n",
       "        vertical-align: middle;\n",
       "    }\n",
       "\n",
       "    .dataframe tbody tr th {\n",
       "        vertical-align: top;\n",
       "    }\n",
       "\n",
       "    .dataframe thead th {\n",
       "        text-align: right;\n",
       "    }\n",
       "</style>\n",
       "<table border=\"1\" class=\"dataframe\">\n",
       "  <thead>\n",
       "    <tr style=\"text-align: right;\">\n",
       "      <th></th>\n",
       "      <th>user_id</th>\n",
       "      <th>month_x</th>\n",
       "      <th>gb_used</th>\n",
       "      <th>duration</th>\n",
       "      <th>messages</th>\n",
       "      <th>plan_x</th>\n",
       "      <th>total_cost</th>\n",
       "      <th>first_name</th>\n",
       "      <th>last_name</th>\n",
       "      <th>age</th>\n",
       "      <th>city</th>\n",
       "      <th>reg_date</th>\n",
       "      <th>plan_y</th>\n",
       "      <th>churn_date</th>\n",
       "      <th>month_y</th>\n",
       "    </tr>\n",
       "  </thead>\n",
       "  <tbody>\n",
       "    <tr>\n",
       "      <th>0</th>\n",
       "      <td>1000</td>\n",
       "      <td>12</td>\n",
       "      <td>2.000</td>\n",
       "      <td>124.000</td>\n",
       "      <td>11.000</td>\n",
       "      <td>ultimate</td>\n",
       "      <td>70.000</td>\n",
       "      <td>Anamaria</td>\n",
       "      <td>Bauer</td>\n",
       "      <td>45</td>\n",
       "      <td>Atlanta-Sandy Springs-Roswell, GA MSA</td>\n",
       "      <td>2018-12-24</td>\n",
       "      <td>ultimate</td>\n",
       "      <td>0</td>\n",
       "      <td>12</td>\n",
       "    </tr>\n",
       "    <tr>\n",
       "      <th>1</th>\n",
       "      <td>1001</td>\n",
       "      <td>8</td>\n",
       "      <td>7.000</td>\n",
       "      <td>182.000</td>\n",
       "      <td>30.000</td>\n",
       "      <td>surf</td>\n",
       "      <td>20.000</td>\n",
       "      <td>Mickey</td>\n",
       "      <td>Wilkerson</td>\n",
       "      <td>28</td>\n",
       "      <td>Seattle-Tacoma-Bellevue, WA MSA</td>\n",
       "      <td>2018-08-13</td>\n",
       "      <td>surf</td>\n",
       "      <td>0</td>\n",
       "      <td>8</td>\n",
       "    </tr>\n",
       "    <tr>\n",
       "      <th>2</th>\n",
       "      <td>1001</td>\n",
       "      <td>9</td>\n",
       "      <td>14.000</td>\n",
       "      <td>315.000</td>\n",
       "      <td>44.000</td>\n",
       "      <td>surf</td>\n",
       "      <td>20.000</td>\n",
       "      <td>Mickey</td>\n",
       "      <td>Wilkerson</td>\n",
       "      <td>28</td>\n",
       "      <td>Seattle-Tacoma-Bellevue, WA MSA</td>\n",
       "      <td>2018-08-13</td>\n",
       "      <td>surf</td>\n",
       "      <td>0</td>\n",
       "      <td>8</td>\n",
       "    </tr>\n",
       "    <tr>\n",
       "      <th>3</th>\n",
       "      <td>1001</td>\n",
       "      <td>10</td>\n",
       "      <td>22.000</td>\n",
       "      <td>393.000</td>\n",
       "      <td>53.000</td>\n",
       "      <td>surf</td>\n",
       "      <td>93.030</td>\n",
       "      <td>Mickey</td>\n",
       "      <td>Wilkerson</td>\n",
       "      <td>28</td>\n",
       "      <td>Seattle-Tacoma-Bellevue, WA MSA</td>\n",
       "      <td>2018-08-13</td>\n",
       "      <td>surf</td>\n",
       "      <td>0</td>\n",
       "      <td>8</td>\n",
       "    </tr>\n",
       "    <tr>\n",
       "      <th>4</th>\n",
       "      <td>1001</td>\n",
       "      <td>11</td>\n",
       "      <td>19.000</td>\n",
       "      <td>426.000</td>\n",
       "      <td>36.000</td>\n",
       "      <td>surf</td>\n",
       "      <td>60.000</td>\n",
       "      <td>Mickey</td>\n",
       "      <td>Wilkerson</td>\n",
       "      <td>28</td>\n",
       "      <td>Seattle-Tacoma-Bellevue, WA MSA</td>\n",
       "      <td>2018-08-13</td>\n",
       "      <td>surf</td>\n",
       "      <td>0</td>\n",
       "      <td>8</td>\n",
       "    </tr>\n",
       "  </tbody>\n",
       "</table>\n",
       "</div>"
      ],
      "text/plain": [
       "   user_id  month_x  gb_used  duration  messages    plan_x  total_cost  \\\n",
       "0     1000       12    2.000   124.000    11.000  ultimate      70.000   \n",
       "1     1001        8    7.000   182.000    30.000      surf      20.000   \n",
       "2     1001        9   14.000   315.000    44.000      surf      20.000   \n",
       "3     1001       10   22.000   393.000    53.000      surf      93.030   \n",
       "4     1001       11   19.000   426.000    36.000      surf      60.000   \n",
       "\n",
       "  first_name  last_name  age                                   city  \\\n",
       "0   Anamaria      Bauer   45  Atlanta-Sandy Springs-Roswell, GA MSA   \n",
       "1     Mickey  Wilkerson   28        Seattle-Tacoma-Bellevue, WA MSA   \n",
       "2     Mickey  Wilkerson   28        Seattle-Tacoma-Bellevue, WA MSA   \n",
       "3     Mickey  Wilkerson   28        Seattle-Tacoma-Bellevue, WA MSA   \n",
       "4     Mickey  Wilkerson   28        Seattle-Tacoma-Bellevue, WA MSA   \n",
       "\n",
       "    reg_date    plan_y churn_date  month_y  \n",
       "0 2018-12-24  ultimate          0       12  \n",
       "1 2018-08-13      surf          0        8  \n",
       "2 2018-08-13      surf          0        8  \n",
       "3 2018-08-13      surf          0        8  \n",
       "4 2018-08-13      surf          0        8  "
      ]
     },
     "execution_count": 60,
     "metadata": {},
     "output_type": "execute_result"
    }
   ],
   "source": [
    "other_areas = df_merged2[~df_merged2['city'].str.contains('NY-NJ')]\n",
    "other_areas.head()"
   ]
  },
  {
   "cell_type": "code",
   "execution_count": 61,
   "metadata": {},
   "outputs": [
    {
     "name": "stdout",
     "output_type": "stream",
     "text": [
      "[70.0, 70.0, 20.0, 100.0, 20.0, 20.0, 20.0, 60.0, 20.0, 121.95, 112.0, 70.0, 70.0, 62.22, 280.0, 150.0, 70.0, 80.0, 22.34, 70.0, 70.0, 20.0, 20.0, 70.0, 20.0, 200.0, 70.0, 60.0, 77.41, 20.0, 51.5, 20.0, 50.0, 119.12, 93.96000000000001, 50.84, 80.36, 20.0, 100.0, 70.0, 160.0, 70.0, 70.0, 20.0, 20.0, 70.0, 40.0, 70.0, 20.0, 20.0, 20.0, 20.0, 20.0, 20.0, 60.0, 20.0, 40.0, 20.0, 30.0, 70.0, 90.0, 80.0, 32.730000000000004, 113.03, 77.0, 60.18, 20.0, 50.0, 23.06, 20.0, 106.03, 70.0, 20.0, 43.269999999999996, 20.0, 21.38, 20.0, 80.0, 70.0, 20.0, 20.84, 122.00999999999999, 70.0, 107.14, 30.0, 41.64, 120.0, 82.00999999999999, 134.03, 20.0, 20.0, 108.73, 245.60999999999999, 23.18, 21.92, 70.0, 50.0, 58.33, 90.0, 100.0]\n",
      "[236.9, 23.42, 50.0, 70.0, 51.03, 70.0, 229.22, 50.0, 380.0, 70.0, 50.81, 20.0, 112.1, 20.0, 70.0, 20.0, 91.92, 130.73000000000002, 70.0, 70.0, 70.0, 100.96000000000001, 70.0, 64.83, 20.0, 223.35, 20.0, 70.0, 70.0, 70.0, 73.78, 61.03, 29.060000000000002, 20.66, 70.0, 139.57999999999998, 80.0, 40.0, 37.85, 79.03, 20.0, 110.0, 20.0, 140.03, 150.0, 80.0, 70.0, 70.0, 31.67, 75.75999999999999, 20.0, 20.0, 20.0, 70.0, 160.0, 30.0, 70.0, 70.0, 70.0, 60.0, 54.03, 70.0, 70.0, 70.0, 60.0, 70.0, 236.03, 50.0, 20.0, 20.06, 40.0, 40.0, 116.93, 70.0, 50.78, 40.0, 70.0, 79.03, 70.0, 64.17, 30.0, 70.0, 50.0, 20.0, 70.0, 266.03, 70.0, 70.0, 71.68, 70.0, 70.0, 34.68, 70.0, 20.0, 70.0, 70.0, 74.02, 70.0, 70.0, 91.0]\n",
      "Variance of sample_plan1 -  2242.2953047600004\n",
      "Variance of sample_plan2 -  3277.9786974400004\n"
     ]
    }
   ],
   "source": [
    "sample_plan1 = NY_NJ_area.sample(100).total_cost.to_list()\n",
    "sample_plan2 = other_areas.sample(100).total_cost.to_list()\n",
    "\n",
    "print(sample_plan1)\n",
    "print(sample_plan2)\n",
    "print('Variance of sample_plan1 - ',np.var(sample_plan1))\n",
    "print('Variance of sample_plan2 - ',np.var(sample_plan2))"
   ]
  },
  {
   "cell_type": "code",
   "execution_count": 62,
   "metadata": {},
   "outputs": [
    {
     "name": "stdout",
     "output_type": "stream",
     "text": [
      "p-value: 0.11019060415875237\n",
      "We can't reject the null hypothesis\n"
     ]
    }
   ],
   "source": [
    "alpha = 0.05\n",
    "results = st.ttest_ind(sample_plan1, sample_plan2, equal_var = False)\n",
    "print('p-value:', results.pvalue)\n",
    "if results.pvalue < alpha:\n",
    "    print(\"We reject the null hypothesis\")\n",
    "else:\n",
    "    print(\"We can't reject the null hypothesis\")"
   ]
  },
  {
   "cell_type": "markdown",
   "metadata": {},
   "source": [
    "* How you formulated the null and alternative hypotheses"
   ]
  },
  {
   "cell_type": "markdown",
   "metadata": {},
   "source": [
    "•\tNull hip = the average revenue from users of Ultimate and Surf calling plans not  differs\n",
    "\n",
    "•\tAlternative hip =  the average revenue from users of Ultimate and Surf calling plans differs\n"
   ]
  },
  {
   "cell_type": "markdown",
   "metadata": {},
   "source": [
    "• Null hip = the average revenue from users in NY-NJ area is not  different from that of the users from other region\n",
    "• Alternative hip =  the average revenue from users in NY-NJ area is different from that of the users from other region\n"
   ]
  },
  {
   "cell_type": "markdown",
   "metadata": {},
   "source": [
    " What criterion you used to test the hypotheses and why?\n",
    "\n",
    "  the criterion was alpha = 0.05  A common rule is that when the probability is less than 5%  that a sample mean drawn from the null population would be as large as the obtained sample mean, we conclude that the sample did not come from the null population. "
   ]
  },
  {
   "cell_type": "markdown",
   "metadata": {},
   "source": [
    "<div class=\"alert alert-success\">\n",
    "<b>Reviewer's comment v1:</b>\n",
    "    \n",
    "- Great job! Hypotheses have been formulated and tested correctly. Great that you additionally checked data that has been used for the test.\n",
    "- You can also additionally compare the variances of the samples before testing hypotheses in order to understand with which equal_var parameter to use the ttest_ind test method (by default, True). In work, you accept it as False, while you do not justify your choice in any way. Here you can manually calculate variances, or use Levene's statistic test (https://docs.scipy.org/doc/scipy/reference/generated/scipy.stats.levene.html) or Barlett's test (https: //docs.scipy .org / doc / scipy / reference / generated / scipy.stats.bartlett.html # scipy.stats.bartlett)\n",
    "- Additionally would be great to add conclusions based on the results of the testing."
   ]
  },
  {
   "cell_type": "markdown",
   "metadata": {},
   "source": [
    "## overall conclusion"
   ]
  },
  {
   "cell_type": "markdown",
   "metadata": {},
   "source": [
    "I rounded up the duration we converted MB to GB used a rounded it up. Same thing on messages data frame.I found some users have 0 value on call duration and  some users have 0 value on internet usage and I decided to leave them as is because both of them as about 20% of data is too much data to loose and still they will be charged for a plan.Null hypotheses is that the average revenue from users of Ultimate and Surf calling plans differs and after testing that we see that we cannot reject that \n",
    "Second hypotheses was that the average revenue from users in NY-NJ area is not different from that of the users from other region and also here we see that we cannot reject that. Average usage on surf plan is 40 GB and the plan is limited for 15 GB its mean that in average we charge for exceeding the limit 250usd per user. Almost no one is using messaging . people talk on the phone 430min on average on both plans. Maybe we need to consider to change the limits of text messages and phone calls on both plans. on avrage surf plan revenue is 67,000 and on ultimate plan 72,000 ."
   ]
  },
  {
   "cell_type": "markdown",
   "metadata": {},
   "source": [
    "<div class=\"alert alert-danger\">\n",
    "<b>Reviewer's comment v1:</b>\n",
    " \n",
    "Overall you conducted great research with correct interim findings, clean code and nice visualisation.\n",
    "Nevertheless, general conclusions represent the overall work progress that you achieved. On a real project, this is probably the only thing the business stakeholders will read. Therefore, it is crucial to indicate in a structured way all conclusions that you made on each step in the project. It is also important to provide explanations and interpretations that will be interesting for business based on your analysis (a detailed description of the average user per each plan, which client group brings more additional revenue, which group brings more revenue in the total revenue)."
   ]
  },
  {
   "cell_type": "markdown",
   "metadata": {},
   "source": [
    "<div class=\"alert alert-block alert-success\">\n",
    "<b>Reviewer's comment v2</b>\n",
    " \n",
    "Thank you for extending your conclusions and adding valuable insights and recommendations. That is indeed very important in the data analyst role."
   ]
  }
 ],
 "metadata": {
  "ExecuteTimeLog": [
   {
    "duration": 708,
    "start_time": "2021-11-13T09:11:06.247Z"
   },
   {
    "duration": 4,
    "start_time": "2021-11-13T09:11:38.483Z"
   },
   {
    "duration": 11,
    "start_time": "2021-11-13T09:11:54.699Z"
   },
   {
    "duration": 433,
    "start_time": "2021-11-13T09:13:27.337Z"
   },
   {
    "duration": 311,
    "start_time": "2021-11-13T09:18:55.968Z"
   },
   {
    "duration": 12,
    "start_time": "2021-11-13T09:19:40.143Z"
   },
   {
    "duration": 8,
    "start_time": "2021-11-13T09:19:58.760Z"
   },
   {
    "duration": 7,
    "start_time": "2021-11-13T09:20:14.164Z"
   },
   {
    "duration": 319,
    "start_time": "2021-11-13T09:20:47.208Z"
   },
   {
    "duration": 9,
    "start_time": "2021-11-13T09:21:03.827Z"
   },
   {
    "duration": 10,
    "start_time": "2021-11-13T09:21:16.158Z"
   },
   {
    "duration": 7,
    "start_time": "2021-11-13T09:21:46.135Z"
   },
   {
    "duration": 249,
    "start_time": "2021-11-13T09:22:24.486Z"
   },
   {
    "duration": 17,
    "start_time": "2021-11-13T09:22:37.263Z"
   },
   {
    "duration": 11,
    "start_time": "2021-11-13T09:23:08.448Z"
   },
   {
    "duration": 15,
    "start_time": "2021-11-13T09:23:34.444Z"
   },
   {
    "duration": 18,
    "start_time": "2021-11-13T09:24:08.242Z"
   },
   {
    "duration": 7,
    "start_time": "2021-11-13T09:45:58.919Z"
   },
   {
    "duration": 7,
    "start_time": "2021-11-13T09:46:26.506Z"
   },
   {
    "duration": 252,
    "start_time": "2021-11-13T09:46:54.814Z"
   },
   {
    "duration": 262,
    "start_time": "2021-11-13T09:47:04.726Z"
   },
   {
    "duration": 250,
    "start_time": "2021-11-13T09:47:46.592Z"
   },
   {
    "duration": 8,
    "start_time": "2021-11-13T09:48:07.423Z"
   },
   {
    "duration": 24,
    "start_time": "2021-11-13T09:58:03.717Z"
   },
   {
    "duration": 276,
    "start_time": "2021-11-13T10:17:32.260Z"
   },
   {
    "duration": 6,
    "start_time": "2021-11-13T10:26:11.944Z"
   },
   {
    "duration": 8,
    "start_time": "2021-11-13T10:26:55.122Z"
   },
   {
    "duration": 5,
    "start_time": "2021-11-13T10:27:03.986Z"
   },
   {
    "duration": 7,
    "start_time": "2021-11-13T10:27:06.732Z"
   },
   {
    "duration": 262,
    "start_time": "2021-11-13T10:27:54.171Z"
   },
   {
    "duration": 4,
    "start_time": "2021-11-13T10:28:03.499Z"
   },
   {
    "duration": 8,
    "start_time": "2021-11-13T10:28:07.851Z"
   },
   {
    "duration": 86,
    "start_time": "2021-11-13T10:32:14.820Z"
   },
   {
    "duration": 9,
    "start_time": "2021-11-13T10:32:24.633Z"
   },
   {
    "duration": 4,
    "start_time": "2021-11-13T10:32:40.868Z"
   },
   {
    "duration": 8,
    "start_time": "2021-11-13T10:33:15.378Z"
   },
   {
    "duration": 10,
    "start_time": "2021-11-13T10:33:51.316Z"
   },
   {
    "duration": 12,
    "start_time": "2021-11-13T10:33:55.436Z"
   },
   {
    "duration": 14,
    "start_time": "2021-11-13T10:34:48.889Z"
   },
   {
    "duration": 9,
    "start_time": "2021-11-13T10:35:08.031Z"
   },
   {
    "duration": 7,
    "start_time": "2021-11-13T10:35:31.024Z"
   },
   {
    "duration": 268,
    "start_time": "2021-11-13T10:43:54.632Z"
   },
   {
    "duration": 17,
    "start_time": "2021-11-13T10:49:07.190Z"
   },
   {
    "duration": 15,
    "start_time": "2021-11-13T10:49:11.292Z"
   },
   {
    "duration": 10,
    "start_time": "2021-11-13T10:49:19.267Z"
   },
   {
    "duration": 11,
    "start_time": "2021-11-13T10:49:27.106Z"
   },
   {
    "duration": 9,
    "start_time": "2021-11-13T10:50:05.001Z"
   },
   {
    "duration": 16,
    "start_time": "2021-11-13T10:52:40.771Z"
   },
   {
    "duration": 15,
    "start_time": "2021-11-13T10:53:21.826Z"
   },
   {
    "duration": 9,
    "start_time": "2021-11-13T10:53:42.329Z"
   },
   {
    "duration": 6,
    "start_time": "2021-11-13T10:54:21.794Z"
   },
   {
    "duration": 16,
    "start_time": "2021-11-13T10:54:24.074Z"
   },
   {
    "duration": 10,
    "start_time": "2021-11-13T10:54:27.279Z"
   },
   {
    "duration": 7539,
    "start_time": "2021-11-13T11:03:26.031Z"
   },
   {
    "duration": 261,
    "start_time": "2021-11-13T11:03:33.312Z"
   },
   {
    "duration": 27,
    "start_time": "2021-11-13T11:05:00.544Z"
   },
   {
    "duration": 9,
    "start_time": "2021-11-13T11:05:04.557Z"
   },
   {
    "duration": 8,
    "start_time": "2021-11-13T11:07:09.342Z"
   },
   {
    "duration": 5,
    "start_time": "2021-11-13T11:07:38.804Z"
   },
   {
    "duration": 244,
    "start_time": "2021-11-13T11:08:32.356Z"
   },
   {
    "duration": 1029,
    "start_time": "2021-11-13T11:08:49.962Z"
   },
   {
    "duration": 290,
    "start_time": "2021-11-13T11:09:35.375Z"
   },
   {
    "duration": 269,
    "start_time": "2021-11-13T11:09:39.526Z"
   },
   {
    "duration": 16,
    "start_time": "2021-11-13T11:10:19.091Z"
   },
   {
    "duration": 22,
    "start_time": "2021-11-13T11:10:27.117Z"
   },
   {
    "duration": 22,
    "start_time": "2021-11-13T11:11:10.178Z"
   },
   {
    "duration": 28,
    "start_time": "2021-11-13T11:11:24.268Z"
   },
   {
    "duration": 36,
    "start_time": "2021-11-13T12:47:12.769Z"
   },
   {
    "duration": 261,
    "start_time": "2021-11-13T12:48:04.909Z"
   },
   {
    "duration": 9,
    "start_time": "2021-11-13T12:50:05.463Z"
   },
   {
    "duration": 13,
    "start_time": "2021-11-13T12:50:19.174Z"
   },
   {
    "duration": 10,
    "start_time": "2021-11-13T12:50:45.362Z"
   },
   {
    "duration": 12,
    "start_time": "2021-11-13T12:51:07.802Z"
   },
   {
    "duration": 13,
    "start_time": "2021-11-13T12:51:47.451Z"
   },
   {
    "duration": 13,
    "start_time": "2021-11-13T12:51:50.222Z"
   },
   {
    "duration": 9,
    "start_time": "2021-11-13T12:51:52.864Z"
   },
   {
    "duration": 31,
    "start_time": "2021-11-13T12:52:29.047Z"
   },
   {
    "duration": 13,
    "start_time": "2021-11-13T12:52:33.047Z"
   },
   {
    "duration": 5,
    "start_time": "2021-11-13T12:58:19.633Z"
   },
   {
    "duration": 17,
    "start_time": "2021-11-13T12:58:22.291Z"
   },
   {
    "duration": 33,
    "start_time": "2021-11-13T12:58:25.982Z"
   },
   {
    "duration": 14,
    "start_time": "2021-11-13T12:58:31.399Z"
   },
   {
    "duration": 295,
    "start_time": "2021-11-13T12:59:13.339Z"
   },
   {
    "duration": 5,
    "start_time": "2021-11-13T12:59:21.900Z"
   },
   {
    "duration": 10,
    "start_time": "2021-11-13T13:00:01.820Z"
   },
   {
    "duration": 9,
    "start_time": "2021-11-13T13:00:36.169Z"
   },
   {
    "duration": 26,
    "start_time": "2021-11-13T13:00:51.825Z"
   },
   {
    "duration": 10,
    "start_time": "2021-11-13T13:01:20.279Z"
   },
   {
    "duration": 11,
    "start_time": "2021-11-13T13:01:36.509Z"
   },
   {
    "duration": 12,
    "start_time": "2021-11-13T13:01:46.229Z"
   },
   {
    "duration": 9,
    "start_time": "2021-11-13T13:01:55.229Z"
   },
   {
    "duration": 11,
    "start_time": "2021-11-13T13:02:17.744Z"
   },
   {
    "duration": 9,
    "start_time": "2021-11-13T13:02:35.625Z"
   },
   {
    "duration": 308,
    "start_time": "2021-11-13T13:02:53.669Z"
   },
   {
    "duration": 8,
    "start_time": "2021-11-13T13:02:57.689Z"
   },
   {
    "duration": 9,
    "start_time": "2021-11-13T13:03:05.324Z"
   },
   {
    "duration": 9,
    "start_time": "2021-11-13T13:03:12.167Z"
   },
   {
    "duration": 10,
    "start_time": "2021-11-13T13:03:29.038Z"
   },
   {
    "duration": 11,
    "start_time": "2021-11-13T13:03:52.576Z"
   },
   {
    "duration": 6,
    "start_time": "2021-11-13T13:04:30.944Z"
   },
   {
    "duration": 8,
    "start_time": "2021-11-13T13:04:37.318Z"
   },
   {
    "duration": 10,
    "start_time": "2021-11-13T13:04:42.134Z"
   },
   {
    "duration": 27,
    "start_time": "2021-11-13T13:04:48.914Z"
   },
   {
    "duration": 270,
    "start_time": "2021-11-13T13:05:27.823Z"
   },
   {
    "duration": 28,
    "start_time": "2021-11-13T13:05:50.053Z"
   },
   {
    "duration": 270,
    "start_time": "2021-11-13T13:06:05.747Z"
   },
   {
    "duration": 23,
    "start_time": "2021-11-13T13:06:17.728Z"
   },
   {
    "duration": 17,
    "start_time": "2021-11-13T13:06:23.594Z"
   },
   {
    "duration": 38,
    "start_time": "2021-11-13T13:06:27.239Z"
   },
   {
    "duration": 32,
    "start_time": "2021-11-13T13:06:31.904Z"
   },
   {
    "duration": 12,
    "start_time": "2021-11-13T13:06:38.023Z"
   },
   {
    "duration": 11,
    "start_time": "2021-11-13T13:06:59.507Z"
   },
   {
    "duration": 12,
    "start_time": "2021-11-13T13:07:03.478Z"
   },
   {
    "duration": 12,
    "start_time": "2021-11-13T13:07:36.792Z"
   },
   {
    "duration": 267,
    "start_time": "2021-11-13T13:15:42.596Z"
   },
   {
    "duration": 284,
    "start_time": "2021-11-13T13:18:01.142Z"
   },
   {
    "duration": 3,
    "start_time": "2021-11-13T13:18:45.640Z"
   },
   {
    "duration": 269,
    "start_time": "2021-11-13T13:18:50.185Z"
   },
   {
    "duration": 270,
    "start_time": "2021-11-13T13:19:07.735Z"
   },
   {
    "duration": 3,
    "start_time": "2021-11-13T13:19:46.753Z"
   },
   {
    "duration": 4,
    "start_time": "2021-11-13T13:20:39.136Z"
   },
   {
    "duration": 3,
    "start_time": "2021-11-13T13:21:05.425Z"
   },
   {
    "duration": 4,
    "start_time": "2021-11-13T13:21:30.104Z"
   },
   {
    "duration": 4,
    "start_time": "2021-11-13T13:21:39.549Z"
   },
   {
    "duration": 4,
    "start_time": "2021-11-13T13:21:54.866Z"
   },
   {
    "duration": 30,
    "start_time": "2021-11-13T13:22:29.009Z"
   },
   {
    "duration": 13,
    "start_time": "2021-11-13T13:22:31.944Z"
   },
   {
    "duration": 269,
    "start_time": "2021-11-13T13:23:18.717Z"
   },
   {
    "duration": 4,
    "start_time": "2021-11-13T13:26:25.300Z"
   },
   {
    "duration": 4,
    "start_time": "2021-11-13T13:26:48.822Z"
   },
   {
    "duration": 12,
    "start_time": "2021-11-13T13:26:59.769Z"
   },
   {
    "duration": 4,
    "start_time": "2021-11-13T13:27:31.185Z"
   },
   {
    "duration": 11,
    "start_time": "2021-11-13T13:27:59.108Z"
   },
   {
    "duration": 13,
    "start_time": "2021-11-13T13:28:53.489Z"
   },
   {
    "duration": 8,
    "start_time": "2021-11-13T13:29:08.799Z"
   },
   {
    "duration": 8,
    "start_time": "2021-11-13T13:29:43.958Z"
   },
   {
    "duration": 2,
    "start_time": "2021-11-13T13:31:14.752Z"
   },
   {
    "duration": 7,
    "start_time": "2021-11-13T13:31:42.534Z"
   },
   {
    "duration": 8,
    "start_time": "2021-11-13T13:31:45.412Z"
   },
   {
    "duration": 256,
    "start_time": "2021-11-13T13:31:48.683Z"
   },
   {
    "duration": 10,
    "start_time": "2021-11-13T13:32:01.738Z"
   },
   {
    "duration": 18,
    "start_time": "2021-11-13T13:33:13.478Z"
   },
   {
    "duration": 9,
    "start_time": "2021-11-13T13:33:21.592Z"
   },
   {
    "duration": 10,
    "start_time": "2021-11-13T13:34:44.467Z"
   },
   {
    "duration": 10,
    "start_time": "2021-11-13T13:35:16.074Z"
   },
   {
    "duration": 10,
    "start_time": "2021-11-13T13:37:01.992Z"
   },
   {
    "duration": 8,
    "start_time": "2021-11-13T13:44:08.661Z"
   },
   {
    "duration": 16,
    "start_time": "2021-11-13T13:45:16.415Z"
   },
   {
    "duration": 9,
    "start_time": "2021-11-13T13:46:28.025Z"
   },
   {
    "duration": 13,
    "start_time": "2021-11-13T13:50:37.609Z"
   },
   {
    "duration": 14,
    "start_time": "2021-11-13T13:52:59.508Z"
   },
   {
    "duration": 14,
    "start_time": "2021-11-13T13:54:22.850Z"
   },
   {
    "duration": 5,
    "start_time": "2021-11-13T13:55:22.605Z"
   },
   {
    "duration": 10,
    "start_time": "2021-11-13T13:55:35.521Z"
   },
   {
    "duration": 11,
    "start_time": "2021-11-13T13:56:00.288Z"
   },
   {
    "duration": 16,
    "start_time": "2021-11-13T13:59:13.038Z"
   },
   {
    "duration": 11,
    "start_time": "2021-11-13T13:59:29.553Z"
   },
   {
    "duration": 11,
    "start_time": "2021-11-13T13:59:44.132Z"
   },
   {
    "duration": 10,
    "start_time": "2021-11-13T14:00:46.098Z"
   },
   {
    "duration": 315,
    "start_time": "2021-11-13T14:00:59.177Z"
   },
   {
    "duration": 9,
    "start_time": "2021-11-13T14:01:01.832Z"
   },
   {
    "duration": 6660,
    "start_time": "2021-11-13T14:01:07.562Z"
   },
   {
    "duration": 30,
    "start_time": "2021-11-13T14:01:42.049Z"
   },
   {
    "duration": 12,
    "start_time": "2021-11-13T14:01:54.797Z"
   },
   {
    "duration": 9,
    "start_time": "2021-11-13T14:06:46.260Z"
   },
   {
    "duration": 16,
    "start_time": "2021-11-13T14:06:56.132Z"
   },
   {
    "duration": 9,
    "start_time": "2021-11-13T14:07:01.876Z"
   },
   {
    "duration": 23,
    "start_time": "2021-11-13T14:07:07.909Z"
   },
   {
    "duration": 7,
    "start_time": "2021-11-13T14:07:16.531Z"
   },
   {
    "duration": 7,
    "start_time": "2021-11-13T14:07:19.277Z"
   },
   {
    "duration": 35,
    "start_time": "2021-11-13T14:07:34.741Z"
   },
   {
    "duration": 10,
    "start_time": "2021-11-13T14:07:36.855Z"
   },
   {
    "duration": 6,
    "start_time": "2021-11-13T14:07:37.007Z"
   },
   {
    "duration": 9,
    "start_time": "2021-11-13T14:07:41.865Z"
   },
   {
    "duration": 9,
    "start_time": "2021-11-13T14:12:08.985Z"
   },
   {
    "duration": 9,
    "start_time": "2021-11-13T14:12:43.455Z"
   },
   {
    "duration": 7422,
    "start_time": "2021-11-13T14:26:28.856Z"
   },
   {
    "duration": 7,
    "start_time": "2021-11-13T14:26:50.321Z"
   },
   {
    "duration": 18,
    "start_time": "2021-11-13T14:26:51.810Z"
   },
   {
    "duration": 16,
    "start_time": "2021-11-13T14:26:56.981Z"
   },
   {
    "duration": 9,
    "start_time": "2021-11-13T14:26:59.981Z"
   },
   {
    "duration": 6430,
    "start_time": "2021-11-13T14:27:06.871Z"
   },
   {
    "duration": 7,
    "start_time": "2021-11-13T14:27:43.399Z"
   },
   {
    "duration": 5,
    "start_time": "2021-11-13T14:27:43.409Z"
   },
   {
    "duration": 297,
    "start_time": "2021-11-13T14:27:43.417Z"
   },
   {
    "duration": 8,
    "start_time": "2021-11-13T14:27:43.716Z"
   },
   {
    "duration": 20,
    "start_time": "2021-11-13T14:27:43.726Z"
   },
   {
    "duration": 22,
    "start_time": "2021-11-13T14:27:43.748Z"
   },
   {
    "duration": 8,
    "start_time": "2021-11-13T14:27:43.772Z"
   },
   {
    "duration": 9,
    "start_time": "2021-11-13T14:27:43.783Z"
   },
   {
    "duration": 22,
    "start_time": "2021-11-13T14:27:43.794Z"
   },
   {
    "duration": 8,
    "start_time": "2021-11-13T14:27:43.818Z"
   },
   {
    "duration": 40,
    "start_time": "2021-11-13T14:27:43.828Z"
   },
   {
    "duration": 10,
    "start_time": "2021-11-13T14:27:43.870Z"
   },
   {
    "duration": 21,
    "start_time": "2021-11-13T14:27:43.882Z"
   },
   {
    "duration": 8,
    "start_time": "2021-11-13T14:27:43.905Z"
   },
   {
    "duration": 67,
    "start_time": "2021-11-13T14:27:43.915Z"
   },
   {
    "duration": 10,
    "start_time": "2021-11-13T14:27:43.984Z"
   },
   {
    "duration": 8,
    "start_time": "2021-11-13T14:27:43.995Z"
   },
   {
    "duration": 27,
    "start_time": "2021-11-13T14:27:44.004Z"
   },
   {
    "duration": 31,
    "start_time": "2021-11-13T14:27:44.033Z"
   },
   {
    "duration": 25,
    "start_time": "2021-11-13T14:27:44.066Z"
   },
   {
    "duration": 8,
    "start_time": "2021-11-13T14:27:44.093Z"
   },
   {
    "duration": 40,
    "start_time": "2021-11-13T14:27:44.102Z"
   },
   {
    "duration": 12,
    "start_time": "2021-11-13T14:27:44.165Z"
   },
   {
    "duration": 14,
    "start_time": "2021-11-13T14:27:44.179Z"
   },
   {
    "duration": 11,
    "start_time": "2021-11-13T14:27:44.195Z"
   },
   {
    "duration": 6,
    "start_time": "2021-11-13T14:27:44.207Z"
   },
   {
    "duration": 10,
    "start_time": "2021-11-13T14:27:44.214Z"
   },
   {
    "duration": 43,
    "start_time": "2021-11-13T14:27:44.225Z"
   },
   {
    "duration": 7,
    "start_time": "2021-11-13T14:27:44.270Z"
   },
   {
    "duration": 19,
    "start_time": "2021-11-13T14:27:44.278Z"
   },
   {
    "duration": 8,
    "start_time": "2021-11-13T14:27:44.299Z"
   },
   {
    "duration": 7272,
    "start_time": "2021-11-13T14:27:44.308Z"
   },
   {
    "duration": 41,
    "start_time": "2021-11-13T14:27:51.541Z"
   },
   {
    "duration": 14,
    "start_time": "2021-11-13T14:33:37.871Z"
   },
   {
    "duration": 15,
    "start_time": "2021-11-13T14:58:29.577Z"
   },
   {
    "duration": 87,
    "start_time": "2021-11-13T15:27:40.966Z"
   },
   {
    "duration": 95,
    "start_time": "2021-11-13T15:28:06.177Z"
   },
   {
    "duration": 89,
    "start_time": "2021-11-13T15:28:46.398Z"
   },
   {
    "duration": 85,
    "start_time": "2021-11-13T15:29:00.742Z"
   },
   {
    "duration": 86,
    "start_time": "2021-11-13T15:29:21.929Z"
   },
   {
    "duration": 86,
    "start_time": "2021-11-13T15:29:37.185Z"
   },
   {
    "duration": 87,
    "start_time": "2021-11-13T15:29:53.414Z"
   },
   {
    "duration": 88,
    "start_time": "2021-11-13T15:29:59.850Z"
   },
   {
    "duration": 145,
    "start_time": "2021-11-13T15:30:13.968Z"
   },
   {
    "duration": 85,
    "start_time": "2021-11-13T15:30:43.575Z"
   },
   {
    "duration": 86,
    "start_time": "2021-11-13T15:31:36.229Z"
   },
   {
    "duration": 96,
    "start_time": "2021-11-13T15:31:46.989Z"
   },
   {
    "duration": 106,
    "start_time": "2021-11-13T15:31:55.502Z"
   },
   {
    "duration": 4,
    "start_time": "2021-11-13T15:32:01.539Z"
   },
   {
    "duration": 85,
    "start_time": "2021-11-13T15:34:31.769Z"
   },
   {
    "duration": 4,
    "start_time": "2021-11-13T15:38:22.863Z"
   },
   {
    "duration": 269,
    "start_time": "2021-11-13T15:40:24.956Z"
   },
   {
    "duration": 9384,
    "start_time": "2021-11-13T15:40:38.143Z"
   },
   {
    "duration": 11,
    "start_time": "2021-11-13T15:41:37.257Z"
   },
   {
    "duration": 9,
    "start_time": "2021-11-13T15:41:55.926Z"
   },
   {
    "duration": 5,
    "start_time": "2021-11-13T15:45:08.132Z"
   },
   {
    "duration": 18,
    "start_time": "2021-11-13T15:45:10.841Z"
   },
   {
    "duration": 10,
    "start_time": "2021-11-13T15:45:15.280Z"
   },
   {
    "duration": 292,
    "start_time": "2021-11-13T15:49:03.027Z"
   },
   {
    "duration": 8608,
    "start_time": "2021-11-13T15:50:46.750Z"
   },
   {
    "duration": 6,
    "start_time": "2021-11-13T15:51:05.068Z"
   },
   {
    "duration": 83,
    "start_time": "2021-11-13T15:51:12.643Z"
   },
   {
    "duration": 14,
    "start_time": "2021-11-13T15:51:30.326Z"
   },
   {
    "duration": 2,
    "start_time": "2021-11-13T15:53:19.195Z"
   },
   {
    "duration": 23,
    "start_time": "2021-11-13T15:53:34.737Z"
   },
   {
    "duration": 10,
    "start_time": "2021-11-13T15:53:54.107Z"
   },
   {
    "duration": 11,
    "start_time": "2021-11-13T15:54:07.374Z"
   },
   {
    "duration": 16,
    "start_time": "2021-11-13T15:54:25.929Z"
   },
   {
    "duration": 6,
    "start_time": "2021-11-13T15:54:31.439Z"
   },
   {
    "duration": 7460,
    "start_time": "2021-11-13T15:54:35.680Z"
   },
   {
    "duration": 12082,
    "start_time": "2021-11-13T15:54:55.480Z"
   },
   {
    "duration": 8260,
    "start_time": "2021-11-13T15:55:50.529Z"
   },
   {
    "duration": 4,
    "start_time": "2021-11-13T15:58:44.530Z"
   },
   {
    "duration": 7487,
    "start_time": "2021-11-13T15:58:52.075Z"
   },
   {
    "duration": 4,
    "start_time": "2021-11-13T16:00:25.034Z"
   },
   {
    "duration": 8290,
    "start_time": "2021-11-13T16:00:29.459Z"
   },
   {
    "duration": 7685,
    "start_time": "2021-11-13T16:00:51.836Z"
   },
   {
    "duration": 262,
    "start_time": "2021-11-13T16:01:14.685Z"
   },
   {
    "duration": 2,
    "start_time": "2021-11-13T16:03:13.661Z"
   },
   {
    "duration": 1302,
    "start_time": "2021-11-13T16:03:21.835Z"
   },
   {
    "duration": 7858,
    "start_time": "2021-11-13T16:03:45.997Z"
   },
   {
    "duration": 4,
    "start_time": "2021-11-13T16:17:34.640Z"
   },
   {
    "duration": 8711,
    "start_time": "2021-11-13T16:17:37.899Z"
   },
   {
    "duration": 4,
    "start_time": "2021-11-13T16:18:09.820Z"
   },
   {
    "duration": 523,
    "start_time": "2021-11-13T16:18:17.242Z"
   },
   {
    "duration": 5,
    "start_time": "2021-11-13T16:19:04.700Z"
   },
   {
    "duration": 561,
    "start_time": "2021-11-13T16:19:07.639Z"
   },
   {
    "duration": 4,
    "start_time": "2021-11-13T16:19:28.476Z"
   },
   {
    "duration": 7860,
    "start_time": "2021-11-13T16:19:31.356Z"
   },
   {
    "duration": 5,
    "start_time": "2021-11-13T16:31:14.409Z"
   },
   {
    "duration": 8912,
    "start_time": "2021-11-13T16:31:19.038Z"
   },
   {
    "duration": 8077,
    "start_time": "2021-11-13T16:31:30.733Z"
   },
   {
    "duration": 4,
    "start_time": "2021-11-13T16:31:57.693Z"
   },
   {
    "duration": 536,
    "start_time": "2021-11-13T16:32:00.573Z"
   },
   {
    "duration": 5,
    "start_time": "2021-11-13T16:32:18.093Z"
   },
   {
    "duration": 545,
    "start_time": "2021-11-13T16:32:21.333Z"
   },
   {
    "duration": 5,
    "start_time": "2021-11-13T16:32:41.457Z"
   },
   {
    "duration": 8316,
    "start_time": "2021-11-13T16:32:44.709Z"
   },
   {
    "duration": 7910,
    "start_time": "2021-11-13T16:38:25.622Z"
   },
   {
    "duration": 173,
    "start_time": "2021-11-13T16:40:24.592Z"
   },
   {
    "duration": 92,
    "start_time": "2021-11-13T16:40:47.454Z"
   },
   {
    "duration": 85,
    "start_time": "2021-11-13T16:41:26.886Z"
   },
   {
    "duration": 99,
    "start_time": "2021-11-13T17:05:28.904Z"
   },
   {
    "duration": 4,
    "start_time": "2021-11-13T17:05:59.456Z"
   },
   {
    "duration": 9226,
    "start_time": "2021-11-13T17:06:20.560Z"
   },
   {
    "duration": 3,
    "start_time": "2021-11-13T17:12:25.825Z"
   },
   {
    "duration": 95,
    "start_time": "2021-11-15T10:57:33.062Z"
   },
   {
    "duration": 6,
    "start_time": "2021-11-15T10:59:03.909Z"
   },
   {
    "duration": 317,
    "start_time": "2021-11-15T10:59:20.986Z"
   },
   {
    "duration": 324,
    "start_time": "2021-11-15T10:59:27.187Z"
   },
   {
    "duration": 1141,
    "start_time": "2021-11-15T10:59:39.213Z"
   },
   {
    "duration": 4,
    "start_time": "2021-11-15T10:59:40.356Z"
   },
   {
    "duration": 342,
    "start_time": "2021-11-15T10:59:41.266Z"
   },
   {
    "duration": 11,
    "start_time": "2021-11-15T10:59:46.041Z"
   },
   {
    "duration": 22,
    "start_time": "2021-11-15T10:59:47.054Z"
   },
   {
    "duration": 31,
    "start_time": "2021-11-15T10:59:47.845Z"
   },
   {
    "duration": 8,
    "start_time": "2021-11-15T10:59:48.611Z"
   },
   {
    "duration": 3,
    "start_time": "2021-11-15T10:59:49.615Z"
   },
   {
    "duration": 14,
    "start_time": "2021-11-15T10:59:54.130Z"
   },
   {
    "duration": 8,
    "start_time": "2021-11-15T10:59:55.031Z"
   },
   {
    "duration": 11,
    "start_time": "2021-11-15T10:59:55.940Z"
   },
   {
    "duration": 8,
    "start_time": "2021-11-15T10:59:56.838Z"
   },
   {
    "duration": 10,
    "start_time": "2021-11-15T10:59:57.640Z"
   },
   {
    "duration": 7,
    "start_time": "2021-11-15T10:59:58.493Z"
   },
   {
    "duration": 45,
    "start_time": "2021-11-15T11:00:02.223Z"
   },
   {
    "duration": 9,
    "start_time": "2021-11-15T11:00:03.043Z"
   },
   {
    "duration": 10,
    "start_time": "2021-11-15T11:00:03.813Z"
   },
   {
    "duration": 29,
    "start_time": "2021-11-15T11:00:04.623Z"
   },
   {
    "duration": 10,
    "start_time": "2021-11-15T11:00:05.376Z"
   },
   {
    "duration": 22,
    "start_time": "2021-11-15T11:00:06.184Z"
   },
   {
    "duration": 8,
    "start_time": "2021-11-15T11:00:07.042Z"
   },
   {
    "duration": 6,
    "start_time": "2021-11-15T11:00:07.871Z"
   },
   {
    "duration": 89,
    "start_time": "2021-11-15T11:00:13.609Z"
   },
   {
    "duration": 14,
    "start_time": "2021-11-15T11:00:14.388Z"
   },
   {
    "duration": 13,
    "start_time": "2021-11-15T11:00:15.110Z"
   },
   {
    "duration": 14,
    "start_time": "2021-11-15T11:00:15.715Z"
   },
   {
    "duration": 15,
    "start_time": "2021-11-15T11:00:16.368Z"
   },
   {
    "duration": 3,
    "start_time": "2021-11-15T11:00:19.173Z"
   },
   {
    "duration": 12,
    "start_time": "2021-11-15T11:00:19.858Z"
   },
   {
    "duration": 9,
    "start_time": "2021-11-15T11:00:20.379Z"
   },
   {
    "duration": 9,
    "start_time": "2021-11-15T11:00:21.127Z"
   },
   {
    "duration": 30,
    "start_time": "2021-11-15T11:00:23.662Z"
   },
   {
    "duration": 11,
    "start_time": "2021-11-15T11:00:24.700Z"
   },
   {
    "duration": 16,
    "start_time": "2021-11-15T11:00:29.889Z"
   },
   {
    "duration": 5,
    "start_time": "2021-11-15T11:00:35.533Z"
   },
   {
    "duration": 7790,
    "start_time": "2021-11-15T11:00:39.084Z"
   },
   {
    "duration": 568,
    "start_time": "2021-11-15T11:03:25.537Z"
   },
   {
    "duration": 5,
    "start_time": "2021-11-15T11:03:42.480Z"
   },
   {
    "duration": 8422,
    "start_time": "2021-11-15T11:03:54.903Z"
   },
   {
    "duration": 8480,
    "start_time": "2021-11-15T11:04:19.543Z"
   },
   {
    "duration": 10,
    "start_time": "2021-11-15T11:07:13.646Z"
   },
   {
    "duration": 90,
    "start_time": "2021-11-15T11:10:33.081Z"
   },
   {
    "duration": 14,
    "start_time": "2021-11-15T11:10:39.371Z"
   },
   {
    "duration": 73,
    "start_time": "2021-11-15T11:11:16.530Z"
   },
   {
    "duration": 12,
    "start_time": "2021-11-15T11:11:19.435Z"
   },
   {
    "duration": 93,
    "start_time": "2021-11-15T11:12:33.855Z"
   },
   {
    "duration": 15,
    "start_time": "2021-11-15T11:12:36.101Z"
   },
   {
    "duration": 72,
    "start_time": "2021-11-15T11:14:18.762Z"
   },
   {
    "duration": 12,
    "start_time": "2021-11-15T11:14:20.965Z"
   },
   {
    "duration": 94,
    "start_time": "2021-11-15T11:15:44.222Z"
   },
   {
    "duration": 6,
    "start_time": "2021-11-15T11:16:38.262Z"
   },
   {
    "duration": 8566,
    "start_time": "2021-11-15T11:16:45.324Z"
   },
   {
    "duration": 6,
    "start_time": "2021-11-15T13:57:35.253Z"
   },
   {
    "duration": 7908,
    "start_time": "2021-11-15T13:57:46.131Z"
   },
   {
    "duration": 8039,
    "start_time": "2021-11-15T13:58:08.228Z"
   },
   {
    "duration": 8120,
    "start_time": "2021-11-15T13:58:28.047Z"
   },
   {
    "duration": 9,
    "start_time": "2021-11-15T14:28:45.978Z"
   },
   {
    "duration": 17,
    "start_time": "2021-11-15T14:28:59.999Z"
   },
   {
    "duration": 4,
    "start_time": "2021-11-15T14:29:31.454Z"
   },
   {
    "duration": 10,
    "start_time": "2021-11-15T14:29:47.222Z"
   },
   {
    "duration": 900,
    "start_time": "2021-11-15T14:29:52.170Z"
   },
   {
    "duration": 6,
    "start_time": "2021-11-15T14:30:49.771Z"
   },
   {
    "duration": 245,
    "start_time": "2021-11-15T14:30:52.572Z"
   },
   {
    "duration": 3,
    "start_time": "2021-11-15T14:32:14.884Z"
   },
   {
    "duration": 265,
    "start_time": "2021-11-15T14:32:28.303Z"
   },
   {
    "duration": 287,
    "start_time": "2021-11-15T14:32:49.499Z"
   },
   {
    "duration": 4,
    "start_time": "2021-11-15T14:33:00.582Z"
   },
   {
    "duration": 12,
    "start_time": "2021-11-15T14:33:00.588Z"
   },
   {
    "duration": 338,
    "start_time": "2021-11-15T14:33:00.603Z"
   },
   {
    "duration": 8,
    "start_time": "2021-11-15T14:33:00.944Z"
   },
   {
    "duration": 38,
    "start_time": "2021-11-15T14:33:00.954Z"
   },
   {
    "duration": 25,
    "start_time": "2021-11-15T14:33:00.994Z"
   },
   {
    "duration": 8,
    "start_time": "2021-11-15T14:33:01.021Z"
   },
   {
    "duration": 17,
    "start_time": "2021-11-15T14:33:01.031Z"
   },
   {
    "duration": 45,
    "start_time": "2021-11-15T14:33:01.051Z"
   },
   {
    "duration": 7,
    "start_time": "2021-11-15T14:33:01.098Z"
   },
   {
    "duration": 22,
    "start_time": "2021-11-15T14:33:01.107Z"
   },
   {
    "duration": 19,
    "start_time": "2021-11-15T14:33:01.131Z"
   },
   {
    "duration": 16,
    "start_time": "2021-11-15T14:33:01.151Z"
   },
   {
    "duration": 9,
    "start_time": "2021-11-15T14:33:01.169Z"
   },
   {
    "duration": 45,
    "start_time": "2021-11-15T14:33:01.180Z"
   },
   {
    "duration": 9,
    "start_time": "2021-11-15T14:33:01.227Z"
   },
   {
    "duration": 16,
    "start_time": "2021-11-15T14:33:01.238Z"
   },
   {
    "duration": 34,
    "start_time": "2021-11-15T14:33:01.263Z"
   },
   {
    "duration": 10,
    "start_time": "2021-11-15T14:33:01.299Z"
   },
   {
    "duration": 31,
    "start_time": "2021-11-15T14:33:01.311Z"
   },
   {
    "duration": 24,
    "start_time": "2021-11-15T14:33:01.344Z"
   },
   {
    "duration": 22,
    "start_time": "2021-11-15T14:33:01.370Z"
   },
   {
    "duration": 156,
    "start_time": "2021-11-15T14:33:01.394Z"
   },
   {
    "duration": 23,
    "start_time": "2021-11-15T14:33:01.553Z"
   },
   {
    "duration": 22,
    "start_time": "2021-11-15T14:33:01.578Z"
   },
   {
    "duration": 23,
    "start_time": "2021-11-15T14:33:01.603Z"
   },
   {
    "duration": 33,
    "start_time": "2021-11-15T14:33:01.631Z"
   },
   {
    "duration": 5,
    "start_time": "2021-11-15T14:33:01.668Z"
   },
   {
    "duration": 19,
    "start_time": "2021-11-15T14:33:01.675Z"
   },
   {
    "duration": 32,
    "start_time": "2021-11-15T14:33:01.696Z"
   },
   {
    "duration": 26,
    "start_time": "2021-11-15T14:33:01.731Z"
   },
   {
    "duration": 33,
    "start_time": "2021-11-15T14:33:01.760Z"
   },
   {
    "duration": 15,
    "start_time": "2021-11-15T14:33:01.795Z"
   },
   {
    "duration": 8,
    "start_time": "2021-11-15T14:33:01.813Z"
   },
   {
    "duration": 19,
    "start_time": "2021-11-15T14:33:01.823Z"
   },
   {
    "duration": 18,
    "start_time": "2021-11-15T14:33:01.845Z"
   },
   {
    "duration": 242,
    "start_time": "2021-11-15T14:33:01.865Z"
   },
   {
    "duration": 3,
    "start_time": "2021-11-15T14:33:02.109Z"
   },
   {
    "duration": 303,
    "start_time": "2021-11-15T14:33:02.114Z"
   },
   {
    "duration": 299,
    "start_time": "2021-11-15T14:33:07.317Z"
   },
   {
    "duration": 281,
    "start_time": "2021-11-15T14:33:13.829Z"
   },
   {
    "duration": 677,
    "start_time": "2021-11-15T14:33:19.552Z"
   },
   {
    "duration": 5,
    "start_time": "2021-11-15T14:33:30.415Z"
   },
   {
    "duration": 2,
    "start_time": "2021-11-15T14:33:31.506Z"
   },
   {
    "duration": 300,
    "start_time": "2021-11-15T14:33:32.296Z"
   },
   {
    "duration": 12,
    "start_time": "2021-11-15T14:33:33.135Z"
   },
   {
    "duration": 28,
    "start_time": "2021-11-15T14:33:34.733Z"
   },
   {
    "duration": 31,
    "start_time": "2021-11-15T14:33:35.032Z"
   },
   {
    "duration": 11,
    "start_time": "2021-11-15T14:33:35.313Z"
   },
   {
    "duration": 3,
    "start_time": "2021-11-15T14:33:35.477Z"
   },
   {
    "duration": 23,
    "start_time": "2021-11-15T14:33:35.675Z"
   },
   {
    "duration": 7,
    "start_time": "2021-11-15T14:33:35.899Z"
   },
   {
    "duration": 13,
    "start_time": "2021-11-15T14:33:36.102Z"
   },
   {
    "duration": 10,
    "start_time": "2021-11-15T14:33:36.315Z"
   },
   {
    "duration": 10,
    "start_time": "2021-11-15T14:33:36.524Z"
   },
   {
    "duration": 7,
    "start_time": "2021-11-15T14:33:36.727Z"
   },
   {
    "duration": 34,
    "start_time": "2021-11-15T14:33:37.395Z"
   },
   {
    "duration": 9,
    "start_time": "2021-11-15T14:33:37.619Z"
   },
   {
    "duration": 6,
    "start_time": "2021-11-15T14:33:37.841Z"
   },
   {
    "duration": 27,
    "start_time": "2021-11-15T14:33:38.061Z"
   },
   {
    "duration": 9,
    "start_time": "2021-11-15T14:33:38.305Z"
   },
   {
    "duration": 21,
    "start_time": "2021-11-15T14:33:38.530Z"
   },
   {
    "duration": 8,
    "start_time": "2021-11-15T14:33:38.767Z"
   },
   {
    "duration": 5,
    "start_time": "2021-11-15T14:33:39.000Z"
   },
   {
    "duration": 79,
    "start_time": "2021-11-15T14:33:39.914Z"
   },
   {
    "duration": 15,
    "start_time": "2021-11-15T14:33:40.148Z"
   },
   {
    "duration": 12,
    "start_time": "2021-11-15T14:33:40.847Z"
   },
   {
    "duration": 13,
    "start_time": "2021-11-15T14:33:41.093Z"
   },
   {
    "duration": 14,
    "start_time": "2021-11-15T14:33:41.315Z"
   },
   {
    "duration": 3,
    "start_time": "2021-11-15T14:33:42.404Z"
   },
   {
    "duration": 9,
    "start_time": "2021-11-15T14:33:42.885Z"
   },
   {
    "duration": 8,
    "start_time": "2021-11-15T14:33:43.590Z"
   },
   {
    "duration": 8,
    "start_time": "2021-11-15T14:33:44.124Z"
   },
   {
    "duration": 23,
    "start_time": "2021-11-15T14:33:44.399Z"
   },
   {
    "duration": 17,
    "start_time": "2021-11-15T14:33:44.631Z"
   },
   {
    "duration": 4,
    "start_time": "2021-11-15T14:33:44.938Z"
   },
   {
    "duration": 9,
    "start_time": "2021-11-15T14:33:46.358Z"
   },
   {
    "duration": 6,
    "start_time": "2021-11-15T14:33:50.747Z"
   },
   {
    "duration": 228,
    "start_time": "2021-11-15T14:33:53.702Z"
   },
   {
    "duration": 3,
    "start_time": "2021-11-15T14:33:55.764Z"
   },
   {
    "duration": 283,
    "start_time": "2021-11-15T14:33:56.968Z"
   },
   {
    "duration": 274,
    "start_time": "2021-11-15T14:34:01.943Z"
   },
   {
    "duration": 5,
    "start_time": "2021-11-15T14:34:06.064Z"
   },
   {
    "duration": 410,
    "start_time": "2021-11-15T14:34:10.573Z"
   },
   {
    "duration": 24,
    "start_time": "2021-11-15T14:34:20.108Z"
   },
   {
    "duration": 17,
    "start_time": "2021-11-15T14:34:21.513Z"
   },
   {
    "duration": 5,
    "start_time": "2021-11-15T14:34:26.196Z"
   },
   {
    "duration": 11,
    "start_time": "2021-11-15T14:34:28.960Z"
   },
   {
    "duration": 5,
    "start_time": "2021-11-15T14:34:31.971Z"
   },
   {
    "duration": 235,
    "start_time": "2021-11-15T14:34:36.050Z"
   },
   {
    "duration": 3,
    "start_time": "2021-11-15T14:34:39.194Z"
   },
   {
    "duration": 294,
    "start_time": "2021-11-15T14:34:42.883Z"
   },
   {
    "duration": 263,
    "start_time": "2021-11-15T14:34:50.495Z"
   },
   {
    "duration": 326,
    "start_time": "2021-11-15T14:34:54.286Z"
   },
   {
    "duration": 5,
    "start_time": "2021-11-15T14:34:57.099Z"
   },
   {
    "duration": 938,
    "start_time": "2021-11-15T14:34:59.263Z"
   },
   {
    "duration": 328,
    "start_time": "2021-11-15T14:35:06.830Z"
   },
   {
    "duration": 24,
    "start_time": "2021-11-15T14:35:11.334Z"
   },
   {
    "duration": 15,
    "start_time": "2021-11-15T14:35:12.501Z"
   },
   {
    "duration": 4,
    "start_time": "2021-11-15T14:35:17.020Z"
   },
   {
    "duration": 9,
    "start_time": "2021-11-15T14:35:19.596Z"
   },
   {
    "duration": 9,
    "start_time": "2021-11-15T14:35:40.386Z"
   },
   {
    "duration": 6,
    "start_time": "2021-11-15T14:35:43.074Z"
   },
   {
    "duration": 231,
    "start_time": "2021-11-15T14:35:45.658Z"
   },
   {
    "duration": 5,
    "start_time": "2021-11-15T14:36:18.613Z"
   },
   {
    "duration": 3,
    "start_time": "2021-11-15T14:36:19.272Z"
   },
   {
    "duration": 288,
    "start_time": "2021-11-15T14:36:37.632Z"
   },
   {
    "duration": 6,
    "start_time": "2021-11-15T14:36:42.795Z"
   },
   {
    "duration": 278,
    "start_time": "2021-11-15T14:36:44.009Z"
   },
   {
    "duration": 275,
    "start_time": "2021-11-15T14:36:50.228Z"
   },
   {
    "duration": 24,
    "start_time": "2021-11-15T14:36:54.242Z"
   },
   {
    "duration": 18,
    "start_time": "2021-11-15T14:36:55.142Z"
   },
   {
    "duration": 4,
    "start_time": "2021-11-15T14:36:56.412Z"
   },
   {
    "duration": 9,
    "start_time": "2021-11-15T14:37:04.519Z"
   },
   {
    "duration": 5,
    "start_time": "2021-11-15T14:37:09.907Z"
   },
   {
    "duration": 3,
    "start_time": "2021-11-15T14:37:14.504Z"
   },
   {
    "duration": 258,
    "start_time": "2021-11-15T14:37:31.631Z"
   },
   {
    "duration": 9,
    "start_time": "2021-11-15T14:37:49.618Z"
   },
   {
    "duration": 269,
    "start_time": "2021-11-15T14:38:05.818Z"
   },
   {
    "duration": 291,
    "start_time": "2021-11-15T14:38:14.010Z"
   },
   {
    "duration": 9,
    "start_time": "2021-11-15T14:38:17.273Z"
   },
   {
    "duration": 23,
    "start_time": "2021-11-15T14:38:18.372Z"
   },
   {
    "duration": 16,
    "start_time": "2021-11-15T14:38:19.503Z"
   },
   {
    "duration": 4,
    "start_time": "2021-11-15T14:38:20.726Z"
   },
   {
    "duration": 9,
    "start_time": "2021-11-15T14:38:21.395Z"
   },
   {
    "duration": 5,
    "start_time": "2021-11-15T14:38:26.645Z"
   },
   {
    "duration": 16,
    "start_time": "2021-11-15T14:38:35.984Z"
   },
   {
    "duration": 238,
    "start_time": "2021-11-15T14:38:40.200Z"
   },
   {
    "duration": 15,
    "start_time": "2021-11-15T14:38:43.635Z"
   },
   {
    "duration": 6,
    "start_time": "2021-11-15T14:39:21.939Z"
   },
   {
    "duration": 6,
    "start_time": "2021-11-15T14:39:24.890Z"
   },
   {
    "duration": 16,
    "start_time": "2021-11-15T14:39:25.743Z"
   },
   {
    "duration": 76,
    "start_time": "2021-11-15T14:39:26.068Z"
   },
   {
    "duration": 12,
    "start_time": "2021-11-15T14:39:26.696Z"
   },
   {
    "duration": 14,
    "start_time": "2021-11-15T14:39:31.010Z"
   },
   {
    "duration": 9,
    "start_time": "2021-11-15T14:42:53.485Z"
   },
   {
    "duration": 4,
    "start_time": "2021-11-15T14:42:54.502Z"
   },
   {
    "duration": 9,
    "start_time": "2021-11-15T14:42:55.753Z"
   },
   {
    "duration": 76,
    "start_time": "2021-11-15T14:42:57.351Z"
   },
   {
    "duration": 13,
    "start_time": "2021-11-15T14:42:59.246Z"
   },
   {
    "duration": 5,
    "start_time": "2021-11-15T14:45:21.519Z"
   },
   {
    "duration": 5,
    "start_time": "2021-11-15T14:45:24.176Z"
   },
   {
    "duration": 11,
    "start_time": "2021-11-15T14:45:25.354Z"
   },
   {
    "duration": 10,
    "start_time": "2021-11-15T14:45:33.520Z"
   },
   {
    "duration": 73,
    "start_time": "2021-11-15T14:45:47.606Z"
   },
   {
    "duration": 14,
    "start_time": "2021-11-15T14:45:50.118Z"
   },
   {
    "duration": 7,
    "start_time": "2021-11-15T14:47:01.552Z"
   },
   {
    "duration": 260,
    "start_time": "2021-11-15T14:47:03.671Z"
   },
   {
    "duration": 78,
    "start_time": "2021-11-15T14:47:04.444Z"
   },
   {
    "duration": 265,
    "start_time": "2021-11-15T14:47:24.216Z"
   },
   {
    "duration": 78,
    "start_time": "2021-11-15T14:47:28.945Z"
   },
   {
    "duration": 19,
    "start_time": "2021-11-15T14:47:30.385Z"
   },
   {
    "duration": 81,
    "start_time": "2021-11-15T14:55:13.208Z"
   },
   {
    "duration": 97,
    "start_time": "2021-11-15T14:55:25.588Z"
   },
   {
    "duration": 8,
    "start_time": "2021-11-15T14:55:32.482Z"
   },
   {
    "duration": 10,
    "start_time": "2021-11-15T14:55:39.701Z"
   },
   {
    "duration": 353,
    "start_time": "2021-11-15T14:56:16.491Z"
   },
   {
    "duration": 11,
    "start_time": "2021-11-15T14:56:28.911Z"
   },
   {
    "duration": 11,
    "start_time": "2021-11-15T14:57:59.003Z"
   },
   {
    "duration": 11,
    "start_time": "2021-11-15T14:58:42.146Z"
   },
   {
    "duration": 9,
    "start_time": "2021-11-15T14:58:50.413Z"
   },
   {
    "duration": 291,
    "start_time": "2021-11-15T14:58:51.359Z"
   },
   {
    "duration": 6,
    "start_time": "2021-11-15T14:59:39.546Z"
   },
   {
    "duration": 15,
    "start_time": "2021-11-15T14:59:48.397Z"
   },
   {
    "duration": 88,
    "start_time": "2021-11-15T15:02:27.531Z"
   },
   {
    "duration": 4,
    "start_time": "2021-11-15T15:02:36.456Z"
   },
   {
    "duration": 10,
    "start_time": "2021-11-15T15:02:40.416Z"
   },
   {
    "duration": 5,
    "start_time": "2021-11-15T15:03:17.080Z"
   },
   {
    "duration": 7513,
    "start_time": "2021-11-15T15:03:22.117Z"
   },
   {
    "duration": 10,
    "start_time": "2021-11-15T15:03:29.622Z"
   },
   {
    "duration": 7,
    "start_time": "2021-11-15T15:03:47.556Z"
   },
   {
    "duration": 7133,
    "start_time": "2021-11-15T15:03:52.192Z"
   },
   {
    "duration": 6,
    "start_time": "2021-11-15T15:04:32.365Z"
   },
   {
    "duration": 7424,
    "start_time": "2021-11-15T15:04:35.645Z"
   },
   {
    "duration": 10,
    "start_time": "2021-11-15T15:05:13.394Z"
   },
   {
    "duration": 10095,
    "start_time": "2021-11-15T15:05:35.213Z"
   },
   {
    "duration": 7451,
    "start_time": "2021-11-15T15:06:51.780Z"
   },
   {
    "duration": 7959,
    "start_time": "2021-11-15T15:08:40.328Z"
   },
   {
    "duration": 6,
    "start_time": "2021-11-15T15:09:03.037Z"
   },
   {
    "duration": 280,
    "start_time": "2021-11-15T15:09:06.704Z"
   },
   {
    "duration": 7,
    "start_time": "2021-11-15T15:09:14.484Z"
   },
   {
    "duration": 79,
    "start_time": "2021-11-15T15:09:18.747Z"
   },
   {
    "duration": 14,
    "start_time": "2021-11-15T15:09:21.790Z"
   },
   {
    "duration": 16,
    "start_time": "2021-11-15T15:12:04.864Z"
   },
   {
    "duration": 11,
    "start_time": "2021-11-15T15:13:14.906Z"
   },
   {
    "duration": 9,
    "start_time": "2021-11-15T15:13:26.389Z"
   },
   {
    "duration": 277,
    "start_time": "2021-11-15T15:13:38.540Z"
   },
   {
    "duration": 11,
    "start_time": "2021-11-15T15:13:49.941Z"
   },
   {
    "duration": 79,
    "start_time": "2021-11-15T15:14:53.734Z"
   },
   {
    "duration": 11,
    "start_time": "2021-11-15T15:15:07.894Z"
   },
   {
    "duration": 2,
    "start_time": "2021-11-15T15:15:47.420Z"
   },
   {
    "duration": 10,
    "start_time": "2021-11-15T15:19:55.250Z"
   },
   {
    "duration": 10,
    "start_time": "2021-11-15T15:20:25.219Z"
   },
   {
    "duration": 10,
    "start_time": "2021-11-15T15:20:37.684Z"
   },
   {
    "duration": 10,
    "start_time": "2021-11-15T15:20:46.682Z"
   },
   {
    "duration": 11,
    "start_time": "2021-11-15T15:20:55.623Z"
   },
   {
    "duration": 13,
    "start_time": "2021-11-15T15:21:16.171Z"
   },
   {
    "duration": 10,
    "start_time": "2021-11-15T15:21:37.013Z"
   },
   {
    "duration": 10,
    "start_time": "2021-11-15T15:21:46.668Z"
   },
   {
    "duration": 10,
    "start_time": "2021-11-15T15:23:23.851Z"
   },
   {
    "duration": 7,
    "start_time": "2021-11-15T15:30:24.843Z"
   },
   {
    "duration": 127,
    "start_time": "2021-11-15T15:30:30.991Z"
   },
   {
    "duration": 20,
    "start_time": "2021-11-15T15:30:33.208Z"
   },
   {
    "duration": 6,
    "start_time": "2021-11-15T15:31:25.637Z"
   },
   {
    "duration": 82,
    "start_time": "2021-11-15T15:31:32.327Z"
   },
   {
    "duration": 16,
    "start_time": "2021-11-15T15:31:33.851Z"
   },
   {
    "duration": 6,
    "start_time": "2021-11-15T15:32:23.666Z"
   },
   {
    "duration": 522,
    "start_time": "2021-11-15T15:32:28.471Z"
   },
   {
    "duration": 14,
    "start_time": "2021-11-15T15:32:29.416Z"
   },
   {
    "duration": 14,
    "start_time": "2021-11-15T15:32:32.528Z"
   },
   {
    "duration": 342,
    "start_time": "2021-11-15T15:32:39.767Z"
   },
   {
    "duration": 9,
    "start_time": "2021-11-15T15:33:13.147Z"
   },
   {
    "duration": 354,
    "start_time": "2021-11-15T15:33:17.348Z"
   },
   {
    "duration": 504,
    "start_time": "2021-11-15T15:33:20.630Z"
   },
   {
    "duration": 6,
    "start_time": "2021-11-15T15:33:48.072Z"
   },
   {
    "duration": 253,
    "start_time": "2021-11-15T15:33:50.386Z"
   },
   {
    "duration": 6,
    "start_time": "2021-11-15T15:33:58.133Z"
   },
   {
    "duration": 3,
    "start_time": "2021-11-15T15:33:58.707Z"
   },
   {
    "duration": 289,
    "start_time": "2021-11-15T15:33:58.932Z"
   },
   {
    "duration": 10,
    "start_time": "2021-11-15T15:33:59.223Z"
   },
   {
    "duration": 18,
    "start_time": "2021-11-15T15:33:59.382Z"
   },
   {
    "duration": 24,
    "start_time": "2021-11-15T15:33:59.589Z"
   },
   {
    "duration": 8,
    "start_time": "2021-11-15T15:33:59.802Z"
   },
   {
    "duration": 17,
    "start_time": "2021-11-15T15:34:00.017Z"
   },
   {
    "duration": 9,
    "start_time": "2021-11-15T15:34:00.233Z"
   },
   {
    "duration": 13,
    "start_time": "2021-11-15T15:34:00.447Z"
   },
   {
    "duration": 10,
    "start_time": "2021-11-15T15:34:00.720Z"
   },
   {
    "duration": 10,
    "start_time": "2021-11-15T15:34:00.892Z"
   },
   {
    "duration": 2,
    "start_time": "2021-11-15T15:34:01.102Z"
   },
   {
    "duration": 7,
    "start_time": "2021-11-15T15:34:01.313Z"
   },
   {
    "duration": 36,
    "start_time": "2021-11-15T15:34:01.965Z"
   },
   {
    "duration": 10,
    "start_time": "2021-11-15T15:34:02.196Z"
   },
   {
    "duration": 5,
    "start_time": "2021-11-15T15:34:02.422Z"
   },
   {
    "duration": 28,
    "start_time": "2021-11-15T15:34:02.656Z"
   },
   {
    "duration": 8,
    "start_time": "2021-11-15T15:34:02.911Z"
   },
   {
    "duration": 22,
    "start_time": "2021-11-15T15:34:03.168Z"
   },
   {
    "duration": 8,
    "start_time": "2021-11-15T15:34:03.633Z"
   },
   {
    "duration": 7,
    "start_time": "2021-11-15T15:34:03.896Z"
   },
   {
    "duration": 80,
    "start_time": "2021-11-15T15:34:05.422Z"
   },
   {
    "duration": 15,
    "start_time": "2021-11-15T15:34:05.850Z"
   },
   {
    "duration": 12,
    "start_time": "2021-11-15T15:34:06.141Z"
   },
   {
    "duration": 13,
    "start_time": "2021-11-15T15:34:06.375Z"
   },
   {
    "duration": 13,
    "start_time": "2021-11-15T15:34:06.621Z"
   },
   {
    "duration": 3,
    "start_time": "2021-11-15T15:34:07.171Z"
   },
   {
    "duration": 10,
    "start_time": "2021-11-15T15:34:07.682Z"
   },
   {
    "duration": 12,
    "start_time": "2021-11-15T15:34:08.258Z"
   },
   {
    "duration": 7,
    "start_time": "2021-11-15T15:34:08.912Z"
   },
   {
    "duration": 24,
    "start_time": "2021-11-15T15:34:09.534Z"
   },
   {
    "duration": 17,
    "start_time": "2021-11-15T15:34:10.440Z"
   },
   {
    "duration": 4,
    "start_time": "2021-11-15T15:34:11.460Z"
   },
   {
    "duration": 9,
    "start_time": "2021-11-15T15:34:12.278Z"
   },
   {
    "duration": 6658,
    "start_time": "2021-11-15T15:34:13.748Z"
   },
   {
    "duration": 78,
    "start_time": "2021-11-15T15:34:20.331Z"
   },
   {
    "duration": 52,
    "start_time": "2021-11-15T15:34:20.358Z"
   },
   {
    "duration": 7,
    "start_time": "2021-11-15T15:34:24.766Z"
   },
   {
    "duration": 121,
    "start_time": "2021-11-15T15:34:28.884Z"
   },
   {
    "duration": 19,
    "start_time": "2021-11-15T15:34:31.504Z"
   },
   {
    "duration": 9,
    "start_time": "2021-11-15T15:36:07.143Z"
   },
   {
    "duration": 6,
    "start_time": "2021-11-15T15:36:08.739Z"
   },
   {
    "duration": 527,
    "start_time": "2021-11-15T15:36:10.440Z"
   },
   {
    "duration": 6,
    "start_time": "2021-11-15T15:39:29.118Z"
   },
   {
    "duration": 5,
    "start_time": "2021-11-15T15:39:30.824Z"
   },
   {
    "duration": 511,
    "start_time": "2021-11-15T15:39:32.182Z"
   },
   {
    "duration": 7,
    "start_time": "2021-11-15T15:40:12.362Z"
   },
   {
    "duration": 272,
    "start_time": "2021-11-15T15:40:13.033Z"
   },
   {
    "duration": 273,
    "start_time": "2021-11-15T15:40:17.011Z"
   },
   {
    "duration": 81,
    "start_time": "2021-11-15T15:40:20.670Z"
   },
   {
    "duration": 15,
    "start_time": "2021-11-15T15:40:23.069Z"
   },
   {
    "duration": 9,
    "start_time": "2021-11-15T15:43:22.863Z"
   },
   {
    "duration": 248,
    "start_time": "2021-11-15T15:43:26.802Z"
   },
   {
    "duration": 81,
    "start_time": "2021-11-15T15:43:30.372Z"
   },
   {
    "duration": 13,
    "start_time": "2021-11-15T15:43:31.965Z"
   },
   {
    "duration": 83,
    "start_time": "2021-11-15T15:46:19.723Z"
   },
   {
    "duration": 6,
    "start_time": "2021-11-15T15:46:45.595Z"
   },
   {
    "duration": 378,
    "start_time": "2021-11-15T15:46:56.141Z"
   },
   {
    "duration": 5,
    "start_time": "2021-11-15T15:47:09.236Z"
   },
   {
    "duration": 7,
    "start_time": "2021-11-15T15:48:20.711Z"
   },
   {
    "duration": 15,
    "start_time": "2021-11-15T15:49:29.932Z"
   },
   {
    "duration": 1390,
    "start_time": "2021-11-15T20:04:57.496Z"
   },
   {
    "duration": 4,
    "start_time": "2021-11-15T20:04:58.888Z"
   },
   {
    "duration": 518,
    "start_time": "2021-11-15T20:04:58.896Z"
   },
   {
    "duration": 15,
    "start_time": "2021-11-15T20:04:59.417Z"
   },
   {
    "duration": 28,
    "start_time": "2021-11-15T20:04:59.434Z"
   },
   {
    "duration": 33,
    "start_time": "2021-11-15T20:04:59.465Z"
   },
   {
    "duration": 11,
    "start_time": "2021-11-15T20:04:59.500Z"
   },
   {
    "duration": 20,
    "start_time": "2021-11-15T20:04:59.514Z"
   },
   {
    "duration": 10,
    "start_time": "2021-11-15T20:04:59.568Z"
   },
   {
    "duration": 16,
    "start_time": "2021-11-15T20:04:59.584Z"
   },
   {
    "duration": 12,
    "start_time": "2021-11-15T20:04:59.803Z"
   },
   {
    "duration": 14,
    "start_time": "2021-11-15T20:05:00.030Z"
   },
   {
    "duration": 3,
    "start_time": "2021-11-15T20:05:00.287Z"
   },
   {
    "duration": 9,
    "start_time": "2021-11-15T20:05:00.516Z"
   },
   {
    "duration": 51,
    "start_time": "2021-11-15T20:05:01.243Z"
   },
   {
    "duration": 12,
    "start_time": "2021-11-15T20:05:01.505Z"
   },
   {
    "duration": 10,
    "start_time": "2021-11-15T20:05:01.753Z"
   },
   {
    "duration": 39,
    "start_time": "2021-11-15T20:05:02.011Z"
   },
   {
    "duration": 13,
    "start_time": "2021-11-15T20:05:02.242Z"
   },
   {
    "duration": 31,
    "start_time": "2021-11-15T20:05:02.554Z"
   },
   {
    "duration": 12,
    "start_time": "2021-11-15T20:05:02.746Z"
   },
   {
    "duration": 7,
    "start_time": "2021-11-15T20:05:02.955Z"
   },
   {
    "duration": 143,
    "start_time": "2021-11-15T20:05:04.128Z"
   },
   {
    "duration": 20,
    "start_time": "2021-11-15T20:05:04.273Z"
   },
   {
    "duration": 18,
    "start_time": "2021-11-15T20:05:04.370Z"
   },
   {
    "duration": 17,
    "start_time": "2021-11-15T20:05:05.708Z"
   },
   {
    "duration": 17,
    "start_time": "2021-11-15T20:05:07.544Z"
   },
   {
    "duration": 4,
    "start_time": "2021-11-15T20:05:08.029Z"
   },
   {
    "duration": 11,
    "start_time": "2021-11-15T20:05:08.695Z"
   },
   {
    "duration": 12,
    "start_time": "2021-11-15T20:05:08.968Z"
   },
   {
    "duration": 12,
    "start_time": "2021-11-15T20:05:09.215Z"
   },
   {
    "duration": 37,
    "start_time": "2021-11-15T20:05:09.456Z"
   },
   {
    "duration": 23,
    "start_time": "2021-11-15T20:05:09.840Z"
   },
   {
    "duration": 6,
    "start_time": "2021-11-15T20:05:09.962Z"
   },
   {
    "duration": 13,
    "start_time": "2021-11-15T20:05:10.172Z"
   },
   {
    "duration": 6834,
    "start_time": "2021-11-15T20:05:10.371Z"
   },
   {
    "duration": 1292,
    "start_time": "2021-11-15T20:05:15.916Z"
   },
   {
    "duration": 1283,
    "start_time": "2021-11-15T20:05:15.926Z"
   },
   {
    "duration": 1279,
    "start_time": "2021-11-15T20:05:15.932Z"
   },
   {
    "duration": 1274,
    "start_time": "2021-11-15T20:05:15.939Z"
   },
   {
    "duration": 1271,
    "start_time": "2021-11-15T20:05:15.943Z"
   },
   {
    "duration": 1268,
    "start_time": "2021-11-15T20:05:15.948Z"
   },
   {
    "duration": 1266,
    "start_time": "2021-11-15T20:05:15.952Z"
   },
   {
    "duration": 25,
    "start_time": "2021-11-15T20:05:30.592Z"
   },
   {
    "duration": 6500,
    "start_time": "2021-11-15T20:06:29.396Z"
   },
   {
    "duration": 291,
    "start_time": "2021-11-15T20:07:50.246Z"
   },
   {
    "duration": 38,
    "start_time": "2021-11-15T20:08:12.391Z"
   },
   {
    "duration": 15,
    "start_time": "2021-11-15T20:08:16.304Z"
   },
   {
    "duration": 34,
    "start_time": "2021-11-15T20:08:41.703Z"
   },
   {
    "duration": 25,
    "start_time": "2021-11-15T20:08:45.080Z"
   },
   {
    "duration": 7,
    "start_time": "2021-11-15T20:11:04.204Z"
   },
   {
    "duration": 19,
    "start_time": "2021-11-15T20:11:05.480Z"
   },
   {
    "duration": 271,
    "start_time": "2021-11-15T20:11:18.468Z"
   },
   {
    "duration": 8,
    "start_time": "2021-11-15T20:11:24.653Z"
   },
   {
    "duration": 3,
    "start_time": "2021-11-15T20:11:25.749Z"
   },
   {
    "duration": 8393,
    "start_time": "2021-11-15T20:11:27.018Z"
   },
   {
    "duration": 1278,
    "start_time": "2021-11-15T20:11:34.135Z"
   },
   {
    "duration": 5,
    "start_time": "2021-11-15T20:11:48.014Z"
   },
   {
    "duration": 11,
    "start_time": "2021-11-15T20:11:48.568Z"
   },
   {
    "duration": 3,
    "start_time": "2021-11-15T20:11:52.082Z"
   },
   {
    "duration": 9,
    "start_time": "2021-11-15T20:11:53.296Z"
   },
   {
    "duration": 3,
    "start_time": "2021-11-15T20:11:54.455Z"
   },
   {
    "duration": 19,
    "start_time": "2021-11-15T20:11:58.324Z"
   },
   {
    "duration": 20,
    "start_time": "2021-11-15T20:12:01.670Z"
   },
   {
    "duration": 35,
    "start_time": "2021-11-15T20:12:32.330Z"
   },
   {
    "duration": 6,
    "start_time": "2021-11-15T20:12:33.671Z"
   },
   {
    "duration": 18,
    "start_time": "2021-11-15T20:12:36.470Z"
   },
   {
    "duration": 19,
    "start_time": "2021-11-15T20:14:18.237Z"
   },
   {
    "duration": 6,
    "start_time": "2021-11-15T20:14:36.504Z"
   },
   {
    "duration": 26,
    "start_time": "2021-11-15T20:14:48.312Z"
   },
   {
    "duration": 38,
    "start_time": "2021-11-15T20:15:01.165Z"
   },
   {
    "duration": 19,
    "start_time": "2021-11-15T20:15:01.879Z"
   },
   {
    "duration": 7,
    "start_time": "2021-11-15T20:15:06.521Z"
   },
   {
    "duration": 17,
    "start_time": "2021-11-15T20:15:08.234Z"
   },
   {
    "duration": 32,
    "start_time": "2021-11-15T20:15:27.253Z"
   },
   {
    "duration": 19,
    "start_time": "2021-11-15T20:15:31.324Z"
   },
   {
    "duration": 5,
    "start_time": "2021-11-15T20:15:36.981Z"
   },
   {
    "duration": 17,
    "start_time": "2021-11-15T20:15:37.871Z"
   },
   {
    "duration": 36,
    "start_time": "2021-11-15T20:17:05.885Z"
   },
   {
    "duration": 18,
    "start_time": "2021-11-15T20:17:08.957Z"
   },
   {
    "duration": 6,
    "start_time": "2021-11-15T20:17:13.300Z"
   },
   {
    "duration": 24,
    "start_time": "2021-11-15T20:17:15.934Z"
   },
   {
    "duration": 30,
    "start_time": "2021-11-15T20:17:56.658Z"
   },
   {
    "duration": 17,
    "start_time": "2021-11-15T20:17:57.400Z"
   },
   {
    "duration": 15,
    "start_time": "2021-11-15T20:18:21.078Z"
   },
   {
    "duration": 16,
    "start_time": "2021-11-15T20:20:10.983Z"
   },
   {
    "duration": 31,
    "start_time": "2021-11-15T20:20:13.894Z"
   },
   {
    "duration": 22,
    "start_time": "2021-11-15T20:20:16.728Z"
   },
   {
    "duration": 8,
    "start_time": "2021-11-15T20:20:20.589Z"
   },
   {
    "duration": 16,
    "start_time": "2021-11-15T20:20:35.004Z"
   },
   {
    "duration": 5,
    "start_time": "2021-11-15T20:20:48.036Z"
   },
   {
    "duration": 34,
    "start_time": "2021-11-15T20:21:01.733Z"
   },
   {
    "duration": 17,
    "start_time": "2021-11-15T20:21:06.335Z"
   },
   {
    "duration": 6,
    "start_time": "2021-11-15T20:21:21.310Z"
   },
   {
    "duration": 5,
    "start_time": "2021-11-15T20:21:22.187Z"
   },
   {
    "duration": 11,
    "start_time": "2021-11-15T20:21:25.507Z"
   },
   {
    "duration": 5,
    "start_time": "2021-11-15T20:21:38.417Z"
   },
   {
    "duration": 10,
    "start_time": "2021-11-15T20:21:39.487Z"
   },
   {
    "duration": 1003,
    "start_time": "2021-11-16T05:42:55.670Z"
   },
   {
    "duration": 3,
    "start_time": "2021-11-16T05:42:56.674Z"
   },
   {
    "duration": 322,
    "start_time": "2021-11-16T05:42:56.678Z"
   },
   {
    "duration": 10,
    "start_time": "2021-11-16T05:42:57.003Z"
   },
   {
    "duration": 16,
    "start_time": "2021-11-16T05:42:57.015Z"
   },
   {
    "duration": 24,
    "start_time": "2021-11-16T05:42:57.107Z"
   },
   {
    "duration": 8,
    "start_time": "2021-11-16T05:42:57.397Z"
   },
   {
    "duration": 15,
    "start_time": "2021-11-16T05:42:57.649Z"
   },
   {
    "duration": 7,
    "start_time": "2021-11-16T05:42:57.902Z"
   },
   {
    "duration": 11,
    "start_time": "2021-11-16T05:42:58.173Z"
   },
   {
    "duration": 8,
    "start_time": "2021-11-16T05:42:58.407Z"
   },
   {
    "duration": 10,
    "start_time": "2021-11-16T05:42:58.652Z"
   },
   {
    "duration": 2,
    "start_time": "2021-11-16T05:42:58.886Z"
   },
   {
    "duration": 6,
    "start_time": "2021-11-16T05:42:59.125Z"
   },
   {
    "duration": 36,
    "start_time": "2021-11-16T05:42:59.937Z"
   },
   {
    "duration": 9,
    "start_time": "2021-11-16T05:43:00.183Z"
   },
   {
    "duration": 7,
    "start_time": "2021-11-16T05:43:00.467Z"
   },
   {
    "duration": 26,
    "start_time": "2021-11-16T05:43:00.715Z"
   },
   {
    "duration": 8,
    "start_time": "2021-11-16T05:43:00.955Z"
   },
   {
    "duration": 22,
    "start_time": "2021-11-16T05:43:01.221Z"
   },
   {
    "duration": 9,
    "start_time": "2021-11-16T05:43:01.487Z"
   },
   {
    "duration": 6,
    "start_time": "2021-11-16T05:43:01.731Z"
   },
   {
    "duration": 77,
    "start_time": "2021-11-16T05:43:03.223Z"
   },
   {
    "duration": 14,
    "start_time": "2021-11-16T05:43:03.850Z"
   },
   {
    "duration": 13,
    "start_time": "2021-11-16T05:43:04.186Z"
   },
   {
    "duration": 12,
    "start_time": "2021-11-16T05:43:04.518Z"
   },
   {
    "duration": 11,
    "start_time": "2021-11-16T05:43:04.795Z"
   },
   {
    "duration": 2,
    "start_time": "2021-11-16T05:43:06.014Z"
   },
   {
    "duration": 8,
    "start_time": "2021-11-16T05:43:06.482Z"
   },
   {
    "duration": 7,
    "start_time": "2021-11-16T05:43:07.427Z"
   },
   {
    "duration": 7,
    "start_time": "2021-11-16T05:43:08.326Z"
   },
   {
    "duration": 20,
    "start_time": "2021-11-16T05:43:09.047Z"
   },
   {
    "duration": 10,
    "start_time": "2021-11-16T05:43:11.170Z"
   },
   {
    "duration": 5,
    "start_time": "2021-11-16T05:43:11.919Z"
   },
   {
    "duration": 4,
    "start_time": "2021-11-16T05:43:12.198Z"
   },
   {
    "duration": 4,
    "start_time": "2021-11-16T05:43:12.591Z"
   },
   {
    "duration": 8,
    "start_time": "2021-11-16T05:43:12.878Z"
   },
   {
    "duration": 2,
    "start_time": "2021-11-16T05:43:13.173Z"
   },
   {
    "duration": 5,
    "start_time": "2021-11-16T05:43:15.389Z"
   },
   {
    "duration": 2,
    "start_time": "2021-11-16T05:44:14.397Z"
   },
   {
    "duration": 4,
    "start_time": "2021-11-16T05:44:14.736Z"
   },
   {
    "duration": 8,
    "start_time": "2021-11-16T05:44:15.073Z"
   },
   {
    "duration": 5,
    "start_time": "2021-11-16T05:44:22.443Z"
   },
   {
    "duration": 2,
    "start_time": "2021-11-16T05:44:22.900Z"
   },
   {
    "duration": 309,
    "start_time": "2021-11-16T05:44:23.456Z"
   },
   {
    "duration": 7,
    "start_time": "2021-11-16T05:44:23.767Z"
   },
   {
    "duration": 17,
    "start_time": "2021-11-16T05:44:23.982Z"
   },
   {
    "duration": 23,
    "start_time": "2021-11-16T05:44:24.188Z"
   },
   {
    "duration": 8,
    "start_time": "2021-11-16T05:44:24.431Z"
   },
   {
    "duration": 15,
    "start_time": "2021-11-16T05:44:24.684Z"
   },
   {
    "duration": 8,
    "start_time": "2021-11-16T05:44:24.902Z"
   },
   {
    "duration": 13,
    "start_time": "2021-11-16T05:44:25.150Z"
   },
   {
    "duration": 8,
    "start_time": "2021-11-16T05:44:25.399Z"
   },
   {
    "duration": 10,
    "start_time": "2021-11-16T05:44:25.660Z"
   },
   {
    "duration": 3,
    "start_time": "2021-11-16T05:44:25.891Z"
   },
   {
    "duration": 6,
    "start_time": "2021-11-16T05:44:26.149Z"
   },
   {
    "duration": 33,
    "start_time": "2021-11-16T05:44:32.162Z"
   },
   {
    "duration": 8,
    "start_time": "2021-11-16T05:44:32.593Z"
   },
   {
    "duration": 6,
    "start_time": "2021-11-16T05:44:33.025Z"
   },
   {
    "duration": 28,
    "start_time": "2021-11-16T05:44:33.399Z"
   },
   {
    "duration": 10,
    "start_time": "2021-11-16T05:44:33.685Z"
   },
   {
    "duration": 20,
    "start_time": "2021-11-16T05:44:33.977Z"
   },
   {
    "duration": 8,
    "start_time": "2021-11-16T05:44:34.256Z"
   },
   {
    "duration": 5,
    "start_time": "2021-11-16T05:44:35.382Z"
   },
   {
    "duration": 79,
    "start_time": "2021-11-16T05:44:53.658Z"
   },
   {
    "duration": 12,
    "start_time": "2021-11-16T05:44:59.088Z"
   },
   {
    "duration": 12,
    "start_time": "2021-11-16T05:45:00.469Z"
   },
   {
    "duration": 12,
    "start_time": "2021-11-16T05:45:02.580Z"
   },
   {
    "duration": 12,
    "start_time": "2021-11-16T05:45:04.588Z"
   },
   {
    "duration": 3,
    "start_time": "2021-11-16T05:45:09.529Z"
   },
   {
    "duration": 7,
    "start_time": "2021-11-16T05:45:11.267Z"
   },
   {
    "duration": 8,
    "start_time": "2021-11-16T05:45:12.123Z"
   },
   {
    "duration": 16,
    "start_time": "2021-11-16T05:45:52.604Z"
   },
   {
    "duration": 4,
    "start_time": "2021-11-16T05:45:54.889Z"
   },
   {
    "duration": 8,
    "start_time": "2021-11-16T05:46:05.199Z"
   },
   {
    "duration": 11,
    "start_time": "2021-11-16T05:46:07.374Z"
   },
   {
    "duration": 4,
    "start_time": "2021-11-16T05:46:35.818Z"
   },
   {
    "duration": 8,
    "start_time": "2021-11-16T05:46:37.179Z"
   },
   {
    "duration": 6,
    "start_time": "2021-11-16T05:46:57.831Z"
   },
   {
    "duration": 64,
    "start_time": "2021-11-16T05:47:08.289Z"
   },
   {
    "duration": 13,
    "start_time": "2021-11-16T05:47:10.442Z"
   },
   {
    "duration": 8,
    "start_time": "2021-11-16T05:49:55.959Z"
   },
   {
    "duration": 13,
    "start_time": "2021-11-16T05:50:56.043Z"
   },
   {
    "duration": 11,
    "start_time": "2021-11-16T05:51:26.221Z"
   },
   {
    "duration": 10,
    "start_time": "2021-11-16T05:57:12.069Z"
   },
   {
    "duration": 284,
    "start_time": "2021-11-16T05:57:29.080Z"
   },
   {
    "duration": 7,
    "start_time": "2021-11-16T05:57:38.409Z"
   },
   {
    "duration": 8,
    "start_time": "2021-11-16T05:58:14.635Z"
   },
   {
    "duration": 289,
    "start_time": "2021-11-16T05:59:17.234Z"
   },
   {
    "duration": 6,
    "start_time": "2021-11-16T05:59:17.544Z"
   },
   {
    "duration": 15,
    "start_time": "2021-11-16T05:59:17.791Z"
   },
   {
    "duration": 20,
    "start_time": "2021-11-16T05:59:18.031Z"
   },
   {
    "duration": 8,
    "start_time": "2021-11-16T05:59:18.261Z"
   },
   {
    "duration": 3,
    "start_time": "2021-11-16T05:59:18.487Z"
   },
   {
    "duration": 13,
    "start_time": "2021-11-16T05:59:18.733Z"
   },
   {
    "duration": 7,
    "start_time": "2021-11-16T05:59:18.964Z"
   },
   {
    "duration": 12,
    "start_time": "2021-11-16T05:59:19.198Z"
   },
   {
    "duration": 7,
    "start_time": "2021-11-16T05:59:19.551Z"
   },
   {
    "duration": 10,
    "start_time": "2021-11-16T05:59:19.821Z"
   },
   {
    "duration": 3,
    "start_time": "2021-11-16T05:59:20.054Z"
   },
   {
    "duration": 7,
    "start_time": "2021-11-16T05:59:20.312Z"
   },
   {
    "duration": 33,
    "start_time": "2021-11-16T05:59:21.029Z"
   },
   {
    "duration": 8,
    "start_time": "2021-11-16T05:59:21.261Z"
   },
   {
    "duration": 5,
    "start_time": "2021-11-16T05:59:21.501Z"
   },
   {
    "duration": 24,
    "start_time": "2021-11-16T05:59:21.770Z"
   },
   {
    "duration": 9,
    "start_time": "2021-11-16T05:59:22.013Z"
   },
   {
    "duration": 19,
    "start_time": "2021-11-16T05:59:22.250Z"
   },
   {
    "duration": 9,
    "start_time": "2021-11-16T05:59:22.484Z"
   },
   {
    "duration": 6,
    "start_time": "2021-11-16T05:59:22.753Z"
   },
   {
    "duration": 81,
    "start_time": "2021-11-16T05:59:23.813Z"
   },
   {
    "duration": 12,
    "start_time": "2021-11-16T05:59:24.158Z"
   },
   {
    "duration": 12,
    "start_time": "2021-11-16T05:59:24.493Z"
   },
   {
    "duration": 12,
    "start_time": "2021-11-16T05:59:24.816Z"
   },
   {
    "duration": 13,
    "start_time": "2021-11-16T05:59:25.139Z"
   },
   {
    "duration": 3,
    "start_time": "2021-11-16T05:59:25.836Z"
   },
   {
    "duration": 10,
    "start_time": "2021-11-16T05:59:26.180Z"
   },
   {
    "duration": 8,
    "start_time": "2021-11-16T05:59:27.005Z"
   },
   {
    "duration": 9,
    "start_time": "2021-11-16T05:59:27.724Z"
   },
   {
    "duration": 10,
    "start_time": "2021-11-16T05:59:28.041Z"
   },
   {
    "duration": 17,
    "start_time": "2021-11-16T05:59:28.379Z"
   },
   {
    "duration": 5,
    "start_time": "2021-11-16T05:59:28.701Z"
   },
   {
    "duration": 8,
    "start_time": "2021-11-16T05:59:29.023Z"
   },
   {
    "duration": 13,
    "start_time": "2021-11-16T05:59:29.309Z"
   },
   {
    "duration": 5,
    "start_time": "2021-11-16T05:59:29.616Z"
   },
   {
    "duration": 8,
    "start_time": "2021-11-16T05:59:30.028Z"
   },
   {
    "duration": 6,
    "start_time": "2021-11-16T05:59:30.974Z"
   },
   {
    "duration": 3,
    "start_time": "2021-11-16T05:59:31.250Z"
   },
   {
    "duration": 67,
    "start_time": "2021-11-16T05:59:31.580Z"
   },
   {
    "duration": 14,
    "start_time": "2021-11-16T05:59:31.933Z"
   },
   {
    "duration": 418,
    "start_time": "2021-11-16T09:45:10.186Z"
   },
   {
    "duration": 428,
    "start_time": "2021-11-16T09:46:45.122Z"
   },
   {
    "duration": 1394,
    "start_time": "2021-11-16T09:47:50.828Z"
   },
   {
    "duration": 4,
    "start_time": "2021-11-16T09:47:52.251Z"
   },
   {
    "duration": 382,
    "start_time": "2021-11-16T09:47:52.469Z"
   },
   {
    "duration": 15,
    "start_time": "2021-11-16T09:47:52.854Z"
   },
   {
    "duration": 22,
    "start_time": "2021-11-16T09:47:52.910Z"
   },
   {
    "duration": 31,
    "start_time": "2021-11-16T09:47:53.117Z"
   },
   {
    "duration": 11,
    "start_time": "2021-11-16T09:47:53.336Z"
   },
   {
    "duration": 3,
    "start_time": "2021-11-16T09:47:53.552Z"
   },
   {
    "duration": 18,
    "start_time": "2021-11-16T09:47:53.769Z"
   },
   {
    "duration": 10,
    "start_time": "2021-11-16T09:47:53.985Z"
   },
   {
    "duration": 15,
    "start_time": "2021-11-16T09:47:54.204Z"
   },
   {
    "duration": 13,
    "start_time": "2021-11-16T09:47:54.428Z"
   },
   {
    "duration": 13,
    "start_time": "2021-11-16T09:47:54.660Z"
   },
   {
    "duration": 3,
    "start_time": "2021-11-16T09:47:54.876Z"
   },
   {
    "duration": 9,
    "start_time": "2021-11-16T09:47:55.125Z"
   },
   {
    "duration": 48,
    "start_time": "2021-11-16T09:47:55.792Z"
   },
   {
    "duration": 13,
    "start_time": "2021-11-16T09:47:56.009Z"
   },
   {
    "duration": 13,
    "start_time": "2021-11-16T09:47:56.250Z"
   },
   {
    "duration": 36,
    "start_time": "2021-11-16T09:47:56.487Z"
   },
   {
    "duration": 12,
    "start_time": "2021-11-16T09:47:56.722Z"
   },
   {
    "duration": 29,
    "start_time": "2021-11-16T09:47:56.963Z"
   },
   {
    "duration": 12,
    "start_time": "2021-11-16T09:47:57.179Z"
   },
   {
    "duration": 8,
    "start_time": "2021-11-16T09:47:57.415Z"
   },
   {
    "duration": 133,
    "start_time": "2021-11-16T09:47:58.365Z"
   },
   {
    "duration": 19,
    "start_time": "2021-11-16T09:47:58.589Z"
   },
   {
    "duration": 19,
    "start_time": "2021-11-16T09:48:00.619Z"
   },
   {
    "duration": 33,
    "start_time": "2021-11-16T09:48:00.641Z"
   },
   {
    "duration": 32,
    "start_time": "2021-11-16T09:48:00.677Z"
   },
   {
    "duration": 23,
    "start_time": "2021-11-16T09:48:00.711Z"
   },
   {
    "duration": 40,
    "start_time": "2021-11-16T09:48:00.736Z"
   },
   {
    "duration": 18,
    "start_time": "2021-11-16T09:48:00.796Z"
   },
   {
    "duration": 10,
    "start_time": "2021-11-16T09:48:01.289Z"
   },
   {
    "duration": 11,
    "start_time": "2021-11-16T09:48:01.724Z"
   },
   {
    "duration": 27,
    "start_time": "2021-11-16T09:48:01.949Z"
   },
   {
    "duration": 7,
    "start_time": "2021-11-16T09:48:02.181Z"
   },
   {
    "duration": 12,
    "start_time": "2021-11-16T09:48:02.407Z"
   },
   {
    "duration": 16,
    "start_time": "2021-11-16T09:48:02.638Z"
   },
   {
    "duration": 5,
    "start_time": "2021-11-16T09:48:02.878Z"
   },
   {
    "duration": 11,
    "start_time": "2021-11-16T09:48:04.432Z"
   },
   {
    "duration": 12,
    "start_time": "2021-11-16T09:48:05.125Z"
   },
   {
    "duration": 3,
    "start_time": "2021-11-16T09:48:05.933Z"
   },
   {
    "duration": 121,
    "start_time": "2021-11-16T09:48:06.276Z"
   },
   {
    "duration": 31,
    "start_time": "2021-11-16T09:48:07.125Z"
   },
   {
    "duration": 453,
    "start_time": "2021-11-16T09:48:12.865Z"
   },
   {
    "duration": 366,
    "start_time": "2021-11-16T09:48:50.243Z"
   },
   {
    "duration": 391,
    "start_time": "2021-11-16T09:53:37.950Z"
   },
   {
    "duration": 445,
    "start_time": "2021-11-16T10:02:38.848Z"
   },
   {
    "duration": 350,
    "start_time": "2021-11-16T10:02:54.236Z"
   },
   {
    "duration": 379,
    "start_time": "2021-11-16T10:12:50.546Z"
   },
   {
    "duration": 7,
    "start_time": "2021-11-16T10:13:31.873Z"
   },
   {
    "duration": 8,
    "start_time": "2021-11-16T10:14:01.598Z"
   },
   {
    "duration": 31,
    "start_time": "2021-11-16T10:14:31.114Z"
   },
   {
    "duration": 390,
    "start_time": "2021-11-16T10:15:14.799Z"
   },
   {
    "duration": 429,
    "start_time": "2021-11-16T10:15:56.779Z"
   },
   {
    "duration": 6,
    "start_time": "2021-11-16T10:16:55.878Z"
   },
   {
    "duration": 778,
    "start_time": "2021-11-16T10:17:08.493Z"
   },
   {
    "duration": 22,
    "start_time": "2021-11-16T10:21:43.532Z"
   },
   {
    "duration": 620,
    "start_time": "2021-11-16T10:24:37.525Z"
   },
   {
    "duration": 427,
    "start_time": "2021-11-16T10:25:05.791Z"
   },
   {
    "duration": 552,
    "start_time": "2021-11-16T10:25:28.610Z"
   },
   {
    "duration": 558,
    "start_time": "2021-11-16T10:25:40.082Z"
   },
   {
    "duration": 522,
    "start_time": "2021-11-16T10:25:52.831Z"
   },
   {
    "duration": 426,
    "start_time": "2021-11-16T10:26:24.864Z"
   },
   {
    "duration": 22,
    "start_time": "2021-11-16T10:27:53.025Z"
   },
   {
    "duration": 7,
    "start_time": "2021-11-16T10:31:30.923Z"
   },
   {
    "duration": 708,
    "start_time": "2021-11-16T10:33:00.524Z"
   },
   {
    "duration": 12,
    "start_time": "2021-11-16T10:37:19.456Z"
   },
   {
    "duration": 4,
    "start_time": "2021-11-16T10:37:22.888Z"
   },
   {
    "duration": 513,
    "start_time": "2021-11-16T10:37:23.097Z"
   },
   {
    "duration": 15,
    "start_time": "2021-11-16T10:37:23.613Z"
   },
   {
    "duration": 39,
    "start_time": "2021-11-16T10:37:23.632Z"
   },
   {
    "duration": 31,
    "start_time": "2021-11-16T10:37:23.734Z"
   },
   {
    "duration": 10,
    "start_time": "2021-11-16T10:37:23.933Z"
   },
   {
    "duration": 3,
    "start_time": "2021-11-16T10:37:24.131Z"
   },
   {
    "duration": 18,
    "start_time": "2021-11-16T10:37:24.346Z"
   },
   {
    "duration": 14,
    "start_time": "2021-11-16T10:37:24.541Z"
   },
   {
    "duration": 22,
    "start_time": "2021-11-16T10:37:24.770Z"
   },
   {
    "duration": 12,
    "start_time": "2021-11-16T10:37:24.970Z"
   },
   {
    "duration": 15,
    "start_time": "2021-11-16T10:37:25.179Z"
   },
   {
    "duration": 3,
    "start_time": "2021-11-16T10:37:25.385Z"
   },
   {
    "duration": 9,
    "start_time": "2021-11-16T10:37:25.594Z"
   },
   {
    "duration": 61,
    "start_time": "2021-11-16T10:37:26.244Z"
   },
   {
    "duration": 17,
    "start_time": "2021-11-16T10:37:26.449Z"
   },
   {
    "duration": 8,
    "start_time": "2021-11-16T10:37:26.662Z"
   },
   {
    "duration": 36,
    "start_time": "2021-11-16T10:37:26.877Z"
   },
   {
    "duration": 13,
    "start_time": "2021-11-16T10:37:27.086Z"
   },
   {
    "duration": 29,
    "start_time": "2021-11-16T10:37:27.304Z"
   },
   {
    "duration": 12,
    "start_time": "2021-11-16T10:37:27.522Z"
   },
   {
    "duration": 7,
    "start_time": "2021-11-16T10:37:27.737Z"
   },
   {
    "duration": 129,
    "start_time": "2021-11-16T10:37:28.602Z"
   },
   {
    "duration": 19,
    "start_time": "2021-11-16T10:37:28.826Z"
   },
   {
    "duration": 25,
    "start_time": "2021-11-16T10:37:29.059Z"
   },
   {
    "duration": 18,
    "start_time": "2021-11-16T10:37:29.300Z"
   },
   {
    "duration": 19,
    "start_time": "2021-11-16T10:37:29.537Z"
   },
   {
    "duration": 4,
    "start_time": "2021-11-16T10:37:29.981Z"
   },
   {
    "duration": 11,
    "start_time": "2021-11-16T10:37:30.199Z"
   },
   {
    "duration": 15,
    "start_time": "2021-11-16T10:37:30.417Z"
   },
   {
    "duration": 19,
    "start_time": "2021-11-16T10:37:30.642Z"
   },
   {
    "duration": 16,
    "start_time": "2021-11-16T10:37:30.874Z"
   },
   {
    "duration": 36,
    "start_time": "2021-11-16T10:37:31.104Z"
   },
   {
    "duration": 6,
    "start_time": "2021-11-16T10:37:31.324Z"
   },
   {
    "duration": 10,
    "start_time": "2021-11-16T10:37:31.556Z"
   },
   {
    "duration": 19,
    "start_time": "2021-11-16T10:37:31.789Z"
   },
   {
    "duration": 5,
    "start_time": "2021-11-16T10:37:32.026Z"
   },
   {
    "duration": 12,
    "start_time": "2021-11-16T10:37:32.231Z"
   },
   {
    "duration": 8,
    "start_time": "2021-11-16T10:37:32.700Z"
   },
   {
    "duration": 4,
    "start_time": "2021-11-16T10:37:32.937Z"
   },
   {
    "duration": 138,
    "start_time": "2021-11-16T10:37:33.271Z"
   },
   {
    "duration": 28,
    "start_time": "2021-11-16T10:37:33.531Z"
   },
   {
    "duration": 30,
    "start_time": "2021-11-16T10:37:33.987Z"
   },
   {
    "duration": 8,
    "start_time": "2021-11-16T10:37:34.220Z"
   },
   {
    "duration": 433,
    "start_time": "2021-11-16T10:37:34.452Z"
   },
   {
    "duration": 868,
    "start_time": "2021-11-16T10:37:34.020Z"
   },
   {
    "duration": 11,
    "start_time": "2021-11-16T10:38:24.423Z"
   },
   {
    "duration": 24,
    "start_time": "2021-11-16T10:38:54.313Z"
   },
   {
    "duration": 36,
    "start_time": "2021-11-16T10:43:36.747Z"
   },
   {
    "duration": 12,
    "start_time": "2021-11-16T10:44:17.800Z"
   },
   {
    "duration": 39,
    "start_time": "2021-11-16T10:44:22.975Z"
   },
   {
    "duration": 428,
    "start_time": "2021-11-16T10:55:39.490Z"
   },
   {
    "duration": 9,
    "start_time": "2021-11-16T10:57:19.541Z"
   },
   {
    "duration": 7,
    "start_time": "2021-11-16T11:06:53.146Z"
   },
   {
    "duration": 9,
    "start_time": "2021-11-16T11:11:02.443Z"
   },
   {
    "duration": 13,
    "start_time": "2021-11-16T11:11:19.933Z"
   },
   {
    "duration": 21,
    "start_time": "2021-11-16T11:11:33.604Z"
   },
   {
    "duration": 17,
    "start_time": "2021-11-16T11:11:59.024Z"
   },
   {
    "duration": 13,
    "start_time": "2021-11-16T11:12:23.008Z"
   },
   {
    "duration": 31,
    "start_time": "2021-11-16T11:12:48.111Z"
   },
   {
    "duration": 12,
    "start_time": "2021-11-16T11:13:02.082Z"
   },
   {
    "duration": 31,
    "start_time": "2021-11-16T11:13:20.465Z"
   },
   {
    "duration": 7,
    "start_time": "2021-11-16T11:14:17.180Z"
   },
   {
    "duration": 30,
    "start_time": "2021-11-16T11:14:35.959Z"
   },
   {
    "duration": 16,
    "start_time": "2021-11-16T11:15:47.711Z"
   },
   {
    "duration": 20,
    "start_time": "2021-11-16T11:17:00.723Z"
   },
   {
    "duration": 19,
    "start_time": "2021-11-16T11:17:03.584Z"
   },
   {
    "duration": 1315,
    "start_time": "2021-11-16T11:18:19.850Z"
   },
   {
    "duration": 387,
    "start_time": "2021-11-16T11:19:06.485Z"
   },
   {
    "duration": 145,
    "start_time": "2021-11-16T11:22:02.323Z"
   },
   {
    "duration": 420,
    "start_time": "2021-11-16T11:22:17.961Z"
   },
   {
    "duration": 400,
    "start_time": "2021-11-16T11:23:13.203Z"
   },
   {
    "duration": 7,
    "start_time": "2021-11-16T12:04:19.277Z"
   },
   {
    "duration": 27,
    "start_time": "2021-11-16T12:04:28.395Z"
   },
   {
    "duration": 26,
    "start_time": "2021-11-16T12:04:45.173Z"
   },
   {
    "duration": 25,
    "start_time": "2021-11-16T12:05:02.692Z"
   },
   {
    "duration": 608,
    "start_time": "2021-11-16T12:05:16.593Z"
   },
   {
    "duration": 12,
    "start_time": "2021-11-16T12:05:17.709Z"
   },
   {
    "duration": 24,
    "start_time": "2021-11-16T12:05:18.150Z"
   },
   {
    "duration": 30,
    "start_time": "2021-11-16T12:05:18.433Z"
   },
   {
    "duration": 22,
    "start_time": "2021-11-16T12:05:18.651Z"
   },
   {
    "duration": 4,
    "start_time": "2021-11-16T12:05:18.916Z"
   },
   {
    "duration": 21,
    "start_time": "2021-11-16T12:05:19.161Z"
   },
   {
    "duration": 21,
    "start_time": "2021-11-16T12:05:19.399Z"
   },
   {
    "duration": 27,
    "start_time": "2021-11-16T12:05:19.630Z"
   },
   {
    "duration": 18,
    "start_time": "2021-11-16T12:05:19.875Z"
   },
   {
    "duration": 20,
    "start_time": "2021-11-16T12:05:20.126Z"
   },
   {
    "duration": 4,
    "start_time": "2021-11-16T12:05:20.364Z"
   },
   {
    "duration": 10,
    "start_time": "2021-11-16T12:05:20.624Z"
   },
   {
    "duration": 53,
    "start_time": "2021-11-16T12:05:24.037Z"
   },
   {
    "duration": 13,
    "start_time": "2021-11-16T12:05:24.318Z"
   },
   {
    "duration": 6,
    "start_time": "2021-11-16T12:05:24.573Z"
   },
   {
    "duration": 51,
    "start_time": "2021-11-16T12:05:24.859Z"
   },
   {
    "duration": 17,
    "start_time": "2021-11-16T12:05:25.158Z"
   },
   {
    "duration": 31,
    "start_time": "2021-11-16T12:05:25.456Z"
   },
   {
    "duration": 14,
    "start_time": "2021-11-16T12:05:25.725Z"
   },
   {
    "duration": 8,
    "start_time": "2021-11-16T12:05:25.994Z"
   },
   {
    "duration": 161,
    "start_time": "2021-11-16T12:05:27.128Z"
   },
   {
    "duration": 22,
    "start_time": "2021-11-16T12:05:27.441Z"
   },
   {
    "duration": 20,
    "start_time": "2021-11-16T12:05:27.735Z"
   },
   {
    "duration": 19,
    "start_time": "2021-11-16T12:05:27.975Z"
   },
   {
    "duration": 19,
    "start_time": "2021-11-16T12:05:28.204Z"
   },
   {
    "duration": 4,
    "start_time": "2021-11-16T12:05:29.654Z"
   },
   {
    "duration": 11,
    "start_time": "2021-11-16T12:05:29.973Z"
   },
   {
    "duration": 12,
    "start_time": "2021-11-16T12:05:30.983Z"
   },
   {
    "duration": 12,
    "start_time": "2021-11-16T12:05:31.574Z"
   },
   {
    "duration": 11,
    "start_time": "2021-11-16T12:05:31.889Z"
   },
   {
    "duration": 32,
    "start_time": "2021-11-16T12:05:33.565Z"
   },
   {
    "duration": 6,
    "start_time": "2021-11-16T12:05:33.847Z"
   },
   {
    "duration": 11,
    "start_time": "2021-11-16T12:05:35.073Z"
   },
   {
    "duration": 17,
    "start_time": "2021-11-16T12:05:35.722Z"
   },
   {
    "duration": 5,
    "start_time": "2021-11-16T12:05:37.377Z"
   },
   {
    "duration": 12,
    "start_time": "2021-11-16T12:05:37.619Z"
   },
   {
    "duration": 9,
    "start_time": "2021-11-16T12:05:38.132Z"
   },
   {
    "duration": 3,
    "start_time": "2021-11-16T12:05:38.373Z"
   },
   {
    "duration": 129,
    "start_time": "2021-11-16T12:05:38.597Z"
   },
   {
    "duration": 21,
    "start_time": "2021-11-16T12:05:38.835Z"
   },
   {
    "duration": 22,
    "start_time": "2021-11-16T12:05:39.314Z"
   },
   {
    "duration": 37,
    "start_time": "2021-11-16T12:05:39.577Z"
   },
   {
    "duration": 21,
    "start_time": "2021-11-16T12:05:39.835Z"
   },
   {
    "duration": 37,
    "start_time": "2021-11-16T12:05:40.124Z"
   },
   {
    "duration": 530,
    "start_time": "2021-11-16T12:05:40.433Z"
   },
   {
    "duration": 497,
    "start_time": "2021-11-16T12:05:40.967Z"
   },
   {
    "duration": 488,
    "start_time": "2021-11-16T12:05:41.471Z"
   },
   {
    "duration": 9,
    "start_time": "2021-11-16T12:05:41.973Z"
   },
   {
    "duration": 6,
    "start_time": "2021-11-16T12:05:42.407Z"
   },
   {
    "duration": 20,
    "start_time": "2021-11-16T12:05:44.519Z"
   },
   {
    "duration": 19,
    "start_time": "2021-11-16T12:05:45.274Z"
   },
   {
    "duration": 534,
    "start_time": "2021-11-16T12:05:45.549Z"
   },
   {
    "duration": 9,
    "start_time": "2021-11-16T12:06:29.509Z"
   },
   {
    "duration": 3,
    "start_time": "2021-11-16T12:06:30.067Z"
   },
   {
    "duration": 117,
    "start_time": "2021-11-16T12:06:30.816Z"
   },
   {
    "duration": 21,
    "start_time": "2021-11-16T12:06:32.117Z"
   },
   {
    "duration": 13,
    "start_time": "2021-11-16T13:10:25.895Z"
   },
   {
    "duration": 23,
    "start_time": "2021-11-16T13:10:36.289Z"
   },
   {
    "duration": 17,
    "start_time": "2021-11-16T13:11:02.267Z"
   },
   {
    "duration": 21,
    "start_time": "2021-11-16T13:11:03.328Z"
   },
   {
    "duration": 9544,
    "start_time": "2021-11-16T13:13:08.312Z"
   },
   {
    "duration": 13,
    "start_time": "2021-11-16T13:16:37.296Z"
   },
   {
    "duration": 21,
    "start_time": "2021-11-16T13:16:45.813Z"
   },
   {
    "duration": 14,
    "start_time": "2021-11-16T13:19:54.842Z"
   },
   {
    "duration": 26,
    "start_time": "2021-11-16T13:19:56.247Z"
   },
   {
    "duration": 247,
    "start_time": "2021-11-17T11:46:55.726Z"
   },
   {
    "duration": 982,
    "start_time": "2021-11-17T11:47:07.337Z"
   },
   {
    "duration": 2,
    "start_time": "2021-11-17T11:47:08.321Z"
   },
   {
    "duration": 1544,
    "start_time": "2021-11-17T11:47:08.325Z"
   },
   {
    "duration": 10,
    "start_time": "2021-11-17T11:47:09.870Z"
   },
   {
    "duration": 51,
    "start_time": "2021-11-17T11:47:09.881Z"
   },
   {
    "duration": 40,
    "start_time": "2021-11-17T11:47:09.933Z"
   },
   {
    "duration": 23,
    "start_time": "2021-11-17T11:47:09.974Z"
   },
   {
    "duration": 27,
    "start_time": "2021-11-17T11:47:09.999Z"
   },
   {
    "duration": 41,
    "start_time": "2021-11-17T11:47:10.028Z"
   },
   {
    "duration": 16,
    "start_time": "2021-11-17T11:47:10.071Z"
   },
   {
    "duration": 19,
    "start_time": "2021-11-17T11:47:10.089Z"
   },
   {
    "duration": 9,
    "start_time": "2021-11-17T11:47:10.110Z"
   },
   {
    "duration": 24,
    "start_time": "2021-11-17T11:47:10.120Z"
   },
   {
    "duration": 4,
    "start_time": "2021-11-17T11:47:10.146Z"
   },
   {
    "duration": 9,
    "start_time": "2021-11-17T11:47:10.152Z"
   },
   {
    "duration": 37,
    "start_time": "2021-11-17T11:47:10.163Z"
   },
   {
    "duration": 9,
    "start_time": "2021-11-17T11:47:10.202Z"
   },
   {
    "duration": 7,
    "start_time": "2021-11-17T11:47:10.213Z"
   },
   {
    "duration": 27,
    "start_time": "2021-11-17T11:47:10.222Z"
   },
   {
    "duration": 10,
    "start_time": "2021-11-17T11:47:10.250Z"
   },
   {
    "duration": 25,
    "start_time": "2021-11-17T11:47:10.291Z"
   },
   {
    "duration": 8,
    "start_time": "2021-11-17T11:47:10.317Z"
   },
   {
    "duration": 6,
    "start_time": "2021-11-17T11:47:10.329Z"
   },
   {
    "duration": 55,
    "start_time": "2021-11-17T11:47:10.337Z"
   },
   {
    "duration": 76,
    "start_time": "2021-11-17T11:47:10.394Z"
   },
   {
    "duration": 24,
    "start_time": "2021-11-17T11:47:10.471Z"
   },
   {
    "duration": 12,
    "start_time": "2021-11-17T11:47:10.497Z"
   },
   {
    "duration": 11,
    "start_time": "2021-11-17T11:47:10.511Z"
   },
   {
    "duration": 12,
    "start_time": "2021-11-17T11:47:10.523Z"
   },
   {
    "duration": 3,
    "start_time": "2021-11-17T11:47:10.536Z"
   },
   {
    "duration": 10,
    "start_time": "2021-11-17T11:47:10.540Z"
   },
   {
    "duration": 41,
    "start_time": "2021-11-17T11:47:10.552Z"
   },
   {
    "duration": 9,
    "start_time": "2021-11-17T11:47:10.595Z"
   },
   {
    "duration": 8,
    "start_time": "2021-11-17T11:47:10.606Z"
   },
   {
    "duration": 15,
    "start_time": "2021-11-17T11:47:10.615Z"
   },
   {
    "duration": 4,
    "start_time": "2021-11-17T11:47:10.632Z"
   },
   {
    "duration": 8,
    "start_time": "2021-11-17T11:47:10.637Z"
   },
   {
    "duration": 13,
    "start_time": "2021-11-17T11:47:10.647Z"
   },
   {
    "duration": 32,
    "start_time": "2021-11-17T11:47:10.661Z"
   },
   {
    "duration": 11,
    "start_time": "2021-11-17T11:47:10.695Z"
   },
   {
    "duration": 5,
    "start_time": "2021-11-17T11:47:10.708Z"
   },
   {
    "duration": 8,
    "start_time": "2021-11-17T11:47:10.715Z"
   },
   {
    "duration": 74,
    "start_time": "2021-11-17T11:47:10.725Z"
   },
   {
    "duration": 12,
    "start_time": "2021-11-17T11:47:10.800Z"
   },
   {
    "duration": 13,
    "start_time": "2021-11-17T11:47:10.813Z"
   },
   {
    "duration": 21,
    "start_time": "2021-11-17T11:47:10.827Z"
   },
   {
    "duration": 12,
    "start_time": "2021-11-17T11:47:10.849Z"
   },
   {
    "duration": 46,
    "start_time": "2021-11-17T11:47:10.862Z"
   },
   {
    "duration": 306,
    "start_time": "2021-11-17T11:47:10.909Z"
   },
   {
    "duration": 262,
    "start_time": "2021-11-17T11:47:11.216Z"
   },
   {
    "duration": 256,
    "start_time": "2021-11-17T11:47:11.480Z"
   },
   {
    "duration": 6,
    "start_time": "2021-11-17T11:47:11.738Z"
   },
   {
    "duration": 8,
    "start_time": "2021-11-17T11:47:11.746Z"
   },
   {
    "duration": 9,
    "start_time": "2021-11-17T11:47:11.755Z"
   },
   {
    "duration": 30,
    "start_time": "2021-11-17T11:47:11.765Z"
   },
   {
    "duration": 12,
    "start_time": "2021-11-17T11:47:11.797Z"
   },
   {
    "duration": 13,
    "start_time": "2021-11-17T11:47:11.810Z"
   },
   {
    "duration": 230,
    "start_time": "2021-11-17T11:47:11.824Z"
   },
   {
    "duration": 179,
    "start_time": "2021-11-17T11:48:13.650Z"
   },
   {
    "duration": 6,
    "start_time": "2021-11-17T11:48:21.465Z"
   },
   {
    "duration": 5,
    "start_time": "2021-11-17T11:48:30.916Z"
   },
   {
    "duration": 16,
    "start_time": "2021-11-17T11:49:01.065Z"
   },
   {
    "duration": 30,
    "start_time": "2021-11-17T11:49:37.058Z"
   },
   {
    "duration": 236,
    "start_time": "2021-11-17T11:51:06.800Z"
   },
   {
    "duration": 8,
    "start_time": "2021-11-17T11:51:25.434Z"
   },
   {
    "duration": 252,
    "start_time": "2021-11-17T11:51:40.361Z"
   },
   {
    "duration": 3,
    "start_time": "2021-11-17T11:52:07.657Z"
   },
   {
    "duration": 9,
    "start_time": "2021-11-17T11:52:30.591Z"
   },
   {
    "duration": 317,
    "start_time": "2021-11-17T11:53:54.455Z"
   },
   {
    "duration": 7,
    "start_time": "2021-11-17T11:53:55.056Z"
   },
   {
    "duration": 16,
    "start_time": "2021-11-17T11:53:56.472Z"
   },
   {
    "duration": 22,
    "start_time": "2021-11-17T11:53:59.794Z"
   },
   {
    "duration": 7,
    "start_time": "2021-11-17T11:54:03.281Z"
   },
   {
    "duration": 2,
    "start_time": "2021-11-17T11:54:05.835Z"
   },
   {
    "duration": 13,
    "start_time": "2021-11-17T11:54:06.469Z"
   },
   {
    "duration": 7,
    "start_time": "2021-11-17T11:54:10.076Z"
   },
   {
    "duration": 19,
    "start_time": "2021-11-17T11:55:53.840Z"
   },
   {
    "duration": 17,
    "start_time": "2021-11-17T11:56:01.039Z"
   },
   {
    "duration": 8146,
    "start_time": "2021-11-17T11:56:13.311Z"
   },
   {
    "duration": 6,
    "start_time": "2021-11-17T11:56:58.177Z"
   },
   {
    "duration": 5,
    "start_time": "2021-11-17T11:56:58.185Z"
   },
   {
    "duration": 352,
    "start_time": "2021-11-17T11:56:58.192Z"
   },
   {
    "duration": 7,
    "start_time": "2021-11-17T11:56:58.546Z"
   },
   {
    "duration": 17,
    "start_time": "2021-11-17T11:56:58.554Z"
   },
   {
    "duration": 20,
    "start_time": "2021-11-17T11:56:58.573Z"
   },
   {
    "duration": 6,
    "start_time": "2021-11-17T11:56:58.595Z"
   },
   {
    "duration": 6,
    "start_time": "2021-11-17T11:56:58.604Z"
   },
   {
    "duration": 16,
    "start_time": "2021-11-17T11:56:58.612Z"
   },
   {
    "duration": 6,
    "start_time": "2021-11-17T11:56:58.629Z"
   },
   {
    "duration": 11,
    "start_time": "2021-11-17T11:56:58.637Z"
   },
   {
    "duration": 7,
    "start_time": "2021-11-17T11:56:58.650Z"
   },
   {
    "duration": 34,
    "start_time": "2021-11-17T11:56:58.658Z"
   },
   {
    "duration": 2,
    "start_time": "2021-11-17T11:56:58.694Z"
   },
   {
    "duration": 13,
    "start_time": "2021-11-17T11:56:58.697Z"
   },
   {
    "duration": 37,
    "start_time": "2021-11-17T11:56:58.711Z"
   },
   {
    "duration": 8,
    "start_time": "2021-11-17T11:56:58.749Z"
   },
   {
    "duration": 9,
    "start_time": "2021-11-17T11:56:58.758Z"
   },
   {
    "duration": 38,
    "start_time": "2021-11-17T11:56:58.769Z"
   },
   {
    "duration": 8,
    "start_time": "2021-11-17T11:56:58.809Z"
   },
   {
    "duration": 23,
    "start_time": "2021-11-17T11:56:58.819Z"
   },
   {
    "duration": 9,
    "start_time": "2021-11-17T11:56:58.844Z"
   },
   {
    "duration": 5,
    "start_time": "2021-11-17T11:56:58.857Z"
   },
   {
    "duration": 52,
    "start_time": "2021-11-17T11:56:58.864Z"
   },
   {
    "duration": 16,
    "start_time": "2021-11-17T11:56:58.917Z"
   },
   {
    "duration": 9,
    "start_time": "2021-11-17T11:56:58.935Z"
   },
   {
    "duration": 57,
    "start_time": "2021-11-17T11:56:58.946Z"
   },
   {
    "duration": 4748,
    "start_time": "2021-11-17T11:56:59.005Z"
   },
   {
    "duration": 2766,
    "start_time": "2021-11-17T11:57:00.989Z"
   },
   {
    "duration": 2753,
    "start_time": "2021-11-17T11:57:01.003Z"
   },
   {
    "duration": 2741,
    "start_time": "2021-11-17T11:57:01.016Z"
   },
   {
    "duration": 2738,
    "start_time": "2021-11-17T11:57:01.020Z"
   },
   {
    "duration": 2733,
    "start_time": "2021-11-17T11:57:01.026Z"
   },
   {
    "duration": 2725,
    "start_time": "2021-11-17T11:57:01.034Z"
   },
   {
    "duration": 2723,
    "start_time": "2021-11-17T11:57:01.037Z"
   },
   {
    "duration": 2715,
    "start_time": "2021-11-17T11:57:01.046Z"
   },
   {
    "duration": 2712,
    "start_time": "2021-11-17T11:57:01.050Z"
   },
   {
    "duration": 2711,
    "start_time": "2021-11-17T11:57:01.052Z"
   },
   {
    "duration": 2707,
    "start_time": "2021-11-17T11:57:01.057Z"
   },
   {
    "duration": 2700,
    "start_time": "2021-11-17T11:57:01.065Z"
   },
   {
    "duration": 2698,
    "start_time": "2021-11-17T11:57:01.068Z"
   },
   {
    "duration": 2696,
    "start_time": "2021-11-17T11:57:01.071Z"
   },
   {
    "duration": 2688,
    "start_time": "2021-11-17T11:57:01.080Z"
   },
   {
    "duration": 2686,
    "start_time": "2021-11-17T11:57:01.083Z"
   },
   {
    "duration": 2683,
    "start_time": "2021-11-17T11:57:01.086Z"
   },
   {
    "duration": 2678,
    "start_time": "2021-11-17T11:57:01.092Z"
   },
   {
    "duration": 2671,
    "start_time": "2021-11-17T11:57:01.100Z"
   },
   {
    "duration": 2668,
    "start_time": "2021-11-17T11:57:01.104Z"
   },
   {
    "duration": 2644,
    "start_time": "2021-11-17T11:57:01.129Z"
   },
   {
    "duration": 2643,
    "start_time": "2021-11-17T11:57:01.131Z"
   },
   {
    "duration": 2628,
    "start_time": "2021-11-17T11:57:01.147Z"
   },
   {
    "duration": 2621,
    "start_time": "2021-11-17T11:57:01.155Z"
   },
   {
    "duration": 2611,
    "start_time": "2021-11-17T11:57:01.166Z"
   },
   {
    "duration": 2608,
    "start_time": "2021-11-17T11:57:01.169Z"
   },
   {
    "duration": 2604,
    "start_time": "2021-11-17T11:57:01.174Z"
   },
   {
    "duration": 2596,
    "start_time": "2021-11-17T11:57:01.183Z"
   },
   {
    "duration": 2594,
    "start_time": "2021-11-17T11:57:01.186Z"
   },
   {
    "duration": 2593,
    "start_time": "2021-11-17T11:57:01.188Z"
   },
   {
    "duration": 2585,
    "start_time": "2021-11-17T11:57:01.197Z"
   },
   {
    "duration": 2584,
    "start_time": "2021-11-17T11:57:01.199Z"
   },
   {
    "duration": 2583,
    "start_time": "2021-11-17T11:57:01.201Z"
   },
   {
    "duration": 2582,
    "start_time": "2021-11-17T11:57:01.203Z"
   },
   {
    "duration": 14,
    "start_time": "2021-11-17T11:57:46.606Z"
   },
   {
    "duration": 4699,
    "start_time": "2021-11-17T11:58:23.684Z"
   },
   {
    "duration": 9,
    "start_time": "2021-11-17T11:58:46.661Z"
   },
   {
    "duration": 13,
    "start_time": "2021-11-17T12:09:13.962Z"
   },
   {
    "duration": 12,
    "start_time": "2021-11-17T12:09:26.224Z"
   },
   {
    "duration": 12,
    "start_time": "2021-11-17T12:09:29.537Z"
   },
   {
    "duration": 13,
    "start_time": "2021-11-17T12:14:43.080Z"
   },
   {
    "duration": 31,
    "start_time": "2021-11-17T12:16:15.271Z"
   },
   {
    "duration": 23,
    "start_time": "2021-11-17T12:16:18.544Z"
   },
   {
    "duration": 279,
    "start_time": "2021-11-17T12:16:58.223Z"
   },
   {
    "duration": 260,
    "start_time": "2021-11-17T12:17:02.311Z"
   },
   {
    "duration": 249,
    "start_time": "2021-11-17T12:17:05.694Z"
   },
   {
    "duration": 699,
    "start_time": "2021-11-17T12:29:28.863Z"
   },
   {
    "duration": 200,
    "start_time": "2021-11-17T12:29:50.201Z"
   },
   {
    "duration": 5,
    "start_time": "2021-11-17T12:30:01.276Z"
   },
   {
    "duration": 6,
    "start_time": "2021-11-17T12:30:01.283Z"
   },
   {
    "duration": 327,
    "start_time": "2021-11-17T12:30:01.291Z"
   },
   {
    "duration": 7,
    "start_time": "2021-11-17T12:30:01.620Z"
   },
   {
    "duration": 38,
    "start_time": "2021-11-17T12:30:01.629Z"
   },
   {
    "duration": 33,
    "start_time": "2021-11-17T12:30:01.669Z"
   },
   {
    "duration": 7,
    "start_time": "2021-11-17T12:30:01.704Z"
   },
   {
    "duration": 15,
    "start_time": "2021-11-17T12:30:01.714Z"
   },
   {
    "duration": 28,
    "start_time": "2021-11-17T12:30:01.731Z"
   },
   {
    "duration": 15,
    "start_time": "2021-11-17T12:30:01.761Z"
   },
   {
    "duration": 110,
    "start_time": "2021-11-17T12:30:01.777Z"
   },
   {
    "duration": 8,
    "start_time": "2021-11-17T12:30:01.889Z"
   },
   {
    "duration": 23,
    "start_time": "2021-11-17T12:30:01.898Z"
   },
   {
    "duration": 20,
    "start_time": "2021-11-17T12:30:01.922Z"
   },
   {
    "duration": 16,
    "start_time": "2021-11-17T12:30:01.944Z"
   },
   {
    "duration": 52,
    "start_time": "2021-11-17T12:30:01.961Z"
   },
   {
    "duration": 8,
    "start_time": "2021-11-17T12:30:02.015Z"
   },
   {
    "duration": 19,
    "start_time": "2021-11-17T12:30:02.024Z"
   },
   {
    "duration": 32,
    "start_time": "2021-11-17T12:30:02.045Z"
   },
   {
    "duration": 8,
    "start_time": "2021-11-17T12:30:02.079Z"
   },
   {
    "duration": 34,
    "start_time": "2021-11-17T12:30:02.088Z"
   },
   {
    "duration": 8,
    "start_time": "2021-11-17T12:30:02.123Z"
   },
   {
    "duration": 28,
    "start_time": "2021-11-17T12:30:02.135Z"
   },
   {
    "duration": 45,
    "start_time": "2021-11-17T12:30:02.165Z"
   },
   {
    "duration": 14,
    "start_time": "2021-11-17T12:30:02.211Z"
   },
   {
    "duration": 7,
    "start_time": "2021-11-17T12:30:02.227Z"
   },
   {
    "duration": 27,
    "start_time": "2021-11-17T12:30:02.236Z"
   },
   {
    "duration": 36,
    "start_time": "2021-11-17T12:30:02.264Z"
   },
   {
    "duration": 6,
    "start_time": "2021-11-17T12:30:02.302Z"
   },
   {
    "duration": 94,
    "start_time": "2021-11-17T12:30:02.310Z"
   },
   {
    "duration": 12,
    "start_time": "2021-11-17T12:30:02.406Z"
   },
   {
    "duration": 13,
    "start_time": "2021-11-17T12:30:02.420Z"
   },
   {
    "duration": 17,
    "start_time": "2021-11-17T12:30:02.436Z"
   },
   {
    "duration": 16,
    "start_time": "2021-11-17T12:30:02.455Z"
   },
   {
    "duration": 3,
    "start_time": "2021-11-17T12:30:02.492Z"
   },
   {
    "duration": 23,
    "start_time": "2021-11-17T12:30:02.497Z"
   },
   {
    "duration": 15,
    "start_time": "2021-11-17T12:30:02.522Z"
   },
   {
    "duration": 14,
    "start_time": "2021-11-17T12:30:02.539Z"
   },
   {
    "duration": 15,
    "start_time": "2021-11-17T12:30:02.556Z"
   },
   {
    "duration": 31,
    "start_time": "2021-11-17T12:30:02.573Z"
   },
   {
    "duration": 4,
    "start_time": "2021-11-17T12:30:02.606Z"
   },
   {
    "duration": 11,
    "start_time": "2021-11-17T12:30:02.611Z"
   },
   {
    "duration": 18,
    "start_time": "2021-11-17T12:30:02.623Z"
   },
   {
    "duration": 6,
    "start_time": "2021-11-17T12:30:02.642Z"
   },
   {
    "duration": 14,
    "start_time": "2021-11-17T12:30:02.649Z"
   },
   {
    "duration": 26,
    "start_time": "2021-11-17T12:30:02.665Z"
   },
   {
    "duration": 17,
    "start_time": "2021-11-17T12:30:02.693Z"
   },
   {
    "duration": 74,
    "start_time": "2021-11-17T12:30:02.711Z"
   },
   {
    "duration": 14,
    "start_time": "2021-11-17T12:30:02.786Z"
   },
   {
    "duration": 15,
    "start_time": "2021-11-17T12:30:02.802Z"
   },
   {
    "duration": 23,
    "start_time": "2021-11-17T12:30:02.818Z"
   },
   {
    "duration": 13,
    "start_time": "2021-11-17T12:30:02.843Z"
   },
   {
    "duration": 52,
    "start_time": "2021-11-17T12:30:02.858Z"
   },
   {
    "duration": 278,
    "start_time": "2021-11-17T12:30:02.912Z"
   },
   {
    "duration": 257,
    "start_time": "2021-11-17T12:30:03.192Z"
   },
   {
    "duration": 268,
    "start_time": "2021-11-17T12:30:03.452Z"
   },
   {
    "duration": 7,
    "start_time": "2021-11-17T12:30:03.722Z"
   },
   {
    "duration": 6,
    "start_time": "2021-11-17T12:30:03.731Z"
   },
   {
    "duration": 33,
    "start_time": "2021-11-17T12:30:03.739Z"
   },
   {
    "duration": 23,
    "start_time": "2021-11-17T12:30:03.773Z"
   },
   {
    "duration": 15,
    "start_time": "2021-11-17T12:30:03.798Z"
   },
   {
    "duration": 22,
    "start_time": "2021-11-17T12:30:03.815Z"
   },
   {
    "duration": 194,
    "start_time": "2021-11-17T12:30:03.839Z"
   },
   {
    "duration": 2843,
    "start_time": "2021-11-17T12:30:01.192Z"
   },
   {
    "duration": 11,
    "start_time": "2021-11-17T12:32:39.127Z"
   },
   {
    "duration": 13,
    "start_time": "2021-11-17T12:32:45.672Z"
   },
   {
    "duration": 13,
    "start_time": "2021-11-17T12:32:46.400Z"
   },
   {
    "duration": 190,
    "start_time": "2021-11-17T12:32:47.481Z"
   },
   {
    "duration": 25,
    "start_time": "2021-11-17T12:33:07.212Z"
   },
   {
    "duration": 11,
    "start_time": "2021-11-17T12:33:17.495Z"
   },
   {
    "duration": 13,
    "start_time": "2021-11-17T12:33:25.729Z"
   },
   {
    "duration": 12,
    "start_time": "2021-11-17T12:33:37.868Z"
   },
   {
    "duration": 13,
    "start_time": "2021-11-17T12:33:43.902Z"
   },
   {
    "duration": 193,
    "start_time": "2021-11-17T12:33:47.910Z"
   },
   {
    "duration": 12,
    "start_time": "2021-11-17T12:34:47.529Z"
   },
   {
    "duration": 18,
    "start_time": "2021-11-17T12:35:50.771Z"
   },
   {
    "duration": 14,
    "start_time": "2021-11-17T12:36:45.613Z"
   },
   {
    "duration": 15,
    "start_time": "2021-11-17T12:37:00.350Z"
   },
   {
    "duration": 14,
    "start_time": "2021-11-17T12:37:14.576Z"
   },
   {
    "duration": 22,
    "start_time": "2021-11-17T12:37:21.341Z"
   },
   {
    "duration": 15,
    "start_time": "2021-11-17T12:37:32.336Z"
   },
   {
    "duration": 15,
    "start_time": "2021-11-17T12:38:10.421Z"
   },
   {
    "duration": 731,
    "start_time": "2021-11-17T12:38:28.999Z"
   },
   {
    "duration": 7,
    "start_time": "2021-11-17T12:38:53.653Z"
   },
   {
    "duration": 5,
    "start_time": "2021-11-17T12:40:27.658Z"
   },
   {
    "duration": 256,
    "start_time": "2021-11-17T12:51:21.490Z"
   },
   {
    "duration": 246,
    "start_time": "2021-11-17T12:51:32.095Z"
   },
   {
    "duration": 208,
    "start_time": "2021-11-17T13:47:43.869Z"
   },
   {
    "duration": 3,
    "start_time": "2021-11-17T13:53:46.117Z"
   },
   {
    "duration": 704,
    "start_time": "2021-11-17T13:53:48.842Z"
   },
   {
    "duration": 3,
    "start_time": "2021-11-17T13:54:49.226Z"
   },
   {
    "duration": 12,
    "start_time": "2021-11-17T13:54:50.078Z"
   },
   {
    "duration": 64,
    "start_time": "2021-11-17T13:55:38.630Z"
   },
   {
    "duration": 4540,
    "start_time": "2021-11-17T13:56:04.769Z"
   },
   {
    "duration": 3,
    "start_time": "2021-11-17T13:56:24.178Z"
   },
   {
    "duration": 809,
    "start_time": "2021-11-17T13:56:28.740Z"
   },
   {
    "duration": 5,
    "start_time": "2021-11-17T14:25:57.620Z"
   },
   {
    "duration": 5,
    "start_time": "2021-11-17T14:25:57.627Z"
   },
   {
    "duration": 269,
    "start_time": "2021-11-17T14:25:57.634Z"
   },
   {
    "duration": 8,
    "start_time": "2021-11-17T14:25:57.905Z"
   },
   {
    "duration": 20,
    "start_time": "2021-11-17T14:25:57.914Z"
   },
   {
    "duration": 20,
    "start_time": "2021-11-17T14:25:57.936Z"
   },
   {
    "duration": 6,
    "start_time": "2021-11-17T14:25:57.958Z"
   },
   {
    "duration": 5,
    "start_time": "2021-11-17T14:25:57.966Z"
   },
   {
    "duration": 27,
    "start_time": "2021-11-17T14:25:57.973Z"
   },
   {
    "duration": 7,
    "start_time": "2021-11-17T14:25:58.002Z"
   },
   {
    "duration": 13,
    "start_time": "2021-11-17T14:25:58.011Z"
   },
   {
    "duration": 12,
    "start_time": "2021-11-17T14:25:58.026Z"
   },
   {
    "duration": 9,
    "start_time": "2021-11-17T14:25:58.040Z"
   },
   {
    "duration": 6,
    "start_time": "2021-11-17T14:25:58.051Z"
   },
   {
    "duration": 8,
    "start_time": "2021-11-17T14:25:58.058Z"
   },
   {
    "duration": 34,
    "start_time": "2021-11-17T14:25:58.092Z"
   },
   {
    "duration": 10,
    "start_time": "2021-11-17T14:25:58.127Z"
   },
   {
    "duration": 12,
    "start_time": "2021-11-17T14:25:58.139Z"
   },
   {
    "duration": 39,
    "start_time": "2021-11-17T14:25:58.153Z"
   },
   {
    "duration": 9,
    "start_time": "2021-11-17T14:25:58.193Z"
   },
   {
    "duration": 26,
    "start_time": "2021-11-17T14:25:58.203Z"
   },
   {
    "duration": 8,
    "start_time": "2021-11-17T14:25:58.230Z"
   },
   {
    "duration": 9,
    "start_time": "2021-11-17T14:25:58.239Z"
   },
   {
    "duration": 47,
    "start_time": "2021-11-17T14:25:58.249Z"
   },
   {
    "duration": 15,
    "start_time": "2021-11-17T14:25:58.297Z"
   },
   {
    "duration": 8,
    "start_time": "2021-11-17T14:25:58.313Z"
   },
   {
    "duration": 24,
    "start_time": "2021-11-17T14:25:58.324Z"
   },
   {
    "duration": 41,
    "start_time": "2021-11-17T14:25:58.350Z"
   },
   {
    "duration": 7,
    "start_time": "2021-11-17T14:25:58.393Z"
   },
   {
    "duration": 72,
    "start_time": "2021-11-17T14:25:58.402Z"
   },
   {
    "duration": 25,
    "start_time": "2021-11-17T14:25:58.476Z"
   },
   {
    "duration": 13,
    "start_time": "2021-11-17T14:25:58.503Z"
   },
   {
    "duration": 28,
    "start_time": "2021-11-17T14:25:58.518Z"
   },
   {
    "duration": 15,
    "start_time": "2021-11-17T14:25:58.548Z"
   },
   {
    "duration": 17,
    "start_time": "2021-11-17T14:25:58.565Z"
   },
   {
    "duration": 19,
    "start_time": "2021-11-17T14:25:58.583Z"
   },
   {
    "duration": 21,
    "start_time": "2021-11-17T14:25:58.604Z"
   },
   {
    "duration": 13,
    "start_time": "2021-11-17T14:25:58.627Z"
   },
   {
    "duration": 21,
    "start_time": "2021-11-17T14:25:58.642Z"
   },
   {
    "duration": 27,
    "start_time": "2021-11-17T14:25:58.664Z"
   },
   {
    "duration": 16,
    "start_time": "2021-11-17T14:25:58.693Z"
   },
   {
    "duration": 11,
    "start_time": "2021-11-17T14:25:58.710Z"
   },
   {
    "duration": 12,
    "start_time": "2021-11-17T14:25:58.723Z"
   },
   {
    "duration": 4,
    "start_time": "2021-11-17T14:25:58.736Z"
   },
   {
    "duration": 10,
    "start_time": "2021-11-17T14:25:58.741Z"
   },
   {
    "duration": 5,
    "start_time": "2021-11-17T14:25:58.753Z"
   },
   {
    "duration": 76,
    "start_time": "2021-11-17T14:25:58.760Z"
   },
   {
    "duration": 14,
    "start_time": "2021-11-17T14:25:58.838Z"
   },
   {
    "duration": 14,
    "start_time": "2021-11-17T14:25:58.853Z"
   },
   {
    "duration": 23,
    "start_time": "2021-11-17T14:25:58.892Z"
   },
   {
    "duration": 15,
    "start_time": "2021-11-17T14:25:58.917Z"
   },
   {
    "duration": 23,
    "start_time": "2021-11-17T14:25:58.933Z"
   },
   {
    "duration": 790,
    "start_time": "2021-11-17T14:25:58.958Z"
   },
   {
    "duration": 301,
    "start_time": "2021-11-17T14:25:59.750Z"
   },
   {
    "duration": 2,
    "start_time": "2021-11-17T14:26:00.053Z"
   },
   {
    "duration": 767,
    "start_time": "2021-11-17T14:26:00.057Z"
   },
   {
    "duration": 6,
    "start_time": "2021-11-17T14:26:00.826Z"
   },
   {
    "duration": 21,
    "start_time": "2021-11-17T14:26:00.834Z"
   },
   {
    "duration": 20,
    "start_time": "2021-11-17T14:26:00.856Z"
   },
   {
    "duration": 22,
    "start_time": "2021-11-17T14:26:00.878Z"
   },
   {
    "duration": 23,
    "start_time": "2021-11-17T14:26:00.902Z"
   },
   {
    "duration": 28,
    "start_time": "2021-11-17T14:26:00.926Z"
   },
   {
    "duration": 7,
    "start_time": "2021-11-17T14:26:00.956Z"
   },
   {
    "duration": 29,
    "start_time": "2021-11-17T14:26:00.965Z"
   },
   {
    "duration": 4,
    "start_time": "2021-11-17T14:27:49.850Z"
   },
   {
    "duration": 21,
    "start_time": "2021-11-17T14:27:49.856Z"
   },
   {
    "duration": 348,
    "start_time": "2021-11-17T14:27:49.879Z"
   },
   {
    "duration": 8,
    "start_time": "2021-11-17T14:27:50.229Z"
   },
   {
    "duration": 32,
    "start_time": "2021-11-17T14:27:50.238Z"
   },
   {
    "duration": 33,
    "start_time": "2021-11-17T14:27:50.272Z"
   },
   {
    "duration": 7,
    "start_time": "2021-11-17T14:27:50.307Z"
   },
   {
    "duration": 9,
    "start_time": "2021-11-17T14:27:50.316Z"
   },
   {
    "duration": 23,
    "start_time": "2021-11-17T14:27:50.326Z"
   },
   {
    "duration": 6,
    "start_time": "2021-11-17T14:27:50.351Z"
   },
   {
    "duration": 13,
    "start_time": "2021-11-17T14:27:50.359Z"
   },
   {
    "duration": 106,
    "start_time": "2021-11-17T14:27:50.374Z"
   },
   {
    "duration": 19,
    "start_time": "2021-11-17T14:27:50.481Z"
   },
   {
    "duration": 12,
    "start_time": "2021-11-17T14:27:50.501Z"
   },
   {
    "duration": 16,
    "start_time": "2021-11-17T14:27:50.514Z"
   },
   {
    "duration": 41,
    "start_time": "2021-11-17T14:27:50.532Z"
   },
   {
    "duration": 8,
    "start_time": "2021-11-17T14:27:50.575Z"
   },
   {
    "duration": 24,
    "start_time": "2021-11-17T14:27:50.584Z"
   },
   {
    "duration": 33,
    "start_time": "2021-11-17T14:27:50.609Z"
   },
   {
    "duration": 8,
    "start_time": "2021-11-17T14:27:50.644Z"
   },
   {
    "duration": 38,
    "start_time": "2021-11-17T14:27:50.654Z"
   },
   {
    "duration": 7,
    "start_time": "2021-11-17T14:27:50.694Z"
   },
   {
    "duration": 16,
    "start_time": "2021-11-17T14:27:50.705Z"
   },
   {
    "duration": 45,
    "start_time": "2021-11-17T14:27:50.723Z"
   },
   {
    "duration": 15,
    "start_time": "2021-11-17T14:27:50.769Z"
   },
   {
    "duration": 20,
    "start_time": "2021-11-17T14:27:50.786Z"
   },
   {
    "duration": 45,
    "start_time": "2021-11-17T14:27:50.807Z"
   },
   {
    "duration": 16,
    "start_time": "2021-11-17T14:27:50.853Z"
   },
   {
    "duration": 24,
    "start_time": "2021-11-17T14:27:50.871Z"
   },
   {
    "duration": 94,
    "start_time": "2021-11-17T14:27:50.897Z"
   },
   {
    "duration": 12,
    "start_time": "2021-11-17T14:27:50.993Z"
   },
   {
    "duration": 27,
    "start_time": "2021-11-17T14:27:51.006Z"
   },
   {
    "duration": 32,
    "start_time": "2021-11-17T14:27:51.035Z"
   },
   {
    "duration": 40,
    "start_time": "2021-11-17T14:27:51.069Z"
   },
   {
    "duration": 20,
    "start_time": "2021-11-17T14:27:51.110Z"
   },
   {
    "duration": 25,
    "start_time": "2021-11-17T14:27:51.132Z"
   },
   {
    "duration": 26,
    "start_time": "2021-11-17T14:27:51.159Z"
   },
   {
    "duration": 15,
    "start_time": "2021-11-17T14:27:51.187Z"
   },
   {
    "duration": 17,
    "start_time": "2021-11-17T14:27:51.203Z"
   },
   {
    "duration": 19,
    "start_time": "2021-11-17T14:27:51.222Z"
   },
   {
    "duration": 4,
    "start_time": "2021-11-17T14:27:51.243Z"
   },
   {
    "duration": 9,
    "start_time": "2021-11-17T14:27:51.249Z"
   },
   {
    "duration": 13,
    "start_time": "2021-11-17T14:27:51.260Z"
   },
   {
    "duration": 23,
    "start_time": "2021-11-17T14:27:51.275Z"
   },
   {
    "duration": 19,
    "start_time": "2021-11-17T14:27:51.300Z"
   },
   {
    "duration": 7,
    "start_time": "2021-11-17T14:27:51.321Z"
   },
   {
    "duration": 74,
    "start_time": "2021-11-17T14:27:51.330Z"
   },
   {
    "duration": 16,
    "start_time": "2021-11-17T14:27:51.406Z"
   },
   {
    "duration": 17,
    "start_time": "2021-11-17T14:27:51.424Z"
   },
   {
    "duration": 17,
    "start_time": "2021-11-17T14:27:51.443Z"
   },
   {
    "duration": 831,
    "start_time": "2021-11-17T14:27:51.461Z"
   },
   {
    "duration": 8,
    "start_time": "2021-11-17T14:27:52.294Z"
   },
   {
    "duration": 8,
    "start_time": "2021-11-17T14:27:52.304Z"
   },
   {
    "duration": 15,
    "start_time": "2021-11-17T14:27:52.314Z"
   },
   {
    "duration": 15,
    "start_time": "2021-11-17T14:27:52.331Z"
   },
   {
    "duration": 46,
    "start_time": "2021-11-17T14:27:52.348Z"
   },
   {
    "duration": 16,
    "start_time": "2021-11-17T14:27:52.396Z"
   },
   {
    "duration": 7,
    "start_time": "2021-11-17T14:27:52.414Z"
   },
   {
    "duration": 7,
    "start_time": "2021-11-17T14:27:52.422Z"
   },
   {
    "duration": 1133,
    "start_time": "2021-11-18T11:57:44.917Z"
   },
   {
    "duration": 3,
    "start_time": "2021-11-18T11:57:46.052Z"
   },
   {
    "duration": 891,
    "start_time": "2021-11-18T11:57:46.057Z"
   },
   {
    "duration": 10,
    "start_time": "2021-11-18T11:57:46.950Z"
   },
   {
    "duration": 20,
    "start_time": "2021-11-18T11:57:46.962Z"
   },
   {
    "duration": 23,
    "start_time": "2021-11-18T11:57:46.984Z"
   },
   {
    "duration": 7,
    "start_time": "2021-11-18T11:57:47.008Z"
   },
   {
    "duration": 5,
    "start_time": "2021-11-18T11:57:47.017Z"
   },
   {
    "duration": 14,
    "start_time": "2021-11-18T11:57:47.045Z"
   },
   {
    "duration": 7,
    "start_time": "2021-11-18T11:57:47.061Z"
   },
   {
    "duration": 13,
    "start_time": "2021-11-18T11:57:47.069Z"
   },
   {
    "duration": 8,
    "start_time": "2021-11-18T11:57:47.084Z"
   },
   {
    "duration": 11,
    "start_time": "2021-11-18T11:57:47.093Z"
   },
   {
    "duration": 4,
    "start_time": "2021-11-18T11:57:47.105Z"
   },
   {
    "duration": 41,
    "start_time": "2021-11-18T11:57:47.110Z"
   },
   {
    "duration": 42,
    "start_time": "2021-11-18T11:57:47.153Z"
   },
   {
    "duration": 11,
    "start_time": "2021-11-18T11:57:47.198Z"
   },
   {
    "duration": 33,
    "start_time": "2021-11-18T11:57:47.211Z"
   },
   {
    "duration": 30,
    "start_time": "2021-11-18T11:57:47.246Z"
   },
   {
    "duration": 9,
    "start_time": "2021-11-18T11:57:47.278Z"
   },
   {
    "duration": 22,
    "start_time": "2021-11-18T11:57:47.289Z"
   },
   {
    "duration": 36,
    "start_time": "2021-11-18T11:57:47.313Z"
   },
   {
    "duration": 5,
    "start_time": "2021-11-18T11:57:47.354Z"
   },
   {
    "duration": 37,
    "start_time": "2021-11-18T11:57:47.362Z"
   },
   {
    "duration": 15,
    "start_time": "2021-11-18T11:57:47.401Z"
   },
   {
    "duration": 28,
    "start_time": "2021-11-18T11:57:47.417Z"
   },
   {
    "duration": 25,
    "start_time": "2021-11-18T11:57:47.447Z"
   },
   {
    "duration": 14,
    "start_time": "2021-11-18T11:57:47.474Z"
   },
   {
    "duration": 6,
    "start_time": "2021-11-18T11:57:47.490Z"
   },
   {
    "duration": 110,
    "start_time": "2021-11-18T11:57:47.498Z"
   },
   {
    "duration": 12,
    "start_time": "2021-11-18T11:57:47.609Z"
   },
   {
    "duration": 22,
    "start_time": "2021-11-18T11:57:47.622Z"
   },
   {
    "duration": 11,
    "start_time": "2021-11-18T11:57:47.646Z"
   },
   {
    "duration": 14,
    "start_time": "2021-11-18T11:57:47.659Z"
   },
   {
    "duration": 4,
    "start_time": "2021-11-18T11:57:47.675Z"
   },
   {
    "duration": 11,
    "start_time": "2021-11-18T11:57:47.680Z"
   },
   {
    "duration": 9,
    "start_time": "2021-11-18T11:57:47.692Z"
   },
   {
    "duration": 10,
    "start_time": "2021-11-18T11:57:47.702Z"
   },
   {
    "duration": 38,
    "start_time": "2021-11-18T11:57:47.713Z"
   },
   {
    "duration": 22,
    "start_time": "2021-11-18T11:57:47.752Z"
   },
   {
    "duration": 4,
    "start_time": "2021-11-18T11:57:47.776Z"
   },
   {
    "duration": 8,
    "start_time": "2021-11-18T11:57:47.782Z"
   },
   {
    "duration": 11,
    "start_time": "2021-11-18T11:57:47.791Z"
   },
   {
    "duration": 6,
    "start_time": "2021-11-18T11:57:47.803Z"
   },
   {
    "duration": 39,
    "start_time": "2021-11-18T11:57:47.810Z"
   },
   {
    "duration": 6,
    "start_time": "2021-11-18T11:57:47.851Z"
   },
   {
    "duration": 76,
    "start_time": "2021-11-18T11:57:47.858Z"
   },
   {
    "duration": 19,
    "start_time": "2021-11-18T11:57:47.936Z"
   },
   {
    "duration": 16,
    "start_time": "2021-11-18T11:57:47.956Z"
   },
   {
    "duration": 14,
    "start_time": "2021-11-18T11:57:47.974Z"
   },
   {
    "duration": 337,
    "start_time": "2021-11-18T11:57:47.990Z"
   },
   {
    "duration": -106,
    "start_time": "2021-11-18T11:57:48.435Z"
   },
   {
    "duration": -108,
    "start_time": "2021-11-18T11:57:48.438Z"
   },
   {
    "duration": -111,
    "start_time": "2021-11-18T11:57:48.442Z"
   },
   {
    "duration": -119,
    "start_time": "2021-11-18T11:57:48.450Z"
   },
   {
    "duration": -122,
    "start_time": "2021-11-18T11:57:48.454Z"
   },
   {
    "duration": -126,
    "start_time": "2021-11-18T11:57:48.458Z"
   },
   {
    "duration": -128,
    "start_time": "2021-11-18T11:57:48.461Z"
   },
   {
    "duration": -131,
    "start_time": "2021-11-18T11:57:48.464Z"
   },
   {
    "duration": 1062,
    "start_time": "2021-11-18T13:05:20.374Z"
   },
   {
    "duration": 2,
    "start_time": "2021-11-18T13:05:21.438Z"
   },
   {
    "duration": 305,
    "start_time": "2021-11-18T13:05:21.442Z"
   },
   {
    "duration": 12,
    "start_time": "2021-11-18T13:05:21.750Z"
   },
   {
    "duration": 22,
    "start_time": "2021-11-18T13:05:21.764Z"
   },
   {
    "duration": 27,
    "start_time": "2021-11-18T13:05:21.788Z"
   },
   {
    "duration": 28,
    "start_time": "2021-11-18T13:05:21.817Z"
   },
   {
    "duration": 5,
    "start_time": "2021-11-18T13:05:21.848Z"
   },
   {
    "duration": 17,
    "start_time": "2021-11-18T13:05:21.855Z"
   },
   {
    "duration": 7,
    "start_time": "2021-11-18T13:05:21.874Z"
   },
   {
    "duration": 19,
    "start_time": "2021-11-18T13:05:21.883Z"
   },
   {
    "duration": 9,
    "start_time": "2021-11-18T13:05:21.904Z"
   },
   {
    "duration": 36,
    "start_time": "2021-11-18T13:05:21.914Z"
   },
   {
    "duration": 4,
    "start_time": "2021-11-18T13:05:21.952Z"
   },
   {
    "duration": 10,
    "start_time": "2021-11-18T13:05:21.958Z"
   },
   {
    "duration": 43,
    "start_time": "2021-11-18T13:05:21.970Z"
   },
   {
    "duration": 9,
    "start_time": "2021-11-18T13:05:22.015Z"
   },
   {
    "duration": 7,
    "start_time": "2021-11-18T13:05:22.045Z"
   },
   {
    "duration": 42,
    "start_time": "2021-11-18T13:05:22.054Z"
   },
   {
    "duration": 9,
    "start_time": "2021-11-18T13:05:22.098Z"
   },
   {
    "duration": 46,
    "start_time": "2021-11-18T13:05:22.109Z"
   },
   {
    "duration": 8,
    "start_time": "2021-11-18T13:05:22.157Z"
   },
   {
    "duration": 6,
    "start_time": "2021-11-18T13:05:22.169Z"
   },
   {
    "duration": 36,
    "start_time": "2021-11-18T13:05:22.177Z"
   },
   {
    "duration": 41,
    "start_time": "2021-11-18T13:05:22.215Z"
   },
   {
    "duration": 9,
    "start_time": "2021-11-18T13:05:22.257Z"
   },
   {
    "duration": 27,
    "start_time": "2021-11-18T13:05:22.267Z"
   },
   {
    "duration": 15,
    "start_time": "2021-11-18T13:05:22.296Z"
   },
   {
    "duration": 32,
    "start_time": "2021-11-18T13:05:22.313Z"
   },
   {
    "duration": 79,
    "start_time": "2021-11-18T13:05:22.347Z"
   },
   {
    "duration": 26,
    "start_time": "2021-11-18T13:05:22.428Z"
   },
   {
    "duration": 19,
    "start_time": "2021-11-18T13:05:22.456Z"
   },
   {
    "duration": 28,
    "start_time": "2021-11-18T13:05:22.477Z"
   },
   {
    "duration": 23,
    "start_time": "2021-11-18T13:05:22.506Z"
   },
   {
    "duration": 15,
    "start_time": "2021-11-18T13:05:22.531Z"
   },
   {
    "duration": 12,
    "start_time": "2021-11-18T13:05:22.548Z"
   },
   {
    "duration": 14,
    "start_time": "2021-11-18T13:05:22.562Z"
   },
   {
    "duration": 7,
    "start_time": "2021-11-18T13:05:22.578Z"
   },
   {
    "duration": 22,
    "start_time": "2021-11-18T13:05:22.587Z"
   },
   {
    "duration": 27,
    "start_time": "2021-11-18T13:05:22.610Z"
   },
   {
    "duration": 7,
    "start_time": "2021-11-18T13:05:22.638Z"
   },
   {
    "duration": 10,
    "start_time": "2021-11-18T13:05:22.647Z"
   },
   {
    "duration": 11,
    "start_time": "2021-11-18T13:05:22.659Z"
   },
   {
    "duration": 5,
    "start_time": "2021-11-18T13:05:22.672Z"
   },
   {
    "duration": 15,
    "start_time": "2021-11-18T13:05:22.679Z"
   },
   {
    "duration": 6,
    "start_time": "2021-11-18T13:05:22.696Z"
   },
   {
    "duration": 100,
    "start_time": "2021-11-18T13:05:22.704Z"
   },
   {
    "duration": 14,
    "start_time": "2021-11-18T13:05:22.805Z"
   },
   {
    "duration": 29,
    "start_time": "2021-11-18T13:05:22.821Z"
   },
   {
    "duration": 13,
    "start_time": "2021-11-18T13:05:22.852Z"
   },
   {
    "duration": 352,
    "start_time": "2021-11-18T13:05:22.867Z"
   },
   {
    "duration": -36,
    "start_time": "2021-11-18T13:05:23.256Z"
   },
   {
    "duration": -92,
    "start_time": "2021-11-18T13:05:23.313Z"
   },
   {
    "duration": -95,
    "start_time": "2021-11-18T13:05:23.318Z"
   },
   {
    "duration": -101,
    "start_time": "2021-11-18T13:05:23.324Z"
   },
   {
    "duration": -104,
    "start_time": "2021-11-18T13:05:23.329Z"
   },
   {
    "duration": -107,
    "start_time": "2021-11-18T13:05:23.333Z"
   },
   {
    "duration": -111,
    "start_time": "2021-11-18T13:05:23.338Z"
   },
   {
    "duration": -116,
    "start_time": "2021-11-18T13:05:23.344Z"
   },
   {
    "duration": 9,
    "start_time": "2021-11-18T13:33:37.907Z"
   },
   {
    "duration": 7,
    "start_time": "2021-11-18T13:35:25.548Z"
   },
   {
    "duration": 7,
    "start_time": "2021-11-18T13:35:35.792Z"
   },
   {
    "duration": 218,
    "start_time": "2021-11-18T17:49:15.078Z"
   },
   {
    "duration": 1003,
    "start_time": "2021-11-18T17:49:20.872Z"
   },
   {
    "duration": 3,
    "start_time": "2021-11-18T17:49:21.877Z"
   },
   {
    "duration": 301,
    "start_time": "2021-11-18T17:49:21.882Z"
   },
   {
    "duration": 10,
    "start_time": "2021-11-18T17:49:22.185Z"
   },
   {
    "duration": 17,
    "start_time": "2021-11-18T17:49:22.197Z"
   },
   {
    "duration": 22,
    "start_time": "2021-11-18T17:49:22.215Z"
   },
   {
    "duration": 7,
    "start_time": "2021-11-18T17:49:22.238Z"
   },
   {
    "duration": 8,
    "start_time": "2021-11-18T17:49:22.246Z"
   },
   {
    "duration": 35,
    "start_time": "2021-11-18T17:49:22.257Z"
   },
   {
    "duration": 6,
    "start_time": "2021-11-18T17:49:22.294Z"
   },
   {
    "duration": 15,
    "start_time": "2021-11-18T17:49:22.302Z"
   },
   {
    "duration": 10,
    "start_time": "2021-11-18T17:49:22.319Z"
   },
   {
    "duration": 12,
    "start_time": "2021-11-18T17:49:22.330Z"
   },
   {
    "duration": 4,
    "start_time": "2021-11-18T17:49:22.344Z"
   },
   {
    "duration": 9,
    "start_time": "2021-11-18T17:49:22.350Z"
   },
   {
    "duration": 54,
    "start_time": "2021-11-18T17:49:22.361Z"
   },
   {
    "duration": 9,
    "start_time": "2021-11-18T17:49:22.417Z"
   },
   {
    "duration": 12,
    "start_time": "2021-11-18T17:49:22.428Z"
   },
   {
    "duration": 27,
    "start_time": "2021-11-18T17:49:22.442Z"
   },
   {
    "duration": 25,
    "start_time": "2021-11-18T17:49:22.471Z"
   },
   {
    "duration": 22,
    "start_time": "2021-11-18T17:49:22.497Z"
   },
   {
    "duration": 8,
    "start_time": "2021-11-18T17:49:22.520Z"
   },
   {
    "duration": 14,
    "start_time": "2021-11-18T17:49:22.529Z"
   },
   {
    "duration": 52,
    "start_time": "2021-11-18T17:49:22.545Z"
   },
   {
    "duration": 16,
    "start_time": "2021-11-18T17:49:22.598Z"
   },
   {
    "duration": 8,
    "start_time": "2021-11-18T17:49:22.616Z"
   },
   {
    "duration": 25,
    "start_time": "2021-11-18T17:49:22.628Z"
   },
   {
    "duration": 37,
    "start_time": "2021-11-18T17:49:22.655Z"
   },
   {
    "duration": 6,
    "start_time": "2021-11-18T17:49:22.694Z"
   },
   {
    "duration": 74,
    "start_time": "2021-11-18T17:49:22.701Z"
   },
   {
    "duration": 26,
    "start_time": "2021-11-18T17:49:22.776Z"
   },
   {
    "duration": 13,
    "start_time": "2021-11-18T17:49:22.804Z"
   },
   {
    "duration": 14,
    "start_time": "2021-11-18T17:49:22.818Z"
   },
   {
    "duration": 13,
    "start_time": "2021-11-18T17:49:22.833Z"
   },
   {
    "duration": 2,
    "start_time": "2021-11-18T17:49:22.848Z"
   },
   {
    "duration": 42,
    "start_time": "2021-11-18T17:49:22.851Z"
   },
   {
    "duration": 8,
    "start_time": "2021-11-18T17:49:22.894Z"
   },
   {
    "duration": 8,
    "start_time": "2021-11-18T17:49:22.904Z"
   },
   {
    "duration": 7,
    "start_time": "2021-11-18T17:49:22.913Z"
   },
   {
    "duration": 16,
    "start_time": "2021-11-18T17:49:22.921Z"
   },
   {
    "duration": 3,
    "start_time": "2021-11-18T17:49:22.938Z"
   },
   {
    "duration": 11,
    "start_time": "2021-11-18T17:49:22.943Z"
   },
   {
    "duration": 37,
    "start_time": "2021-11-18T17:49:22.956Z"
   },
   {
    "duration": 3,
    "start_time": "2021-11-18T17:49:22.995Z"
   },
   {
    "duration": 11,
    "start_time": "2021-11-18T17:49:23.000Z"
   },
   {
    "duration": 8,
    "start_time": "2021-11-18T17:49:23.013Z"
   },
   {
    "duration": 87,
    "start_time": "2021-11-18T17:49:23.023Z"
   },
   {
    "duration": 16,
    "start_time": "2021-11-18T17:49:23.112Z"
   },
   {
    "duration": 14,
    "start_time": "2021-11-18T17:49:23.130Z"
   },
   {
    "duration": 219,
    "start_time": "2021-11-18T17:49:23.146Z"
   },
   {
    "duration": 1306,
    "start_time": "2021-11-18T17:49:22.061Z"
   },
   {
    "duration": 1302,
    "start_time": "2021-11-18T17:49:22.066Z"
   },
   {
    "duration": 1300,
    "start_time": "2021-11-18T17:49:22.069Z"
   },
   {
    "duration": 1296,
    "start_time": "2021-11-18T17:49:22.073Z"
   },
   {
    "duration": 1294,
    "start_time": "2021-11-18T17:49:22.076Z"
   },
   {
    "duration": 1291,
    "start_time": "2021-11-18T17:49:22.080Z"
   },
   {
    "duration": 1289,
    "start_time": "2021-11-18T17:49:22.083Z"
   },
   {
    "duration": 1286,
    "start_time": "2021-11-18T17:49:22.087Z"
   },
   {
    "duration": 7,
    "start_time": "2021-11-18T17:49:55.840Z"
   },
   {
    "duration": 10,
    "start_time": "2021-11-18T17:50:06.955Z"
   },
   {
    "duration": 205,
    "start_time": "2021-11-18T17:50:29.202Z"
   },
   {
    "duration": 183,
    "start_time": "2021-11-18T17:50:37.824Z"
   },
   {
    "duration": 8,
    "start_time": "2021-11-18T17:50:52.423Z"
   },
   {
    "duration": 8,
    "start_time": "2021-11-18T17:51:57.179Z"
   },
   {
    "duration": 175,
    "start_time": "2021-11-18T17:52:05.939Z"
   },
   {
    "duration": 181,
    "start_time": "2021-11-18T17:52:43.839Z"
   },
   {
    "duration": 7,
    "start_time": "2021-11-18T17:52:55.843Z"
   },
   {
    "duration": 5,
    "start_time": "2021-11-18T17:53:12.041Z"
   },
   {
    "duration": 2,
    "start_time": "2021-11-18T17:53:13.030Z"
   },
   {
    "duration": 284,
    "start_time": "2021-11-18T17:53:14.147Z"
   },
   {
    "duration": 8,
    "start_time": "2021-11-18T17:53:14.432Z"
   },
   {
    "duration": 16,
    "start_time": "2021-11-18T17:53:14.575Z"
   },
   {
    "duration": 21,
    "start_time": "2021-11-18T17:53:14.782Z"
   },
   {
    "duration": 8,
    "start_time": "2021-11-18T17:53:14.978Z"
   },
   {
    "duration": 2,
    "start_time": "2021-11-18T17:53:15.202Z"
   },
   {
    "duration": 13,
    "start_time": "2021-11-18T17:53:15.406Z"
   },
   {
    "duration": 7,
    "start_time": "2021-11-18T17:53:15.616Z"
   },
   {
    "duration": 12,
    "start_time": "2021-11-18T17:53:15.827Z"
   },
   {
    "duration": 9,
    "start_time": "2021-11-18T17:53:16.057Z"
   },
   {
    "duration": 10,
    "start_time": "2021-11-18T17:53:16.268Z"
   },
   {
    "duration": 2,
    "start_time": "2021-11-18T17:53:16.493Z"
   },
   {
    "duration": 7,
    "start_time": "2021-11-18T17:53:16.764Z"
   },
   {
    "duration": 32,
    "start_time": "2021-11-18T17:53:28.764Z"
   },
   {
    "duration": 8,
    "start_time": "2021-11-18T17:53:30.346Z"
   },
   {
    "duration": 5,
    "start_time": "2021-11-18T17:53:34.156Z"
   },
   {
    "duration": 12,
    "start_time": "2021-11-18T17:53:44.865Z"
   },
   {
    "duration": 26,
    "start_time": "2021-11-18T17:54:03.483Z"
   },
   {
    "duration": 16,
    "start_time": "2021-11-18T17:54:04.331Z"
   },
   {
    "duration": 5,
    "start_time": "2021-11-18T17:57:52.890Z"
   },
   {
    "duration": 3,
    "start_time": "2021-11-18T17:57:53.332Z"
   },
   {
    "duration": 295,
    "start_time": "2021-11-18T17:57:53.775Z"
   },
   {
    "duration": 7,
    "start_time": "2021-11-18T17:57:54.073Z"
   },
   {
    "duration": 16,
    "start_time": "2021-11-18T17:57:54.296Z"
   },
   {
    "duration": 22,
    "start_time": "2021-11-18T17:57:54.525Z"
   },
   {
    "duration": 8,
    "start_time": "2021-11-18T17:57:54.772Z"
   },
   {
    "duration": 2,
    "start_time": "2021-11-18T17:57:55.027Z"
   },
   {
    "duration": 14,
    "start_time": "2021-11-18T17:57:55.266Z"
   },
   {
    "duration": 7,
    "start_time": "2021-11-18T17:57:55.521Z"
   },
   {
    "duration": 11,
    "start_time": "2021-11-18T17:57:55.777Z"
   },
   {
    "duration": 9,
    "start_time": "2021-11-18T17:57:56.039Z"
   },
   {
    "duration": 9,
    "start_time": "2021-11-18T17:57:56.272Z"
   },
   {
    "duration": 2,
    "start_time": "2021-11-18T17:57:56.511Z"
   },
   {
    "duration": 6,
    "start_time": "2021-11-18T17:57:56.767Z"
   },
   {
    "duration": 34,
    "start_time": "2021-11-18T17:58:06.404Z"
   },
   {
    "duration": 9,
    "start_time": "2021-11-18T17:58:07.170Z"
   },
   {
    "duration": 176,
    "start_time": "2021-11-18T17:58:11.715Z"
   },
   {
    "duration": 11,
    "start_time": "2021-11-18T17:58:40.487Z"
   },
   {
    "duration": 176,
    "start_time": "2021-11-18T17:59:07.672Z"
   },
   {
    "duration": 180,
    "start_time": "2021-11-18T17:59:10.364Z"
   },
   {
    "duration": 26,
    "start_time": "2021-11-18T17:59:29.438Z"
   },
   {
    "duration": 17,
    "start_time": "2021-11-18T17:59:30.224Z"
   },
   {
    "duration": 12,
    "start_time": "2021-11-18T18:00:46.964Z"
   },
   {
    "duration": 4429,
    "start_time": "2021-11-18T18:01:22.657Z"
   },
   {
    "duration": 15,
    "start_time": "2021-11-18T18:02:20.501Z"
   },
   {
    "duration": 12,
    "start_time": "2021-11-18T18:02:33.864Z"
   },
   {
    "duration": 172,
    "start_time": "2021-11-18T18:03:32.975Z"
   },
   {
    "duration": 202,
    "start_time": "2021-11-18T18:03:47.885Z"
   },
   {
    "duration": 21,
    "start_time": "2021-11-18T18:04:45.184Z"
   },
   {
    "duration": 16,
    "start_time": "2021-11-18T18:05:05.854Z"
   },
   {
    "duration": 5,
    "start_time": "2021-11-18T18:05:33.066Z"
   },
   {
    "duration": 15,
    "start_time": "2021-11-18T18:05:44.900Z"
   },
   {
    "duration": 4,
    "start_time": "2021-11-18T18:06:01.444Z"
   },
   {
    "duration": 8,
    "start_time": "2021-11-18T18:06:04.848Z"
   },
   {
    "duration": 7,
    "start_time": "2021-11-18T18:06:17.081Z"
   },
   {
    "duration": 6,
    "start_time": "2021-11-18T18:06:21.109Z"
   },
   {
    "duration": 30,
    "start_time": "2021-11-18T18:06:35.892Z"
   },
   {
    "duration": 2,
    "start_time": "2021-11-18T18:06:56.989Z"
   },
   {
    "duration": 315,
    "start_time": "2021-11-18T18:07:03.290Z"
   },
   {
    "duration": 12,
    "start_time": "2021-11-18T18:07:25.233Z"
   },
   {
    "duration": 222,
    "start_time": "2021-11-18T18:07:38.416Z"
   },
   {
    "duration": 15,
    "start_time": "2021-11-18T18:08:09.730Z"
   },
   {
    "duration": 19,
    "start_time": "2021-11-18T18:08:18.958Z"
   },
   {
    "duration": 8,
    "start_time": "2021-11-18T18:08:19.781Z"
   },
   {
    "duration": 68,
    "start_time": "2021-11-18T18:08:25.783Z"
   },
   {
    "duration": 13,
    "start_time": "2021-11-18T18:08:32.167Z"
   },
   {
    "duration": 12,
    "start_time": "2021-11-18T18:08:36.691Z"
   },
   {
    "duration": 11,
    "start_time": "2021-11-18T18:08:42.842Z"
   },
   {
    "duration": 12,
    "start_time": "2021-11-18T18:09:06.463Z"
   },
   {
    "duration": 5,
    "start_time": "2021-11-18T18:09:18.820Z"
   },
   {
    "duration": 3,
    "start_time": "2021-11-18T18:09:19.360Z"
   },
   {
    "duration": 299,
    "start_time": "2021-11-18T18:09:19.914Z"
   },
   {
    "duration": 7,
    "start_time": "2021-11-18T18:09:20.540Z"
   },
   {
    "duration": 15,
    "start_time": "2021-11-18T18:09:21.086Z"
   },
   {
    "duration": 21,
    "start_time": "2021-11-18T18:09:21.926Z"
   },
   {
    "duration": 8,
    "start_time": "2021-11-18T18:09:22.750Z"
   },
   {
    "duration": 3,
    "start_time": "2021-11-18T18:09:23.657Z"
   },
   {
    "duration": 13,
    "start_time": "2021-11-18T18:09:24.416Z"
   },
   {
    "duration": 7,
    "start_time": "2021-11-18T18:09:25.518Z"
   },
   {
    "duration": 11,
    "start_time": "2021-11-18T18:09:27.543Z"
   },
   {
    "duration": 9,
    "start_time": "2021-11-18T18:09:28.743Z"
   },
   {
    "duration": 9,
    "start_time": "2021-11-18T18:09:30.843Z"
   },
   {
    "duration": 2,
    "start_time": "2021-11-18T18:09:33.355Z"
   },
   {
    "duration": 7,
    "start_time": "2021-11-18T18:09:34.085Z"
   },
   {
    "duration": 35,
    "start_time": "2021-11-18T18:09:39.724Z"
   },
   {
    "duration": 9,
    "start_time": "2021-11-18T18:09:42.685Z"
   },
   {
    "duration": 31,
    "start_time": "2021-11-18T18:09:50.290Z"
   },
   {
    "duration": 20,
    "start_time": "2021-11-18T18:09:59.057Z"
   },
   {
    "duration": 4,
    "start_time": "2021-11-18T18:10:02.637Z"
   },
   {
    "duration": 12,
    "start_time": "2021-11-18T18:10:03.865Z"
   },
   {
    "duration": 19,
    "start_time": "2021-11-18T18:10:10.971Z"
   },
   {
    "duration": 8,
    "start_time": "2021-11-18T18:10:11.508Z"
   },
   {
    "duration": 6,
    "start_time": "2021-11-18T18:10:14.238Z"
   },
   {
    "duration": 30,
    "start_time": "2021-11-18T18:10:16.920Z"
   },
   {
    "duration": 15,
    "start_time": "2021-11-18T18:10:21.147Z"
   },
   {
    "duration": 9,
    "start_time": "2021-11-18T18:10:22.721Z"
   },
   {
    "duration": 8,
    "start_time": "2021-11-18T18:10:26.458Z"
   },
   {
    "duration": 24,
    "start_time": "2021-11-18T18:10:32.860Z"
   },
   {
    "duration": 7,
    "start_time": "2021-11-18T18:10:37.316Z"
   },
   {
    "duration": 12,
    "start_time": "2021-11-18T18:10:51.348Z"
   },
   {
    "duration": 67,
    "start_time": "2021-11-18T18:11:07.857Z"
   },
   {
    "duration": 13,
    "start_time": "2021-11-18T18:11:11.328Z"
   },
   {
    "duration": 12,
    "start_time": "2021-11-18T18:11:14.459Z"
   },
   {
    "duration": 12,
    "start_time": "2021-11-18T18:11:18.002Z"
   },
   {
    "duration": 13,
    "start_time": "2021-11-18T18:11:27.709Z"
   },
   {
    "duration": 3,
    "start_time": "2021-11-18T18:11:32.882Z"
   },
   {
    "duration": 8,
    "start_time": "2021-11-18T18:11:33.257Z"
   },
   {
    "duration": 9,
    "start_time": "2021-11-18T18:11:34.601Z"
   },
   {
    "duration": 12,
    "start_time": "2021-11-18T18:11:35.084Z"
   },
   {
    "duration": 12,
    "start_time": "2021-11-18T18:11:35.957Z"
   },
   {
    "duration": 18,
    "start_time": "2021-11-18T18:11:36.347Z"
   },
   {
    "duration": 5,
    "start_time": "2021-11-18T18:11:41.212Z"
   },
   {
    "duration": 7,
    "start_time": "2021-11-18T18:11:41.724Z"
   },
   {
    "duration": 11,
    "start_time": "2021-11-18T18:11:42.804Z"
   },
   {
    "duration": 4,
    "start_time": "2021-11-18T18:11:48.265Z"
   },
   {
    "duration": 13,
    "start_time": "2021-11-18T18:11:53.094Z"
   },
   {
    "duration": 6,
    "start_time": "2021-11-18T18:11:59.337Z"
   },
   {
    "duration": 75,
    "start_time": "2021-11-18T18:12:01.638Z"
   },
   {
    "duration": 15,
    "start_time": "2021-11-18T18:12:45.624Z"
   },
   {
    "duration": 15,
    "start_time": "2021-11-18T18:12:50.137Z"
   },
   {
    "duration": 185,
    "start_time": "2021-11-18T18:12:50.442Z"
   },
   {
    "duration": 265,
    "start_time": "2021-11-18T18:13:02.557Z"
   },
   {
    "duration": 3,
    "start_time": "2021-11-18T18:14:40.321Z"
   },
   {
    "duration": 788,
    "start_time": "2021-11-18T18:14:42.231Z"
   },
   {
    "duration": 3,
    "start_time": "2021-11-18T18:14:53.236Z"
   },
   {
    "duration": 839,
    "start_time": "2021-11-18T18:14:56.226Z"
   },
   {
    "duration": 6,
    "start_time": "2021-11-18T18:15:06.017Z"
   },
   {
    "duration": 6,
    "start_time": "2021-11-18T18:15:06.498Z"
   },
   {
    "duration": 12,
    "start_time": "2021-11-18T18:15:07.575Z"
   },
   {
    "duration": 17,
    "start_time": "2021-11-18T18:15:08.102Z"
   },
   {
    "duration": 15,
    "start_time": "2021-11-18T18:15:08.371Z"
   },
   {
    "duration": 17,
    "start_time": "2021-11-18T18:15:08.627Z"
   },
   {
    "duration": 8,
    "start_time": "2021-11-18T18:15:08.904Z"
   },
   {
    "duration": 5,
    "start_time": "2021-11-18T18:15:09.166Z"
   },
   {
    "duration": 175,
    "start_time": "2021-11-18T18:28:32.898Z"
   },
   {
    "duration": 14,
    "start_time": "2021-11-18T18:28:41.895Z"
   },
   {
    "duration": 182,
    "start_time": "2021-11-18T18:28:47.287Z"
   },
   {
    "duration": 15,
    "start_time": "2021-11-18T18:28:54.816Z"
   },
   {
    "duration": 21,
    "start_time": "2021-11-18T18:29:12.515Z"
   },
   {
    "duration": 22,
    "start_time": "2021-11-18T18:30:04.004Z"
   },
   {
    "duration": 974,
    "start_time": "2021-11-18T18:31:48.800Z"
   },
   {
    "duration": 3,
    "start_time": "2021-11-18T18:31:49.775Z"
   },
   {
    "duration": 330,
    "start_time": "2021-11-18T18:31:49.780Z"
   },
   {
    "duration": 10,
    "start_time": "2021-11-18T18:31:50.112Z"
   },
   {
    "duration": 29,
    "start_time": "2021-11-18T18:31:50.124Z"
   },
   {
    "duration": 23,
    "start_time": "2021-11-18T18:31:50.155Z"
   },
   {
    "duration": 11,
    "start_time": "2021-11-18T18:31:50.180Z"
   },
   {
    "duration": 3,
    "start_time": "2021-11-18T18:31:50.194Z"
   },
   {
    "duration": 18,
    "start_time": "2021-11-18T18:31:50.199Z"
   },
   {
    "duration": 8,
    "start_time": "2021-11-18T18:31:50.219Z"
   },
   {
    "duration": 11,
    "start_time": "2021-11-18T18:31:50.229Z"
   },
   {
    "duration": 8,
    "start_time": "2021-11-18T18:31:50.242Z"
   },
   {
    "duration": 40,
    "start_time": "2021-11-18T18:31:50.252Z"
   },
   {
    "duration": 2,
    "start_time": "2021-11-18T18:31:50.295Z"
   },
   {
    "duration": 11,
    "start_time": "2021-11-18T18:31:50.299Z"
   },
   {
    "duration": 37,
    "start_time": "2021-11-18T18:31:50.312Z"
   },
   {
    "duration": 9,
    "start_time": "2021-11-18T18:31:50.351Z"
   },
   {
    "duration": 51,
    "start_time": "2021-11-18T18:31:50.362Z"
   },
   {
    "duration": 21,
    "start_time": "2021-11-18T18:31:50.414Z"
   },
   {
    "duration": 4,
    "start_time": "2021-11-18T18:31:50.437Z"
   },
   {
    "duration": 11,
    "start_time": "2021-11-18T18:31:50.443Z"
   },
   {
    "duration": 43,
    "start_time": "2021-11-18T18:31:50.455Z"
   },
   {
    "duration": 8,
    "start_time": "2021-11-18T18:31:50.502Z"
   },
   {
    "duration": 6,
    "start_time": "2021-11-18T18:31:50.512Z"
   },
   {
    "duration": 32,
    "start_time": "2021-11-18T18:31:50.519Z"
   },
   {
    "duration": 14,
    "start_time": "2021-11-18T18:31:50.552Z"
   },
   {
    "duration": 29,
    "start_time": "2021-11-18T18:31:50.568Z"
   },
   {
    "duration": 30,
    "start_time": "2021-11-18T18:31:50.599Z"
   },
   {
    "duration": 2,
    "start_time": "2021-11-18T18:31:50.631Z"
   },
   {
    "duration": 10,
    "start_time": "2021-11-18T18:31:50.634Z"
   },
   {
    "duration": 92,
    "start_time": "2021-11-18T18:31:50.645Z"
   },
   {
    "duration": 12,
    "start_time": "2021-11-18T18:31:50.738Z"
   },
   {
    "duration": 15,
    "start_time": "2021-11-18T18:31:50.752Z"
   },
   {
    "duration": 29,
    "start_time": "2021-11-18T18:31:50.768Z"
   },
   {
    "duration": 11,
    "start_time": "2021-11-18T18:31:50.798Z"
   },
   {
    "duration": 5,
    "start_time": "2021-11-18T18:31:50.810Z"
   },
   {
    "duration": 9,
    "start_time": "2021-11-18T18:31:50.816Z"
   },
   {
    "duration": 7,
    "start_time": "2021-11-18T18:31:50.827Z"
   },
   {
    "duration": 21,
    "start_time": "2021-11-18T18:31:50.835Z"
   },
   {
    "duration": 8,
    "start_time": "2021-11-18T18:31:50.858Z"
   },
   {
    "duration": 38,
    "start_time": "2021-11-18T18:31:50.868Z"
   },
   {
    "duration": 4,
    "start_time": "2021-11-18T18:31:50.907Z"
   },
   {
    "duration": 8,
    "start_time": "2021-11-18T18:31:50.913Z"
   },
   {
    "duration": 12,
    "start_time": "2021-11-18T18:31:50.922Z"
   },
   {
    "duration": 4,
    "start_time": "2021-11-18T18:31:50.935Z"
   },
   {
    "duration": 9,
    "start_time": "2021-11-18T18:31:50.941Z"
   },
   {
    "duration": 40,
    "start_time": "2021-11-18T18:31:50.952Z"
   },
   {
    "duration": 72,
    "start_time": "2021-11-18T18:31:50.993Z"
   },
   {
    "duration": 13,
    "start_time": "2021-11-18T18:31:51.067Z"
   },
   {
    "duration": 24,
    "start_time": "2021-11-18T18:31:51.091Z"
   },
   {
    "duration": 13,
    "start_time": "2021-11-18T18:31:51.116Z"
   },
   {
    "duration": 20,
    "start_time": "2021-11-18T18:31:51.130Z"
   },
   {
    "duration": 6,
    "start_time": "2021-11-18T18:31:51.152Z"
   },
   {
    "duration": 770,
    "start_time": "2021-11-18T18:31:51.160Z"
   },
   {
    "duration": 6,
    "start_time": "2021-11-18T18:31:51.932Z"
   },
   {
    "duration": 6,
    "start_time": "2021-11-18T18:31:51.940Z"
   },
   {
    "duration": 15,
    "start_time": "2021-11-18T18:31:51.948Z"
   },
   {
    "duration": 33,
    "start_time": "2021-11-18T18:31:51.965Z"
   },
   {
    "duration": 15,
    "start_time": "2021-11-18T18:31:52.001Z"
   },
   {
    "duration": 15,
    "start_time": "2021-11-18T18:31:52.018Z"
   },
   {
    "duration": 7,
    "start_time": "2021-11-18T18:31:52.035Z"
   },
   {
    "duration": 6,
    "start_time": "2021-11-18T18:31:52.043Z"
   },
   {
    "duration": 726,
    "start_time": "2021-11-18T18:32:08.841Z"
   },
   {
    "duration": 1105,
    "start_time": "2021-11-19T16:22:38.035Z"
   },
   {
    "duration": 3,
    "start_time": "2021-11-19T16:22:39.142Z"
   },
   {
    "duration": 338,
    "start_time": "2021-11-19T16:22:39.146Z"
   },
   {
    "duration": 13,
    "start_time": "2021-11-19T16:22:39.487Z"
   },
   {
    "duration": 28,
    "start_time": "2021-11-19T16:22:39.502Z"
   },
   {
    "duration": 29,
    "start_time": "2021-11-19T16:22:39.532Z"
   },
   {
    "duration": 9,
    "start_time": "2021-11-19T16:22:39.563Z"
   },
   {
    "duration": 3,
    "start_time": "2021-11-19T16:22:39.575Z"
   },
   {
    "duration": 15,
    "start_time": "2021-11-19T16:22:39.580Z"
   },
   {
    "duration": 6,
    "start_time": "2021-11-19T16:22:39.597Z"
   },
   {
    "duration": 11,
    "start_time": "2021-11-19T16:22:39.605Z"
   },
   {
    "duration": 28,
    "start_time": "2021-11-19T16:22:39.618Z"
   },
   {
    "duration": 11,
    "start_time": "2021-11-19T16:22:39.648Z"
   },
   {
    "duration": 4,
    "start_time": "2021-11-19T16:22:39.660Z"
   },
   {
    "duration": 9,
    "start_time": "2021-11-19T16:22:39.665Z"
   },
   {
    "duration": 35,
    "start_time": "2021-11-19T16:22:39.675Z"
   },
   {
    "duration": 8,
    "start_time": "2021-11-19T16:22:39.712Z"
   },
   {
    "duration": 25,
    "start_time": "2021-11-19T16:22:39.745Z"
   },
   {
    "duration": 19,
    "start_time": "2021-11-19T16:22:39.772Z"
   },
   {
    "duration": 8,
    "start_time": "2021-11-19T16:22:39.793Z"
   },
   {
    "duration": 10,
    "start_time": "2021-11-19T16:22:39.803Z"
   },
   {
    "duration": 43,
    "start_time": "2021-11-19T16:22:39.815Z"
   },
   {
    "duration": 8,
    "start_time": "2021-11-19T16:22:39.862Z"
   },
   {
    "duration": 6,
    "start_time": "2021-11-19T16:22:39.872Z"
   },
   {
    "duration": 30,
    "start_time": "2021-11-19T16:22:39.880Z"
   },
   {
    "duration": 37,
    "start_time": "2021-11-19T16:22:39.911Z"
   },
   {
    "duration": 8,
    "start_time": "2021-11-19T16:22:39.950Z"
   },
   {
    "duration": 26,
    "start_time": "2021-11-19T16:22:39.960Z"
   },
   {
    "duration": 2,
    "start_time": "2021-11-19T16:22:39.988Z"
   },
   {
    "duration": 10,
    "start_time": "2021-11-19T16:22:39.991Z"
   },
   {
    "duration": 104,
    "start_time": "2021-11-19T16:22:40.002Z"
   },
   {
    "duration": 12,
    "start_time": "2021-11-19T16:22:40.108Z"
   },
   {
    "duration": 25,
    "start_time": "2021-11-19T16:22:40.121Z"
   },
   {
    "duration": 14,
    "start_time": "2021-11-19T16:22:40.148Z"
   },
   {
    "duration": 12,
    "start_time": "2021-11-19T16:22:40.163Z"
   },
   {
    "duration": 2,
    "start_time": "2021-11-19T16:22:40.177Z"
   },
   {
    "duration": 9,
    "start_time": "2021-11-19T16:22:40.181Z"
   },
   {
    "duration": 8,
    "start_time": "2021-11-19T16:22:40.191Z"
   },
   {
    "duration": 8,
    "start_time": "2021-11-19T16:22:40.201Z"
   },
   {
    "duration": 8,
    "start_time": "2021-11-19T16:22:40.245Z"
   },
   {
    "duration": 17,
    "start_time": "2021-11-19T16:22:40.255Z"
   },
   {
    "duration": 4,
    "start_time": "2021-11-19T16:22:40.273Z"
   },
   {
    "duration": 7,
    "start_time": "2021-11-19T16:22:40.279Z"
   },
   {
    "duration": 12,
    "start_time": "2021-11-19T16:22:40.288Z"
   },
   {
    "duration": 3,
    "start_time": "2021-11-19T16:22:40.302Z"
   },
   {
    "duration": 45,
    "start_time": "2021-11-19T16:22:40.307Z"
   },
   {
    "duration": 13,
    "start_time": "2021-11-19T16:22:40.353Z"
   },
   {
    "duration": 76,
    "start_time": "2021-11-19T16:22:40.368Z"
   },
   {
    "duration": 14,
    "start_time": "2021-11-19T16:22:40.446Z"
   },
   {
    "duration": 22,
    "start_time": "2021-11-19T16:22:40.462Z"
   },
   {
    "duration": 13,
    "start_time": "2021-11-19T16:22:40.485Z"
   },
   {
    "duration": 50,
    "start_time": "2021-11-19T16:22:40.499Z"
   },
   {
    "duration": 2,
    "start_time": "2021-11-19T16:22:40.551Z"
   },
   {
    "duration": 733,
    "start_time": "2021-11-19T16:22:40.555Z"
   },
   {
    "duration": 6,
    "start_time": "2021-11-19T16:22:41.289Z"
   },
   {
    "duration": 16,
    "start_time": "2021-11-19T16:22:41.297Z"
   },
   {
    "duration": 31,
    "start_time": "2021-11-19T16:22:41.315Z"
   },
   {
    "duration": 17,
    "start_time": "2021-11-19T16:22:41.347Z"
   },
   {
    "duration": 31,
    "start_time": "2021-11-19T16:22:41.366Z"
   },
   {
    "duration": 15,
    "start_time": "2021-11-19T16:22:41.399Z"
   },
   {
    "duration": 6,
    "start_time": "2021-11-19T16:22:41.416Z"
   },
   {
    "duration": 6,
    "start_time": "2021-11-19T16:22:41.424Z"
   },
   {
    "duration": 1527,
    "start_time": "2022-02-14T14:53:09.479Z"
   },
   {
    "duration": 4,
    "start_time": "2022-02-14T14:53:11.009Z"
   },
   {
    "duration": 422,
    "start_time": "2022-02-14T14:53:11.016Z"
   },
   {
    "duration": 14,
    "start_time": "2022-02-14T14:53:11.441Z"
   },
   {
    "duration": 37,
    "start_time": "2022-02-14T14:53:11.458Z"
   },
   {
    "duration": 28,
    "start_time": "2022-02-14T14:53:11.497Z"
   },
   {
    "duration": 35,
    "start_time": "2022-02-14T14:53:11.527Z"
   },
   {
    "duration": 4,
    "start_time": "2022-02-14T14:53:11.566Z"
   },
   {
    "duration": 27,
    "start_time": "2022-02-14T14:53:11.573Z"
   },
   {
    "duration": 10,
    "start_time": "2022-02-14T14:53:11.603Z"
   },
   {
    "duration": 61,
    "start_time": "2022-02-14T14:53:11.616Z"
   },
   {
    "duration": 11,
    "start_time": "2022-02-14T14:53:11.679Z"
   },
   {
    "duration": 14,
    "start_time": "2022-02-14T14:53:11.692Z"
   },
   {
    "duration": 5,
    "start_time": "2022-02-14T14:53:11.709Z"
   },
   {
    "duration": 51,
    "start_time": "2022-02-14T14:53:11.716Z"
   },
   {
    "duration": 50,
    "start_time": "2022-02-14T14:53:11.769Z"
   },
   {
    "duration": 11,
    "start_time": "2022-02-14T14:53:11.822Z"
   },
   {
    "duration": 37,
    "start_time": "2022-02-14T14:53:11.858Z"
   },
   {
    "duration": 27,
    "start_time": "2022-02-14T14:53:11.897Z"
   },
   {
    "duration": 4,
    "start_time": "2022-02-14T14:53:11.927Z"
   },
   {
    "duration": 15,
    "start_time": "2022-02-14T14:53:11.960Z"
   },
   {
    "duration": 29,
    "start_time": "2022-02-14T14:53:11.978Z"
   },
   {
    "duration": 23,
    "start_time": "2022-02-14T14:53:12.014Z"
   },
   {
    "duration": 9,
    "start_time": "2022-02-14T14:53:12.061Z"
   },
   {
    "duration": 50,
    "start_time": "2022-02-14T14:53:12.073Z"
   },
   {
    "duration": 49,
    "start_time": "2022-02-14T14:53:12.126Z"
   },
   {
    "duration": 9,
    "start_time": "2022-02-14T14:53:12.178Z"
   },
   {
    "duration": 33,
    "start_time": "2022-02-14T14:53:12.190Z"
   },
   {
    "duration": 4,
    "start_time": "2022-02-14T14:53:12.258Z"
   },
   {
    "duration": 12,
    "start_time": "2022-02-14T14:53:12.265Z"
   },
   {
    "duration": 48,
    "start_time": "2022-02-14T14:53:12.281Z"
   },
   {
    "duration": 21,
    "start_time": "2022-02-14T14:53:12.360Z"
   },
   {
    "duration": 15,
    "start_time": "2022-02-14T14:53:12.384Z"
   },
   {
    "duration": 16,
    "start_time": "2022-02-14T14:53:12.402Z"
   },
   {
    "duration": 16,
    "start_time": "2022-02-14T14:53:12.459Z"
   },
   {
    "duration": 6,
    "start_time": "2022-02-14T14:53:12.477Z"
   },
   {
    "duration": 11,
    "start_time": "2022-02-14T14:53:12.485Z"
   },
   {
    "duration": 12,
    "start_time": "2022-02-14T14:53:12.499Z"
   },
   {
    "duration": 11,
    "start_time": "2022-02-14T14:53:12.559Z"
   },
   {
    "duration": 12,
    "start_time": "2022-02-14T14:53:12.572Z"
   },
   {
    "duration": 19,
    "start_time": "2022-02-14T14:53:12.587Z"
   },
   {
    "duration": 50,
    "start_time": "2022-02-14T14:53:12.609Z"
   },
   {
    "duration": 14,
    "start_time": "2022-02-14T14:53:12.663Z"
   },
   {
    "duration": 17,
    "start_time": "2022-02-14T14:53:12.680Z"
   },
   {
    "duration": 5,
    "start_time": "2022-02-14T14:53:12.701Z"
   },
   {
    "duration": 50,
    "start_time": "2022-02-14T14:53:12.709Z"
   },
   {
    "duration": 10,
    "start_time": "2022-02-14T14:53:12.762Z"
   },
   {
    "duration": 103,
    "start_time": "2022-02-14T14:53:12.774Z"
   },
   {
    "duration": 22,
    "start_time": "2022-02-14T14:53:12.880Z"
   },
   {
    "duration": 64,
    "start_time": "2022-02-14T14:53:12.905Z"
   },
   {
    "duration": 20,
    "start_time": "2022-02-14T14:53:12.971Z"
   },
   {
    "duration": 31,
    "start_time": "2022-02-14T14:53:12.994Z"
   },
   {
    "duration": 32,
    "start_time": "2022-02-14T14:53:13.027Z"
   },
   {
    "duration": 1245,
    "start_time": "2022-02-14T14:53:13.061Z"
   },
   {
    "duration": 9,
    "start_time": "2022-02-14T14:53:14.308Z"
   },
   {
    "duration": 42,
    "start_time": "2022-02-14T14:53:14.319Z"
   },
   {
    "duration": 29,
    "start_time": "2022-02-14T14:53:14.364Z"
   },
   {
    "duration": 19,
    "start_time": "2022-02-14T14:53:14.396Z"
   },
   {
    "duration": 59,
    "start_time": "2022-02-14T14:53:14.418Z"
   },
   {
    "duration": 26,
    "start_time": "2022-02-14T14:53:14.479Z"
   },
   {
    "duration": 11,
    "start_time": "2022-02-14T14:53:14.508Z"
   },
   {
    "duration": 38,
    "start_time": "2022-02-14T14:53:14.522Z"
   }
  ],
  "kernelspec": {
   "display_name": "Python 3 (ipykernel)",
   "language": "python",
   "name": "python3"
  },
  "language_info": {
   "codemirror_mode": {
    "name": "ipython",
    "version": 3
   },
   "file_extension": ".py",
   "mimetype": "text/x-python",
   "name": "python",
   "nbconvert_exporter": "python",
   "pygments_lexer": "ipython3",
   "version": "3.9.7"
  },
  "toc": {
   "base_numbering": 1,
   "nav_menu": {},
   "number_sections": true,
   "sideBar": true,
   "skip_h1_title": true,
   "title_cell": "Table of Contents",
   "title_sidebar": "Contents",
   "toc_cell": false,
   "toc_position": {},
   "toc_section_display": true,
   "toc_window_display": false
  }
 },
 "nbformat": 4,
 "nbformat_minor": 2
}
